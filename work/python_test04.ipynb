{
  "nbformat": 4,
  "nbformat_minor": 0,
  "metadata": {
    "colab": {
      "provenance": [],
      "authorship_tag": "ABX9TyPKVYuoktd4fuWHikq1Ol4u",
      "include_colab_link": true
    },
    "kernelspec": {
      "name": "python3",
      "display_name": "Python 3"
    },
    "language_info": {
      "name": "python"
    }
  },
  "cells": [
    {
      "cell_type": "markdown",
      "metadata": {
        "id": "view-in-github",
        "colab_type": "text"
      },
      "source": [
        "<a href=\"https://colab.research.google.com/github/LuSiEDa/prac/blob/main/work/python_test04.ipynb\" target=\"_parent\"><img src=\"https://colab.research.google.com/assets/colab-badge.svg\" alt=\"Open In Colab\"/></a>"
      ]
    },
    {
      "cell_type": "code",
      "execution_count": 1,
      "metadata": {
        "id": "KqX-vNbfg3Zn",
        "colab": {
          "base_uri": "https://localhost:8080/"
        },
        "outputId": "30253fd2-9b86-45b8-eda2-fed984b4a5ac"
      },
      "outputs": [
        {
          "output_type": "stream",
          "name": "stdout",
          "text": [
            "양파를 2개 수확했습니다.\n",
            "대파를 수확했습니다.\n"
          ]
        }
      ],
      "source": [
        "# 함수\n",
        "\n",
        "def 양파():\n",
        "    print(\"양파를 2개 수확했습니다.\")\n",
        "def 대파():\n",
        "    print(\"대파를 수확했습니다.\")\n",
        "# 함수 호출하기\n",
        "양파()\n",
        "대파()\n"
      ]
    },
    {
      "cell_type": "code",
      "source": [
        "def function(x, y):\n",
        "    z = x + y\n",
        "    return z\n",
        "\n",
        "print(\"옥수수와 수박의 수확량 :\",function(10, 2))"
      ],
      "metadata": {
        "colab": {
          "base_uri": "https://localhost:8080/"
        },
        "id": "erapgAX8oHIE",
        "outputId": "6eeda2a4-02ee-4ada-9ac0-d0491b83de28"
      },
      "execution_count": 4,
      "outputs": [
        {
          "output_type": "stream",
          "name": "stdout",
          "text": [
            "옥수수와 수박의 수확량 : 12\n"
          ]
        }
      ]
    },
    {
      "cell_type": "code",
      "source": [
        "def 계산(가격, 개수):\n",
        "    return 가격 * 개수\n",
        "print(계산(1000, 5), \"원입니다.\")"
      ],
      "metadata": {
        "colab": {
          "base_uri": "https://localhost:8080/"
        },
        "id": "X6J24FexrZUA",
        "outputId": "7dcc22d2-ccaf-40d6-f5be-7fc377310214"
      },
      "execution_count": 5,
      "outputs": [
        {
          "output_type": "stream",
          "name": "stdout",
          "text": [
            "5000 원입니다.\n"
          ]
        }
      ]
    },
    {
      "cell_type": "code",
      "source": [
        "a = 100\n",
        "\n",
        "def f():\n",
        "    global a\n",
        "    a = a + 1\n",
        "    return a\n",
        "\n",
        "f()"
      ],
      "metadata": {
        "colab": {
          "base_uri": "https://localhost:8080/"
        },
        "id": "1AR5mR7bsF25",
        "outputId": "e89756f2-45b0-4d73-ce32-1c4b3774b895"
      },
      "execution_count": 7,
      "outputs": [
        {
          "output_type": "execute_result",
          "data": {
            "text/plain": [
              "101"
            ]
          },
          "metadata": {},
          "execution_count": 7
        }
      ]
    },
    {
      "cell_type": "code",
      "source": [
        "won = {\"A등급\":1000, \"B등급\":500, \"C등급\":100}\n",
        "\n",
        "def 계산(a, b, c):\n",
        "    합계 = won[\"A등급\"] * a + won[\"B등급\"] * b + won[\"C등급\"] * c\n",
        "    return 합계\n",
        "\n",
        "print(계산(5, 2, 3), \"원입니다.\")"
      ],
      "metadata": {
        "colab": {
          "base_uri": "https://localhost:8080/"
        },
        "id": "GCSfX9UxszCc",
        "outputId": "12e0b994-a1fc-4129-a9d1-52153413347a"
      },
      "execution_count": 10,
      "outputs": [
        {
          "output_type": "stream",
          "name": "stdout",
          "text": [
            "6300 원입니다.\n"
          ]
        }
      ]
    },
    {
      "cell_type": "code",
      "source": [
        "# 상수\n",
        "\n",
        "pi = 3.14         # 전역 변수, 상수\n",
        "\n",
        "def circle(r, inputpi):         # inputpi는 매개변수(지역 변수)\n",
        "    z = r*r*inputpi             # 지역 변수들만 사용\n",
        "    return z\n",
        "\n",
        "result =circle(10, pi)          # 전역 변수 pi를 함수에 전달\n",
        "print(result)\n",
        "\n",
        "# 관례적으로 변경하지 않을 값은 대문자로 씀. (예: Pi = 3.14)\n",
        "# 지역변수로 설정된 inputpi는 그저 파라미터일뿐. 함수안에서만 살아있고 함수가 끝나면 사라진다.\n",
        "# result = circle(10, pi)\n",
        "# -> 함수는 바깥에 변수 pi를 건드리지 않음. result 변수를 통해 값을 받아 함수안에 r, inputpi에 집어넣는 역할.\n"
      ],
      "metadata": {
        "colab": {
          "base_uri": "https://localhost:8080/"
        },
        "id": "_6n5gMNPt947",
        "outputId": "bd39e0dd-e559-487b-957f-958b53845929"
      },
      "execution_count": 11,
      "outputs": [
        {
          "output_type": "stream",
          "name": "stdout",
          "text": [
            "314.0\n"
          ]
        }
      ]
    },
    {
      "cell_type": "code",
      "source": [
        "# 중첩 함수\n",
        "\n",
        "def print_text():\n",
        "    text = \"콩콩팥팥 수확의 기쁨\"\n",
        "    def txt():\n",
        "        print(text)\n",
        "    txt()\n",
        "print_text()\n",
        "\n",
        "\n",
        "# print_text() 함수가 정의됨  -> 맨밑에서 호출 (비로소 실행 시작)\n",
        "# 변수 text가 선언됨 -> 내부 함수 txt()가 정의됨\n",
        "# txt(): 내부 함수 실행\n",
        "# txt는 바깥쪽 함수 print_text()의 지역 변수. '클로저'라고 부름.\n",
        "# 함수 안에 함수는 내부 함수가 외부 함수에 지역 변수에 접근 가능\n"
      ],
      "metadata": {
        "id": "H53TgBgbx630"
      },
      "execution_count": null,
      "outputs": []
    },
    {
      "cell_type": "code",
      "source": [
        "def 수확철():\n",
        "    야채 = {\"A등급\":0, \"B등급\":0, \"C등급\":0}\n",
        "\n",
        "    def 양파():\n",
        "        야채[\"A등급\"] +=1\n",
        "\n",
        "    def 대파():\n",
        "        야채[\"A등급\"] += 3\n",
        "        야채[\"B등급\"] += 3\n",
        "        야채[\"C등급\"] += 4\n",
        "    def 쪽파():\n",
        "        야채[\"금\"] = 1\n",
        "\n",
        "    양파()\n",
        "    대파()\n",
        "    쪽파()\n",
        "\n",
        "    return 야채\n",
        "\n",
        "수확철()\n",
        "\n",
        "# sum(수확철().values()"
      ],
      "metadata": {
        "colab": {
          "base_uri": "https://localhost:8080/"
        },
        "id": "Mk1NpaEZy1Mq",
        "outputId": "21e7b336-f862-483e-af87-aaaa1fa67702"
      },
      "execution_count": 12,
      "outputs": [
        {
          "output_type": "execute_result",
          "data": {
            "text/plain": [
              "{'A등급': 4, 'B등급': 3, 'C등급': 4, '금': 1}"
            ]
          },
          "metadata": {},
          "execution_count": 12
        }
      ]
    },
    {
      "cell_type": "code",
      "source": [
        "# class\n",
        "\n",
        "#class 클래스 이름:\n",
        "#    del 매서드(slef):\n",
        "#        코드\n",
        "\n",
        "\n",
        "class person:\n",
        "    def hello(slef):\n",
        "        print(\"수강생 여러분\")\n",
        "\n",
        "호출 = person() # 인스턴스\n",
        "호출.hello()\n",
        "\n",
        "# self는 인스턴스 자기자신. 짜여진 코드 안에서 한 단계 두 단계 완성되어감.\n"
      ],
      "metadata": {
        "colab": {
          "base_uri": "https://localhost:8080/"
        },
        "id": "UHtnLALO3z38",
        "outputId": "7905e4d2-cec3-47f4-a7fc-bc9e07d8096f"
      },
      "execution_count": 13,
      "outputs": [
        {
          "output_type": "stream",
          "name": "stdout",
          "text": [
            "수강생 여러분\n"
          ]
        }
      ]
    },
    {
      "cell_type": "code",
      "source": [
        "class person:\n",
        "    def __init__(self, name, age, address):\n",
        "        self.hello = \"안녕하세요\"\n",
        "        self.name = name\n",
        "        self.age = age\n",
        "        self.address = address\n",
        "\n",
        "    def greeting(self):\n",
        "        print('{0} 저는 {1}입니다.'.format(self.hello, self.name))\n",
        "\n",
        "maria = person(\"마리아\", 20, \"서울시 서초구 반포동\")\n",
        "maria.greeting()   # 안녕하세요 저는 마리아입니다.\n",
        "\n",
        "print(\"이름:\", maria.name)\n",
        "print(\"나이:\", maria.age)\n",
        "print(\"주소:\", maria.address)"
      ],
      "metadata": {
        "colab": {
          "base_uri": "https://localhost:8080/"
        },
        "id": "D0Nq-xab6-6O",
        "outputId": "dd81c651-675b-4f4f-8aed-d7dd62e9209b"
      },
      "execution_count": 16,
      "outputs": [
        {
          "output_type": "stream",
          "name": "stdout",
          "text": [
            "안녕하세요 저는 마리아입니다.\n",
            "이름: 마리아\n",
            "나이: 20\n",
            "주소: 서울시 서초구 반포동\n"
          ]
        }
      ]
    },
    {
      "cell_type": "code",
      "source": [
        "# 클래스의 상속\n",
        "# 기반 클래스 -> 파생 클래스\n",
        "\n",
        "class Car(object):\n",
        "    maxspeed = 300\n",
        "    maxpeople = 5\n",
        "    def move(self, x):\n",
        "        print(\"스피드로 달리고 있습니다.\")\n",
        "    def stop(self):\n",
        "        print(\"멈췄습니다.\")\n",
        "\n",
        "class HybridCar(Car):\n",
        "    battery = 1000\n",
        "    batteryKM = 300\n",
        "\n",
        "class ElectricCar(HybridCar):\n",
        "    battery = 1000\n",
        "    batteryKM = 300\n",
        "    def move(self, x):\n",
        "        print(self.batteryKM, \"만큼 달릴 수 있습니다.\")\n",
        "        print(x, \"스피드로 달리고 있습니다.\")\n",
        "\n",
        "k5 = HybridCar()\n",
        "# k5.maxpeople\n",
        "\n",
        "electricCark5 = ElectricCar()\n",
        "electricCark5.maxspeed\n",
        "\n",
        "\n",
        "\n"
      ],
      "metadata": {
        "colab": {
          "base_uri": "https://localhost:8080/"
        },
        "id": "1C6dmNh886Rm",
        "outputId": "8efdb08a-4a69-434e-a69d-0940d4125154"
      },
      "execution_count": 21,
      "outputs": [
        {
          "output_type": "execute_result",
          "data": {
            "text/plain": [
              "300"
            ]
          },
          "metadata": {},
          "execution_count": 21
        }
      ]
    },
    {
      "cell_type": "code",
      "source": [
        "y = [10, 20, 30]\n",
        "\n",
        "try:\n",
        "    index, x = map(int, input(\"나눌 숫자를 입력하세요:\").split(\",\"))\n",
        "    print(y[index]/x)\n",
        "    # raise <- 에러 발생시키기\n",
        "\n",
        "except ZeroDivisionError:\n",
        "    print(\"숫자를 0으로 나눌 수 없습니다.\")\n",
        "\n",
        "except IndexError:\n",
        "    print(\"잘못된 인덱스입니다.\")\n",
        "\n",
        "else:\n",
        "    print(\"성공하셨습니다.\")\n",
        "\n",
        "finally:\n",
        "    print(\"코드 실행이 종료되었습니다.\")"
      ],
      "metadata": {
        "colab": {
          "base_uri": "https://localhost:8080/"
        },
        "id": "ukjUKG6PUuri",
        "outputId": "057cfe88-b292-46dd-9ac1-d0b94c8f0c58"
      },
      "execution_count": 25,
      "outputs": [
        {
          "output_type": "stream",
          "name": "stdout",
          "text": [
            "나눌 숫자를 입력하세요:2,10\n",
            "3.0\n"
          ]
        }
      ]
    },
    {
      "cell_type": "code",
      "source": [
        "# 파일 입출력\n",
        "\n",
        "# 웹 -> 크롤링 -> 데이터베이스 -> 1차 클렌징 -> 출력 후 담당자에게 전달\n",
        "\n",
        "# 그 후 2차 클렌징 -> 유용한 데이터셋 -> csv 데이터베이스 입력 -> 인공지능 학습\n",
        "\n",
        "# r- 읽기, w- 덮어쓰기, a- 추가\n",
        "\n",
        "# f = open('test.txt','w')\n",
        "# 메시지 = ''\n",
        "# f.write('''개발자 여러분''')\n",
        "# f.close()\n",
        "\n",
        "#for i in range(10)\n",
        "    # 메시지 += \"개발자 여러분₩n\"\n",
        "\n"
      ],
      "metadata": {
        "id": "KhEAkWz8W1zg"
      },
      "execution_count": null,
      "outputs": []
    }
  ]
}