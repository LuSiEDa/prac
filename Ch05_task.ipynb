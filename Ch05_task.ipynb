{
  "cells": [
    {
      "cell_type": "markdown",
      "metadata": {
        "id": "view-in-github",
        "colab_type": "text"
      },
      "source": [
        "<a href=\"https://colab.research.google.com/github/LuSiEDa/prac/blob/main/Ch05_task.ipynb\" target=\"_parent\"><img src=\"https://colab.research.google.com/assets/colab-badge.svg\" alt=\"Open In Colab\"/></a>"
      ]
    },
    {
      "cell_type": "markdown",
      "metadata": {
        "id": "96JF1CAsD4bj"
      },
      "source": [
        "<span style=\"font-size:100%\">\n",
        "\n",
        "수업은 모두 열심히 들으셨나요?\n",
        "\n",
        "간혹 강의에서 언급되지 않은 내용이 문제로 나올 수 있습니다.<br>\n",
        "그럴땐 강의 내용 외 문제는 구글링을 통해 해결해주세요<br></span>\n",
        "<span style=\"font-size:80%\">\n",
        "(구글링 또한 개발자가 갖쳐야할 역량 중에 하나랍니다 😊)\n",
        "</span>\n",
        "\n",
        "---"
      ]
    },
    {
      "cell_type": "markdown",
      "metadata": {
        "id": "hZDhRT_WD4bk"
      },
      "source": [
        "### Chapter05 : `Python 변수에 대한 개념 복습하기`"
      ]
    },
    {
      "cell_type": "markdown",
      "metadata": {
        "id": "R-PuQIcSD4bl"
      },
      "source": [
        "<span style=\"font-size:80%\">[문제1]<br><br></span>\n",
        "```Python으로 변수를 생성하는 방법으로 올바른 것을 고르세요```\n",
        "\n",
        "1. number == 20\n",
        "2. 100 == number\n",
        "3. number(7)\n",
        "4. number = 7"
      ]
    },
    {
      "cell_type": "markdown",
      "metadata": {
        "id": "Kr83mKMnD4bl"
      },
      "source": [
        "<span style=\"color:red\">답변</span>"
      ]
    },
    {
      "cell_type": "markdown",
      "metadata": {
        "id": "f56pprmzD4bm"
      },
      "source": [
        "4번"
      ]
    },
    {
      "cell_type": "markdown",
      "metadata": {
        "id": "KVfeTGuBD4bm"
      },
      "source": [
        "----"
      ]
    },
    {
      "cell_type": "markdown",
      "metadata": {
        "id": "GgaNnq4zD4bm"
      },
      "source": [
        "<span style=\"font-size:80%\">[문제2]<br><br></span>\n",
        "```다음 중 올바르지 않은 것을 골라주세요```\n",
        "\n",
        "이름 = \"김오즈\"<br>\n",
        "나이 = 14<br>\n",
        "소속 = \"마법중\"<br>\n",
        "등급 = 3<br>\n",
        "\n",
        "1. 이름 + 소속\n",
        "2. 나이 + 등급\n",
        "3. 소속 + 등급"
      ]
    },
    {
      "cell_type": "markdown",
      "metadata": {
        "id": "v0wqNBkTD4bm"
      },
      "source": [
        "<span style=\"color:red\">답변</span>"
      ]
    },
    {
      "cell_type": "markdown",
      "metadata": {
        "id": "D35n421SD4bn"
      },
      "source": [
        "3번입니다!    \n",
        " 문자열 + 문자열 = 쌉가능, 숫자 + 숫자 = 쌉가능\n",
        "문자열 + 숫자 = 댓츠 노노"
      ]
    },
    {
      "cell_type": "markdown",
      "metadata": {
        "id": "fy67afNfD4bn"
      },
      "source": [
        "----"
      ]
    },
    {
      "cell_type": "markdown",
      "metadata": {
        "id": "0XlYqJJ2D4bn"
      },
      "source": [
        "<span style=\"font-size:80%\">[문제3]<br><br></span>\n",
        "```아래 변수의 type으로 올바른것을 골라주세요```\n",
        "\n",
        "퀴즈 = \"스페인에서 카리나를 보고 하는 말은?\"<br>\n",
        "type(퀴즈)"
      ]
    },
    {
      "cell_type": "markdown",
      "metadata": {
        "id": "VZt2cur-D4bn"
      },
      "source": [
        "<span style=\"color:red\">답변</span>"
      ]
    },
    {
      "cell_type": "markdown",
      "metadata": {
        "id": "3Gne7J7xD4bn"
      },
      "source": [
        "str"
      ]
    },
    {
      "cell_type": "markdown",
      "metadata": {
        "id": "sU1BVqSnD4bn"
      },
      "source": [
        "----"
      ]
    },
    {
      "cell_type": "markdown",
      "metadata": {
        "id": "m3NdfgyOD4bo"
      },
      "source": [
        "<span style=\"font-size:80%\">[문제4]<br><br></span>\n",
        "```다음 중 변수 이름으로 사용할 수 없는 것을 모두 골라주세요```\n",
        "\n",
        "1. 78abc\n",
        "2. ABC\n",
        "3. _ABC\n",
        "4. _hello%2\n",
        "5. for"
      ]
    },
    {
      "cell_type": "markdown",
      "metadata": {
        "id": "CpcPJK6QD4bo"
      },
      "source": [
        "<span style=\"color:red\">답변</span>"
      ]
    },
    {
      "cell_type": "markdown",
      "metadata": {
        "id": "SJ9cBmHQD4bo"
      },
      "source": [
        "1번 : 숫자로 시작할 수 없음\n",
        "\n",
        "5번 : 이미 존재하는 커맨드를 변수로 할 수 없음"
      ]
    },
    {
      "cell_type": "markdown",
      "metadata": {
        "id": "efwyjKsSD4bo"
      },
      "source": [
        "----"
      ]
    },
    {
      "cell_type": "markdown",
      "metadata": {
        "id": "x9xGJv9uD4bo"
      },
      "source": [
        "<span style=\"font-size:80%\">[문제5]<br><br></span>\n",
        "```다음 중 변수와 연산자의 사용 방법으로 올바르지 않은 것을 모두 골라주세요```\n",
        "\n",
        "x = 3\n",
        "y = 7\n",
        "\n",
        "1. x = x + y\n",
        "2. x // 2\n",
        "3. z >< x\n",
        "4. y += x\n",
        "5. ++x"
      ]
    },
    {
      "cell_type": "markdown",
      "metadata": {
        "id": "pkdENjdJD4bo"
      },
      "source": [
        "<span style=\"color:red\">답변</span>"
      ]
    },
    {
      "cell_type": "markdown",
      "metadata": {
        "id": "iHRvm1TgD4bo"
      },
      "source": [
        "3번\n",
        "5번"
      ]
    },
    {
      "cell_type": "markdown",
      "metadata": {
        "id": "18rN4ZndD4bo"
      },
      "source": [
        "----"
      ]
    },
    {
      "cell_type": "markdown",
      "metadata": {
        "id": "-URbDHSzD4bo"
      },
      "source": [
        "### Chapter06 : `Python 자료형인 int와 float 개념 복습하기`"
      ]
    },
    {
      "cell_type": "markdown",
      "metadata": {
        "id": "JEDicAB7D4bo"
      },
      "source": [
        "<span style=\"font-size:80%\">[문제1]<br><br></span>\n",
        "```실수를 정수로 만드는 식으로 올바른 것을 고르세요```\n",
        "\n",
        "1. str(3.5)\n",
        "2. int(3.5)\n",
        "3. float(3.5)"
      ]
    },
    {
      "cell_type": "markdown",
      "metadata": {
        "id": "NEp-sUwYD4bo"
      },
      "source": [
        "<span style=\"color:red\">답변</span>"
      ]
    },
    {
      "cell_type": "markdown",
      "metadata": {
        "id": "Q9imCod5D4bo"
      },
      "source": [
        "2번"
      ]
    },
    {
      "cell_type": "markdown",
      "metadata": {
        "id": "D96slbp8D4bp"
      },
      "source": [
        "----"
      ]
    },
    {
      "cell_type": "markdown",
      "metadata": {
        "id": "ZiCbgTszD4bp"
      },
      "source": [
        "<span style=\"font-size:80%\">[문제2]<br><br></span>\n",
        "```실수 3.5의 type과 동일한 것을 고르세요```\n",
        "\n",
        "1. float(17//3)\n",
        "2. int(10)-9\n",
        "3. float11/2\n",
        "4. float(10)-2"
      ]
    },
    {
      "cell_type": "markdown",
      "metadata": {
        "id": "F-X4hNjbD4bp"
      },
      "source": [
        "<span style=\"color:red\">답변</span>"
      ]
    },
    {
      "cell_type": "markdown",
      "metadata": {
        "id": "WFZq_V3ID4bp"
      },
      "source": [
        "아마도 3번? 문제에 이상이 있는 거 같습니다..."
      ]
    },
    {
      "cell_type": "markdown",
      "metadata": {
        "id": "ZP0iECuID4bp"
      },
      "source": [
        "----"
      ]
    },
    {
      "cell_type": "markdown",
      "metadata": {
        "id": "VIvFymFED4bp"
      },
      "source": []
    },
    {
      "cell_type": "markdown",
      "metadata": {
        "id": "LqiZGkXqD4bp"
      },
      "source": [
        "<span style=\"font-size:80%\">[문제3]<br><br></span>\n",
        "```type(3.0 + 7.0)의 결과로 올바른 것을 고르세요```\n",
        "\n",
        "1. 10\n",
        "2. 10.0\n",
        "3. int\n",
        "4. float"
      ]
    },
    {
      "cell_type": "markdown",
      "metadata": {
        "id": "Ke_93ywlD4bp"
      },
      "source": [
        "<span style=\"color:red\">답변</span>"
      ]
    },
    {
      "cell_type": "markdown",
      "metadata": {
        "id": "ZlHxTYLGD4bp"
      },
      "source": [
        "4번"
      ]
    },
    {
      "cell_type": "markdown",
      "metadata": {
        "id": "_g_pCjGlD4bp"
      },
      "source": [
        "----"
      ]
    },
    {
      "cell_type": "markdown",
      "metadata": {
        "id": "cSzvX8WKD4bp"
      },
      "source": [
        "<span style=\"font-size:80%\">[문제4]<br><br></span>\n",
        "```float(5)의 결과로 올바른 것을 고르세요```\n",
        "\n",
        "1. 5\n",
        "2. `<class float>`\n",
        "3. 5.0\n",
        "4. type error"
      ]
    },
    {
      "cell_type": "markdown",
      "metadata": {
        "id": "Tl9UOK3gD4bp"
      },
      "source": [
        "<span style=\"color:red\">답변</span>"
      ]
    },
    {
      "cell_type": "markdown",
      "metadata": {
        "id": "H_7xJ6nND4bp"
      },
      "source": [
        "3번"
      ]
    },
    {
      "cell_type": "markdown",
      "metadata": {
        "id": "idRoQBTBD4bv"
      },
      "source": [
        "----"
      ]
    },
    {
      "cell_type": "markdown",
      "metadata": {
        "id": "QImWVNoDD4bv"
      },
      "source": [
        "<span style=\"font-size:80%\">[문제5]<br><br></span>\n",
        "```int(13 / 2)의 결과로 올바른 것을 고르세요```\n",
        "\n",
        "1. 6.5\n",
        "2. 1\n",
        "3. 6\n",
        "4. 6.0"
      ]
    },
    {
      "cell_type": "markdown",
      "metadata": {
        "id": "emwjSXuKD4bv"
      },
      "source": [
        "<span style=\"color:red\">답변</span>"
      ]
    },
    {
      "cell_type": "markdown",
      "metadata": {
        "id": "zZdMydlzD4bv"
      },
      "source": [
        "3번"
      ]
    },
    {
      "cell_type": "markdown",
      "metadata": {
        "id": "p8pqPx9HD4bv"
      },
      "source": [
        "----"
      ]
    },
    {
      "cell_type": "markdown",
      "metadata": {
        "id": "ZRFUhXsMD4bv"
      },
      "source": [
        "### Chapter07 : `Python 자료형인 str와 bool 개념 복습하기`"
      ]
    },
    {
      "cell_type": "markdown",
      "metadata": {
        "id": "L9cuAcN3D4bw"
      },
      "source": [
        "<span style=\"font-size:80%\">[문제1]<br><br></span>\n",
        "```변수 퀴즈에 들어있는 정답 \"어중이떠중이\"를 출력하기 위한 슬라이싱으로 올바른 것을 모두 골라주세요```\n",
        "\n",
        "퀴즈 = \"스님이 공중에 뜬다를 4글자로 말하면? 어중이떠중이\"\n",
        "\n",
        "1. print(퀴즈[22:27])\n",
        "2. print(퀴즈[22:])\n",
        "3. print(퀴즈[22:28])\n",
        "4. print(퀴즈[28])"
      ]
    },
    {
      "cell_type": "markdown",
      "metadata": {
        "id": "oFX5NO9wD4bw"
      },
      "source": [
        "<span style=\"color:red\">답변</span>"
      ]
    },
    {
      "cell_type": "markdown",
      "metadata": {
        "id": "Amxq9xkJD4bw"
      },
      "source": [
        "3번"
      ]
    },
    {
      "cell_type": "markdown",
      "metadata": {
        "id": "zIi5t0CRD4bw"
      },
      "source": [
        "----"
      ]
    },
    {
      "cell_type": "markdown",
      "metadata": {
        "id": "ETra0Y1OD4bw"
      },
      "source": [
        "<span style=\"font-size:80%\">[문제2]<br><br></span>\n",
        "```과일 변수에 들어있는 p의 개수를 구하는 코드로 올바른 것을 골라주세요```\n",
        "\n",
        "과일 = \"apple\"\n",
        "\n",
        "1. 과일.count('p')\n",
        "2. count(과일, 'p')\n",
        "3. 과일.index('p')\n",
        "4. count('p')"
      ]
    },
    {
      "cell_type": "markdown",
      "metadata": {
        "id": "ZcrTm1q4D4bw"
      },
      "source": [
        "<span style=\"color:red\">답변</span>"
      ]
    },
    {
      "cell_type": "markdown",
      "metadata": {
        "id": "MAuAZY5KD4bw"
      },
      "source": [
        "1번"
      ]
    },
    {
      "cell_type": "markdown",
      "metadata": {
        "id": "r2SC-cBtD4bw"
      },
      "source": [
        "----"
      ]
    },
    {
      "cell_type": "markdown",
      "metadata": {
        "id": "_tocEIu3D4bw"
      },
      "source": [
        "<span style=\"font-size:80%\">[문제3]<br><br></span>\n",
        "``` bool 타입에 해당하는 것만 골라주세요```\n",
        "\n",
        "1. true\n",
        "2. True\n",
        "3. False\n",
        "4. 0\n",
        "5. 1"
      ]
    },
    {
      "cell_type": "markdown",
      "metadata": {
        "id": "opCrrWdED4bw"
      },
      "source": [
        "<span style=\"color:red\">답변</span>"
      ]
    },
    {
      "cell_type": "markdown",
      "metadata": {
        "id": "PI7XJdwBD4bw"
      },
      "source": [
        "2번 3번"
      ]
    },
    {
      "cell_type": "markdown",
      "metadata": {
        "id": "2RHTNdzhD4bw"
      },
      "source": [
        "----"
      ]
    },
    {
      "cell_type": "markdown",
      "metadata": {
        "id": "MMcR31iaD4bw"
      },
      "source": [
        "<span style=\"font-size:80%\">[문제4]<br><br></span>\n",
        "```문자열의 길이를 구하는 방법으로 올바른 것을 고르세요```\n",
        "\n",
        "라라랜드 =  \"사람들은 다른 사람들의 열정에 끌리게 되어있어 자신이 잊은 걸 상기시켜 주니까\"\n",
        "\n",
        "1. 라라랜드.len()\n",
        "2. length(라라랜드)\n",
        "3. len(라라랜드)\n",
        "4. count(라라랜드)"
      ]
    },
    {
      "cell_type": "markdown",
      "metadata": {
        "id": "_QpP9xI4D4bw"
      },
      "source": [
        "<span style=\"color:red\">답변</span>"
      ]
    },
    {
      "cell_type": "markdown",
      "metadata": {
        "id": "v86fHoS9D4bw"
      },
      "source": [
        "3번"
      ]
    },
    {
      "cell_type": "markdown",
      "metadata": {
        "id": "lqkZ9r77D4bw"
      },
      "source": [
        "----"
      ]
    },
    {
      "cell_type": "markdown",
      "metadata": {
        "id": "5i-ZHFpaD4bx"
      },
      "source": [
        "### Chapter08 : `비교 연산자와 논리 연산자에 대해 복습해보기`"
      ]
    },
    {
      "cell_type": "markdown",
      "metadata": {
        "id": "1kMEmF4HD4bx"
      },
      "source": [
        "<span style=\"font-size:80%\">[문제1]<br><br></span>\n",
        "```비교 연산자의 결과로 올바르지 않은 것을 골라주세요```\n",
        "\n",
        "1. 8 == 2 * 4&emsp;&emsp;결과 : True\n",
        "2. 4 != 2 + 2&emsp;&emsp;결과 : False\n",
        "3. 2 * 3 is 3 + 3&emsp;&emsp;결과 : True\n",
        "4. 8 is 4 * 2.0&emsp;&emsp;결과 : True\n",
        "5. 5 is 6 - 1.1&emsp;&emsp;결과 : False"
      ]
    },
    {
      "cell_type": "markdown",
      "metadata": {
        "id": "HYU4etAPD4bx"
      },
      "source": [
        "<span style=\"color:red\">답변</span>"
      ]
    },
    {
      "cell_type": "markdown",
      "metadata": {
        "id": "J5po7VB3D4bx"
      },
      "source": [
        "4번"
      ]
    },
    {
      "cell_type": "markdown",
      "metadata": {
        "id": "ZyPAvO8vD4bx"
      },
      "source": [
        "----"
      ]
    },
    {
      "cell_type": "markdown",
      "metadata": {
        "id": "jsQJU0a7D4bx"
      },
      "source": [
        "<span style=\"font-size:80%\">[문제2]<br><br></span>\n",
        "```\"x는 5와 같지 않다\"라는 뜻과 동일한 것을 골라주세요```\n",
        "\n",
        "1. x <= 5\n",
        "2. x != 5\n",
        "3. x & 5\n",
        "4. x ! 5"
      ]
    },
    {
      "cell_type": "markdown",
      "metadata": {
        "id": "1qNLs42dD4bx"
      },
      "source": [
        "<span style=\"color:red\">답변</span>"
      ]
    },
    {
      "cell_type": "code",
      "execution_count": null,
      "metadata": {
        "vscode": {
          "languageId": "plaintext"
        },
        "id": "QLqbi4McD4bx"
      },
      "outputs": [],
      "source": [
        "2번"
      ]
    },
    {
      "cell_type": "markdown",
      "metadata": {
        "id": "aZne5XbHD4bx"
      },
      "source": [
        "----"
      ]
    },
    {
      "cell_type": "markdown",
      "metadata": {
        "id": "XaPC-1uXD4bx"
      },
      "source": [
        "<span style=\"font-size:80%\">[문제3]<br><br></span>\n",
        "```비교 연산자와 논리 연산자의 결과로 올바른 것을 모두 골라주세요```\n",
        "\n",
        "x = 10\n",
        "y = 20\n",
        "\n",
        "1. x == 10 or y == 10  결과 : False\n",
        "2. x >= 10 and y < 30  결과 : True\n",
        "3. not x == 10 결과 : False\n",
        "4. y != 20 or x != 10  결과 : True\n",
        "5. not y != 20 and x > 5  결과 : False"
      ]
    },
    {
      "cell_type": "markdown",
      "metadata": {
        "id": "QfpCdUHRD4bx"
      },
      "source": [
        "<span style=\"color:red\">답변</span>"
      ]
    },
    {
      "cell_type": "markdown",
      "metadata": {
        "id": "gyaSTWaED4by"
      },
      "source": [
        "4번"
      ]
    },
    {
      "cell_type": "markdown",
      "metadata": {
        "id": "tNxVtp8vD4by"
      },
      "source": [
        "----"
      ]
    },
    {
      "cell_type": "markdown",
      "metadata": {
        "id": "_ilN6YHZD4by"
      },
      "source": [
        "<span style=\"font-size:80%\">[문제4]<br><br></span>\n",
        "```'치맥' and True의 결과로 올바른 것을 골라주세요```\n",
        "\n",
        "1. False\n",
        "2. 아묻따\n",
        "3. True\n",
        "4. 치맥True"
      ]
    },
    {
      "cell_type": "markdown",
      "metadata": {
        "id": "ugrC7ouDD4by"
      },
      "source": [
        "<span style=\"color:red\">답변</span>"
      ]
    },
    {
      "cell_type": "markdown",
      "metadata": {
        "id": "BTG9HHrCD4by"
      },
      "source": [
        "3번"
      ]
    },
    {
      "cell_type": "markdown",
      "metadata": {
        "id": "sL2ZMj5hD4by"
      },
      "source": [
        "----"
      ]
    },
    {
      "cell_type": "markdown",
      "metadata": {
        "id": "q3Aqkoh9D4by"
      },
      "source": [
        "<span style=\"font-size:80%\">[문제5]<br><br></span>\n",
        "```논리 연산의 결과를 뒤집는 연산자를 골라주세요```\n",
        "\n",
        "1. is not\n",
        "2. not\n",
        "3. !=\n",
        "4. end\n",
        "5. and\n",
        "6. or"
      ]
    },
    {
      "cell_type": "markdown",
      "metadata": {
        "id": "7elY97OYD4by"
      },
      "source": [
        "<span style=\"color:red\">답변</span>"
      ]
    },
    {
      "cell_type": "markdown",
      "metadata": {
        "id": "WA-9lEz5D4by"
      },
      "source": [
        "2번"
      ]
    }
  ],
  "metadata": {
    "language_info": {
      "name": "python"
    },
    "colab": {
      "provenance": [],
      "include_colab_link": true
    },
    "kernelspec": {
      "name": "python3",
      "display_name": "Python 3"
    }
  },
  "nbformat": 4,
  "nbformat_minor": 0
}