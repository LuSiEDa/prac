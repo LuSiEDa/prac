{
  "nbformat": 4,
  "nbformat_minor": 0,
  "metadata": {
    "colab": {
      "provenance": [],
      "authorship_tag": "ABX9TyN/UnlWkIuqeW1SctQ0gMSD",
      "include_colab_link": true
    },
    "kernelspec": {
      "name": "python3",
      "display_name": "Python 3"
    },
    "language_info": {
      "name": "python"
    }
  },
  "cells": [
    {
      "cell_type": "markdown",
      "metadata": {
        "id": "view-in-github",
        "colab_type": "text"
      },
      "source": [
        "<a href=\"https://colab.research.google.com/github/LuSiEDa/prac/blob/main/work/Python_test05.ipynb\" target=\"_parent\"><img src=\"https://colab.research.google.com/assets/colab-badge.svg\" alt=\"Open In Colab\"/></a>"
      ]
    },
    {
      "cell_type": "code",
      "execution_count": 1,
      "metadata": {
        "colab": {
          "base_uri": "https://localhost:8080/"
        },
        "id": "jnLn-5gku6-x",
        "outputId": "64965ea9-113c-4340-bd63-c2d295ac02f2"
      },
      "outputs": [
        {
          "output_type": "stream",
          "name": "stdout",
          "text": [
            "oz코딩스쿨\n",
            "oz코딩스쿨\n",
            "oz코딩스쿨\n",
            "oz코딩스쿨\n",
            "oz코딩스쿨\n"
          ]
        }
      ],
      "source": [
        "# 함수 선언부 :def oz()이하\n",
        "\n",
        "# 함수 실행부(호출) : oz()\n",
        "\n",
        "\n",
        "def oz(message, n):\n",
        "    for i in range(n):\n",
        "        print(message)\n",
        "oz(\"oz코딩스쿨\", 5)\n",
        "\n",
        "# 함수의 기본 구조는? def로 함수를 정의하고 정의된 함수의 기능을 코딩한다. (return은 선택적, 함수의 실행 결과를 외부로 전달) 후에 해당 함수를 호출해서 사용한다.\n",
        "\n",
        "# 함수 호출은 무엇을 의미하고 어떻게 할 수 있나요? 함수 호출은 정의된 함수를 불러와 작동시키겠다는 의미, 해당함수(인자)의 형태\n",
        "# -> 인자는 매개변수에 대응되어 함수 내부로 값을 전달한다.\n",
        "\n",
        "# 매개변수란? 정의되는 함수의 괄호 안에 위치(위 식에서는 message,n)하며 코드 안에서 정보를 받아 저장하는 가변적인 변수\n",
        "\n",
        "# 식별자는 무엇이고 사용하는 이유는? 변수,함수,클래스 등의 이름을 말함.(x=10->x가 식별자, def greet()->greet도 식별자)\n",
        "# -> 값을 저장하거나 함수를 호출할 때 구별 가능한 이름이 필요하기 때문.(코드의 가독성과 유지보수성)\n",
        "\n",
        "# 식별자는 함수 안에서 어떻게 사용되나요? 함수 안에서 식별자는 지역 변수를 만드는 데 쓰인다. 지역 변수는 그 함수 내에서만 유효한 식별자가 된다.\n"
      ]
    },
    {
      "cell_type": "code",
      "source": [
        "# def 함수이름(매개변수, *가변 매개변수):\n",
        "#   코드\n",
        "\n",
        "def oz(n, *values):\n",
        "    for i in range(n):\n",
        "        for value in values:\n",
        "            print(value)\n",
        "        print()\n",
        "oz(3, \"이렇게\", \"저렇게\", \"가변 매개변수는 요렇게\", \"신기하죠?\")\n",
        "\n",
        "# 단 가변 매개변수(*변수)를 사용하기 위해서는\n",
        "# 1. 가변 매개변수 뒤에는 일반 매개변수가 올 수 없다. 2. 가변 매개변수는 하나만 사용할 수 있다.\n",
        "\n",
        "# 값을 할당하는 형태의 매개변수들은 모두 '기본 매개변수'입니다. (n=2)\n",
        "# 기본 매개변수 뒤에는 일반 매개변수가 올 수 없다."
      ],
      "metadata": {
        "colab": {
          "base_uri": "https://localhost:8080/"
        },
        "id": "aV8RN11n1U3t",
        "outputId": "5b1bb6bb-1791-4e03-c5bf-1b33b2982fa3"
      },
      "execution_count": 2,
      "outputs": [
        {
          "output_type": "stream",
          "name": "stdout",
          "text": [
            "이렇게\n",
            "저렇게\n",
            "가변 매개변수는 요렇게\n",
            "신기하죠?\n",
            "\n",
            "이렇게\n",
            "저렇게\n",
            "가변 매개변수는 요렇게\n",
            "신기하죠?\n",
            "\n",
            "이렇게\n",
            "저렇게\n",
            "가변 매개변수는 요렇게\n",
            "신기하죠?\n",
            "\n"
          ]
        }
      ]
    },
    {
      "cell_type": "code",
      "source": [
        "# 기본 매개변수가 가변 매개변수보다 앞에 오면  기본 매개변수는 의미가 없어짐.\n",
        "\n",
        "def oz(*values, n=3):\n",
        "    for i in range(n):\n",
        "        for value in values:\n",
        "            print(value)\n",
        "        print(\"111\")\n",
        "oz(\"기본 매개변수 다음에\", \"가변 매개변수를\", \"넣을 수 있을까요?\", 10)\n",
        "\n",
        "# 기본 매개변수에 10을 넣으려했으나 3번만 출력되었고 10까지도 가변 매개변수 취급을 받았습니다. 어떻게 해야할까요?\n",
        "# -> n=3은 키워드 매개변수 취급을 받게되었다. 호출하려면 n=10으로 호출해야한다.\n",
        "\n",
        "# 키워드 매개변수\n",
        "\n",
        "리스트 = [\"안\",\"녕\",\"하\",\"세\",\"요\"]\n",
        "for i in 리스트:\n",
        "    print(i, end=\"\")\n",
        "\n",
        "# 안녕하세요가 붙어서 나옴. end=\"\"가 바로 키워드 매개변수 형태.\n",
        "\n",
        "# 가변 매개변수(*변수) 뒤에 오는 기본 매개변수 형태 oz(*가변, 키워드=3)"
      ],
      "metadata": {
        "colab": {
          "base_uri": "https://localhost:8080/"
        },
        "id": "wFKK69tE4U2E",
        "outputId": "8b2ab065-03ca-4195-f9cb-6d16b0a85b5f"
      },
      "execution_count": 4,
      "outputs": [
        {
          "output_type": "stream",
          "name": "stdout",
          "text": [
            "기본 매개변수 다음에\n",
            "가변 매개변수를\n",
            "넣을 수 있을까요?\n",
            "10\n",
            "111\n",
            "기본 매개변수 다음에\n",
            "가변 매개변수를\n",
            "넣을 수 있을까요?\n",
            "10\n",
            "111\n",
            "기본 매개변수 다음에\n",
            "가변 매개변수를\n",
            "넣을 수 있을까요?\n",
            "10\n",
            "111\n",
            "안녕하세요"
          ]
        }
      ]
    },
    {
      "cell_type": "code",
      "source": [
        "# 직육면체의 부피를 구하는 코드를 작성해보자 : 가로- x, 세로-y 높이-h\n",
        "\n",
        "def oz(x, y=20, h=10):\n",
        "    print(x*y*h)\n",
        "\n",
        "# x 식별자에 매개변수 10을 넣은 경우\n",
        "print(oz(10))\n",
        "# x 식별자와 y=10이라는 키워드 매개변수를 이용한 경우\n",
        "print(oz(10, y=10))\n",
        "# 모든 매개변수를 키워드 매개변수로 넣은 경우\n",
        "print(oz(x=5, y=5, h=5))\n",
        "\n",
        "\n",
        "# y=20, h=10은 기본 매개변수이다. 그러나 키워드 매개변수처럼 호출할 수 있다.(y=10, h=10은 키워드 인자)\n",
        "# 그러나 가변 매개변수(*,) 뒤에 오는 기본 매개변수는 키워드 매개변수 전용이 된다. 그렇게 되면 단순한 위치 호출로는 부를 수 없게 된다.\n",
        "\n"
      ],
      "metadata": {
        "id": "WXiBPxWN_Tv3"
      },
      "execution_count": null,
      "outputs": []
    },
    {
      "cell_type": "code",
      "source": [
        "# return\n",
        "\n",
        "def oz_return():\n",
        "    print(\"파이썬\")\n",
        "    print(\"재미있엉\")\n",
        "    return\n",
        "    print(\"거짓말하네\")\n",
        "oz_return()\n",
        "\n",
        "# return을 만나 함수를 호출했던 위치로 이동 후 종료 -> 밑에 print는 무시해버림\n",
        "\n",
        "# 값과 함께 리턴하는 경우\n",
        "#   return \"파이썬 재미있엉\"\n",
        "# -> 말그대로 return만 함\n",
        "# result = oz_return() 처럼 추가로 담아주어야 한다.\n",
        "\n",
        "# 아무것도 리턴하지 않는 경우\n",
        "# -> None입니다! 곧이어 None은 False로 간주됩니다.\n"
      ],
      "metadata": {
        "colab": {
          "base_uri": "https://localhost:8080/"
        },
        "id": "j4jXWzDYFCsA",
        "outputId": "b75f48b9-d901-49c2-9698-45ee1185cb24"
      },
      "execution_count": 5,
      "outputs": [
        {
          "output_type": "stream",
          "name": "stdout",
          "text": [
            "파이썬\n",
            "재미있엉\n"
          ]
        }
      ]
    },
    {
      "cell_type": "code",
      "source": [
        "# 기본적인 함수 활용\n",
        "\n",
        "# start, end, multiple 매개변수를 이용해 start부터 시작해 multiple씩 증가해 end에 도달하면 종료되는 함수\n",
        "# 예: 스타트 = 1, 엔드 = 10, 멀티플 = 3 (출력) 1,4,7\n",
        "\n",
        "def 숫자(스타트, 엔드, 멀티플):\n",
        "    결과 = []           # 이걸 까먹었네...\n",
        "    i = 스타트\n",
        "    while i < 엔드:\n",
        "        결과.append(i)\n",
        "        i += 멀티플\n",
        "    return 결과\n",
        "\n",
        "print(숫자(1, 20, 6))\n",
        "\n",
        "# 또는\n",
        "\n",
        "def 넘버(start, end, multiple):\n",
        "    for i in range(start, end, multiple):\n",
        "        print(i, \" \", end=\"\")\n",
        "    print()\n",
        "\n",
        "넘버(1,20,4)"
      ],
      "metadata": {
        "colab": {
          "base_uri": "https://localhost:8080/"
        },
        "id": "PMOowUEsHhBd",
        "outputId": "0cbff378-3964-45c4-8066-29a522c96cd1"
      },
      "execution_count": 23,
      "outputs": [
        {
          "output_type": "stream",
          "name": "stdout",
          "text": [
            "[1, 7, 13, 19]\n",
            "1  5  9  13  17  \n"
          ]
        }
      ]
    },
    {
      "cell_type": "code",
      "source": [
        "# 펙토리알 구하기\n",
        "\n",
        "def oz_factorial(n):\n",
        "    output = 1\n",
        "    for i in range(1, n+1):\n",
        "        output *= i\n",
        "    return output\n",
        "\n",
        "n = int(input(\"펙토리얼의 수를 입력해주세요\"))\n",
        "print(f' {n}의 결과는 {oz_factorial(n)}입니다.')\n"
      ],
      "metadata": {
        "colab": {
          "base_uri": "https://localhost:8080/"
        },
        "id": "8pauhpFAcyK8",
        "outputId": "1c6cc676-4a37-42d0-e995-eaae88cc5a99"
      },
      "execution_count": 25,
      "outputs": [
        {
          "output_type": "stream",
          "name": "stdout",
          "text": [
            "펙토리얼의 수를 입력해주세요13\n",
            " 13의 결과는 6227020800입니다.\n"
          ]
        }
      ]
    },
    {
      "cell_type": "code",
      "source": [
        "# 재귀 함수 : 함수 안에 자신의 함수를 다시 호출하는 함수\n",
        "# 재귀함수를 이용해서 팩토리얼을 구현하는 방식은 아래와 같습니다.\n",
        "\n",
        "# 오즈_펙토리알(n) = n * 오즈_펙토리알(n-1)\n",
        "# 오즈_펙토리알(0) = 1\n",
        "\n",
        "def oz_factorial(n):\n",
        "    if n == 0:\n",
        "        return 1\n",
        "    else:\n",
        "        return n * oz_factorial(n-1)\n",
        "\n",
        "n = int(input(\"펙토리얼의 수를 입력해주세요\"))\n",
        "print(f' {n}의 결과는 {oz_factorial(n)}입니다.')\n",
        "\n",
        "\n",
        "# 재귀함수는 for문이나 while문 대신 사용되기 때문에 코드가 간결하고 불필요한 변수를 만들지 않아도 됨.\n",
        "# stack ovetrflow 발생 가능성이 있음.\n",
        "# 과도한 메모리 사용으로 속도 저하 우려 있음."
      ],
      "metadata": {
        "colab": {
          "base_uri": "https://localhost:8080/"
        },
        "id": "POZW73gOen4z",
        "outputId": "4f9b8a0e-a31e-43cd-c2e4-1cfd08b45b96"
      },
      "execution_count": 27,
      "outputs": [
        {
          "output_type": "stream",
          "name": "stdout",
          "text": [
            "펙토리얼의 수를 입력해주세요3\n",
            " 3의 결과는 6입니다.\n"
          ]
        }
      ]
    },
    {
      "cell_type": "code",
      "source": [
        "# 피보나치\n",
        "\n",
        "count = 0\n",
        "\n",
        "def oz_fibo(n):\n",
        "    print(f'피보나치 수열 {n}을 구하는 중입니다.')\n",
        "    global count            # 밖에 있는 count를 가져옴\n",
        "    count += 1\n",
        "\n",
        "    if n==1:\n",
        "        return 1\n",
        "    if n==2:\n",
        "        return 1\n",
        "    else:\n",
        "        return oz_fibo(n-1) + oz_fibo(n-2)\n",
        "\n",
        "n = int(input(\"구하고자하는 피보나치의 수열의 수를 입력해주세요\"))\n",
        "oz_fibo(n)\n",
        "print(f'피보나치 수열{n}을 구하기 위해 계산된 횟수는 {count}입니다.')\n",
        "\n",
        "\n",
        "# 메모리제이션 : 동일한 계산을 반복적으로 해야 할 때 중복적인 계산을 메모리에 저장 후 꺼내씀\n",
        "# -> 리소스 절약\n",
        "# 코드 핵심 설명 : 초기 값으로 설정했던 첫번째와 두번째 결과값을 memo변수에 dict형 자료형을 넣어 저장\n",
        "# 함수 실행시 memo 변수에 계산할 피보나치 수열의 결과값이 있는지 확인. 있다면 계산하지 않고 저장된 결과값 이용\n",
        "# 만약 결과값이 저장되어 있지 않은 경우는 계산을 하고 그 계산값을 memo에 저장.\n"
      ],
      "metadata": {
        "id": "dgAGFeMJfFRB"
      },
      "execution_count": null,
      "outputs": []
    },
    {
      "cell_type": "code",
      "source": [
        "memo = {\n",
        "    1:1,\n",
        "    2:1,\n",
        "}\n",
        "\n",
        "count = 0\n",
        "\n",
        "def oz_fibo(n):\n",
        "    print(f'피보나치 수열 {n}을 구하는 중입니다.')\n",
        "    global count            # 밖에 있는 count를 가져옴\n",
        "    count += 1\n",
        "\n",
        "    if n in memo:\n",
        "        return memo[n]\n",
        "    else:\n",
        "        output = oz_fibo(n-1) + oz_fibo(n-2)\n",
        "        memo[n] = output\n",
        "        return output\n",
        "\n",
        "n = int(input(\"구하고자하는 피보나치의 수열의 수를 입력해주세요\"))\n",
        "oz_fibo(n)\n",
        "print(f'피보나치 수열{n}을 구하기 위해 계산된 횟수는 {count}입니다.')\n",
        "\n",
        "# output이 왜 등장하고 또 경유하는가.\n",
        "# 메모리제이션을 위해 단순히 그 값을 memo[n]에 저장하기 위해서.(중간저장소를 만든 것.)"
      ],
      "metadata": {
        "colab": {
          "base_uri": "https://localhost:8080/"
        },
        "id": "hdU58M5FjFU2",
        "outputId": "ce18578f-56a7-40f8-ead5-bb3972de1c8f"
      },
      "execution_count": 29,
      "outputs": [
        {
          "output_type": "stream",
          "name": "stdout",
          "text": [
            "구하고자하는 피보나치의 수열의 수를 입력해주세요10\n",
            "피보나치 수열 10을 구하는 중입니다.\n",
            "피보나치 수열 9을 구하는 중입니다.\n",
            "피보나치 수열 8을 구하는 중입니다.\n",
            "피보나치 수열 7을 구하는 중입니다.\n",
            "피보나치 수열 6을 구하는 중입니다.\n",
            "피보나치 수열 5을 구하는 중입니다.\n",
            "피보나치 수열 4을 구하는 중입니다.\n",
            "피보나치 수열 3을 구하는 중입니다.\n",
            "피보나치 수열 2을 구하는 중입니다.\n",
            "피보나치 수열 1을 구하는 중입니다.\n",
            "피보나치 수열 2을 구하는 중입니다.\n",
            "피보나치 수열 3을 구하는 중입니다.\n",
            "피보나치 수열 4을 구하는 중입니다.\n",
            "피보나치 수열 5을 구하는 중입니다.\n",
            "피보나치 수열 6을 구하는 중입니다.\n",
            "피보나치 수열 7을 구하는 중입니다.\n",
            "피보나치 수열 8을 구하는 중입니다.\n",
            "피보나치 수열10을 구하기 위해 계산된 횟수는 17입니다.\n"
          ]
        }
      ]
    },
    {
      "cell_type": "code",
      "source": [
        "# 조기 리턴\n",
        "\n",
        "memo = {\n",
        "    1:1,\n",
        "    2:1,\n",
        "}\n",
        "\n",
        "count = 0\n",
        "\n",
        "def oz_fibo(n):\n",
        "    print(f'피보나치 수열 {n}을 구하는 중입니다.')\n",
        "    global count            # 밖에 있는 count를 가져옴\n",
        "    count += 1\n",
        "\n",
        "    if n in memo:\n",
        "        return memo[n]\n",
        "\n",
        "    output = oz_fibo(n-1) + oz_fibo(n-2)\n",
        "    memo[n] = output\n",
        "    return output\n",
        "\n",
        "n = int(input(\"구하고자하는 피보나치의 수열의 수를 입력해주세요\"))\n",
        "oz_fibo(n)\n",
        "print(f'피보나치 수열{n}을 구하기 위해 계산된 횟수는 {count}입니다.')\n",
        "\n",
        "\n",
        "# if ~else로 하지 않아도 return을 만나면 종료하고 함수로 반환한다는 성질을 이용해서\n",
        "# 일부 else의 역할을 대신할 수도 있는 것이다."
      ],
      "metadata": {
        "id": "JLYzENJNrgjf"
      },
      "execution_count": null,
      "outputs": []
    },
    {
      "cell_type": "code",
      "source": [
        "# tuple\n",
        "\n",
        "oz_tuple = (1,2,3)\n",
        "\n",
        "print(oz_tuple)\n",
        "\n",
        "# tuple은 내부의 값을 변경할 수는 없지만 tuple간 교환은 가능\n",
        "\n",
        "# x, y = 1, 2\n",
        "# x =3(불가능) 하지만 x, y = y, x(가능)\n",
        "\n",
        "# 내장 함수 이용해보자.\n",
        "# enumerate()의 i,furuit는 (i, fruit)이지만 괄호를 생략한 상태. (결과물이 튜플 형태로 출력된다는 소리)\n",
        "\n",
        "for i, fruit in enumerate([1, 2, 3, 4,]):\n",
        "    print(i, fruit)\n",
        "\n",
        "# 1, 2 in enumerate(시퀀스) : 시퀀스에 여러 리스트,튜플 등 반복가능한 객체가 오면\n",
        "# 1에는 인덱스 순서 번호, 2에는 해당 위치의 실제 값.\n",
        "\n",
        "# divmod()사용시 튜플 형태로 몫과 나머지 반환\n"
      ],
      "metadata": {
        "colab": {
          "base_uri": "https://localhost:8080/"
        },
        "id": "bdxFv01AspQL",
        "outputId": "8f54e711-a92f-4dc8-fce9-4ec23161f60f"
      },
      "execution_count": 31,
      "outputs": [
        {
          "output_type": "stream",
          "name": "stdout",
          "text": [
            "(1, 2, 3)\n",
            "0 1\n",
            "1 2\n",
            "2 3\n",
            "3 4\n"
          ]
        }
      ]
    },
    {
      "cell_type": "code",
      "source": [
        "# 람다: 함수 자체를 매개변수로 쓰기(콜백 함수)\n",
        "# 1. 다른 함수의 인자로 넘길 수 있는 이름없는 함수\n",
        "# 2. 함수의 반환 값에 사용될 수 있는 이름없는 함수\n",
        "# 3. 변수에 저장 가능한 이름없는 함수\n",
        "# {인수 목록 ->함수 본문} val add = {x:int, y:int -> x+y}\n",
        "\n",
        "def oz_call(function):\n",
        "    for i in range(5):\n",
        "        function()\n",
        "def talk():\n",
        "    print(\"파이썬 이건 또 무슨 개념이야\")\n",
        "\n",
        "oz_call(talk)\n",
        "\n",
        "# 함수를 매개변수로 사용하는 대표적인 내장 함수\n",
        "# map(): 리스트의 요소를 함수에 넣고 리턴된 값으로 새로운 리스트를 구성해줌.\n",
        "# filter(): 리스트의 요소를 함수에 넣고 리턴된 값이 True인 값만을 새로운 리스트로 구성해줌.\n",
        "\n",
        "def square(i):\n",
        "    return i * 1\n",
        "number_list = [1,2,3,4,5,6,7,8,9,10]\n",
        "\n",
        "result = map(square, number_list)\n",
        "\n",
        "print(\"map 결과\", result)                   # 제너레이터\n",
        "print(\"map 결과의 list 형변환 값:\",list(result))\n",
        "\n",
        "def under(i):\n",
        "    return i < 5\n",
        "number_listt = {1,2,3,4,5,6,7,8,9,10}\n",
        "resultt = filter(under, number_listt)\n",
        "\n",
        "print(\"fliter 결과\", resultt)                   # 제너레이터\n",
        "print(\"filter 결과의 list 형변환 값:\",list(resultt))\n"
      ],
      "metadata": {
        "colab": {
          "base_uri": "https://localhost:8080/"
        },
        "id": "nRV2sFMZwiGJ",
        "outputId": "6c9a1079-4a2a-4fe3-8fef-bf33f71257b0"
      },
      "execution_count": 36,
      "outputs": [
        {
          "output_type": "stream",
          "name": "stdout",
          "text": [
            "파이썬 이건 또 무슨 개념이야\n",
            "파이썬 이건 또 무슨 개념이야\n",
            "파이썬 이건 또 무슨 개념이야\n",
            "파이썬 이건 또 무슨 개념이야\n",
            "파이썬 이건 또 무슨 개념이야\n",
            "map 결과 <map object at 0x7e00b1d52f20>\n",
            "map 결과의 list 형변환 값: [1, 2, 3, 4, 5, 6, 7, 8, 9, 10]\n",
            "fliter 결과 <filter object at 0x7e00b1d52bf0>\n",
            "filter 결과의 list 형변환 값: [1, 2, 3, 4]\n"
          ]
        }
      ]
    },
    {
      "cell_type": "code",
      "source": [
        "# 그래서 람다는?\n",
        "\n",
        "square = lambda i : i * 1\n",
        "\n",
        "number_list = [1,2,3,4,5,6,7,8,9,10]\n",
        "\n",
        "result = map(square, number_list)\n",
        "\n",
        "print(\"map 결과\", result)                   # 제너레이터\n",
        "print(\"map 결과의 list 형변환 값:\",list(result))\n",
        "\n",
        "# 더 간단히.\n",
        "number_list = [1,2,3,4,5,6,7,8,9,10]\n",
        "\n",
        "result = map(lambda i :i * 1, number_list)\n",
        "\n",
        "print(\"map 결과\", result)                   # 제너레이터\n",
        "print(\"map 결과의 list 형변환 값:\",list(result))\n",
        "\n",
        "\n",
        "\n",
        "under = lambda i : i < 5\n",
        "number_listt = {1,2,3,4,5,6,7,8,9,10}\n",
        "resultt = filter(under, number_listt)\n",
        "\n",
        "print(\"fliter 결과\", resultt)                   # 제너레이터\n",
        "print(\"filter 결과의 list 형변환 값:\",list(resultt))\n",
        "\n",
        "# 더 간단히.\n",
        "\n",
        "number_listt = {1,2,3,4,5,6,7,8,9,10}\n",
        "resultt = filter(lambda i : i < 5, number_listt)\n",
        "\n",
        "print(\"fliter 결과\", resultt)                   # 제너레이터\n",
        "print(\"filter 결과의 list 형변환 값:\",list(resultt))\n"
      ],
      "metadata": {
        "colab": {
          "base_uri": "https://localhost:8080/"
        },
        "id": "az-YzU_V2Xno",
        "outputId": "28c6cc4d-b6ad-4e92-f281-873b2acf55b4"
      },
      "execution_count": 39,
      "outputs": [
        {
          "output_type": "stream",
          "name": "stdout",
          "text": [
            "map 결과 <map object at 0x7e00b10b6470>\n",
            "map 결과의 list 형변환 값: [1, 2, 3, 4, 5, 6, 7, 8, 9, 10]\n",
            "map 결과 <map object at 0x7e00b10b4be0>\n",
            "map 결과의 list 형변환 값: [1, 2, 3, 4, 5, 6, 7, 8, 9, 10]\n",
            "fliter 결과 <filter object at 0x7e00b10b60e0>\n",
            "filter 결과의 list 형변환 값: [1, 2, 3, 4]\n",
            "fliter 결과 <filter object at 0x7e00b10b6530>\n",
            "filter 결과의 list 형변환 값: [1, 2, 3, 4]\n"
          ]
        }
      ]
    },
    {
      "cell_type": "code",
      "source": [
        "# 이터레이터란?\n",
        "# 값을 하나씩 순차적으로 꺼낼 수 있는 객체.\n",
        "# 리스트나 튜플도 이터러블이지만, iter()를 써서 이터레이터 객체로 변환해야 next()가 동작.\n",
        "\n",
        "\n",
        "이터리스트 = [1,2,3]\n",
        "it = iter(이터리스트)\n",
        "print(next(it))\n",
        "print(next(it))\n",
        "print(next(it))\n",
        "\n",
        "\n",
        "# 제너레이터란?\n",
        "# yield를 사용하여 하나씩 값을 생성해주는 함수\n",
        "# 함수를 멈췄다 다시 실행. 메모리를 거의 안 쓰면서 큰 데이터도 다룰 수 있음.\n",
        "\n",
        "def 제너():\n",
        "    yield 1\n",
        "    yield 2\n",
        "    yield 3\n",
        "\n",
        "g = 제너()\n",
        "print(next(g))\n",
        "print(next(g))\n",
        "print(next(g))\n",
        "\n",
        "# 제너레이터를 써야 하는 이유\n",
        "# 일반 함수\n",
        "# def 천만개():\n",
        "#    return [i for i in range(10_000_000)]  # 메모리 엄청 잡아먹음\n",
        "\n",
        "# 제너레이터\n",
        "# def 천만개_제너():\n",
        "#    for i in range(10_000_000):\n",
        "#        yield i  # 하나씩만 생성\n",
        "\n"
      ],
      "metadata": {
        "colab": {
          "base_uri": "https://localhost:8080/"
        },
        "id": "TLEQxyOb285y",
        "outputId": "b010953e-0f94-48e5-fe37-0b8f232d687e"
      },
      "execution_count": 42,
      "outputs": [
        {
          "output_type": "stream",
          "name": "stdout",
          "text": [
            "1\n",
            "2\n",
            "3\n",
            "1\n",
            "2\n",
            "3\n"
          ]
        }
      ]
    },
    {
      "cell_type": "code",
      "source": [
        "# 타입 힌팅\n",
        "# 규모가 큰 프로젝트에서는 주석으로만 정보를 전달하기에는 한계가 있다.\n",
        "# 따라서 타입 어노테이션이라는 방법으로 파이썬 코드의 타입 표시를 표준화 할 수 있다.\n",
        "\n",
        "#즉, \"이 변수는 어떤 타입이야\", \"이 함수는 이런 타입의 값을 받아 이런 타입을 돌려줘\"\n",
        "# 를 코드에 명시적으로 써주는 것\n",
        "\n",
        "#이름: str = \"김이름\"\n",
        "#나이: int = 268\n",
        "#몸무게: float = 189\n",
        "#리스트: list[int] = [1, 2, 3]\n",
        "\n",
        "# def 더하기(x: int, y: int) -> int:\n",
        " #   return x + y\n",
        "\n",
        " # 이런 식으로 직접적으로 그 타입을 기입. 권장일 뿐 강제는 아님."
      ],
      "metadata": {
        "id": "knXrwVRR8bOu"
      },
      "execution_count": null,
      "outputs": []
    }
  ]
}