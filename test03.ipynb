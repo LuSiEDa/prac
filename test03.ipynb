{
  "nbformat": 4,
  "nbformat_minor": 0,
  "metadata": {
    "colab": {
      "provenance": [],
      "authorship_tag": "ABX9TyNqV0SKQvJpLAVGZvzppf7h",
      "include_colab_link": true
    },
    "kernelspec": {
      "name": "python3",
      "display_name": "Python 3"
    },
    "language_info": {
      "name": "python"
    }
  },
  "cells": [
    {
      "cell_type": "markdown",
      "metadata": {
        "id": "view-in-github",
        "colab_type": "text"
      },
      "source": [
        "<a href=\"https://colab.research.google.com/github/LuSiEDa/prac/blob/main/test03.ipynb\" target=\"_parent\"><img src=\"https://colab.research.google.com/assets/colab-badge.svg\" alt=\"Open In Colab\"/></a>"
      ]
    },
    {
      "cell_type": "code",
      "execution_count": null,
      "metadata": {
        "colab": {
          "base_uri": "https://localhost:8080/"
        },
        "id": "OwYtZ2DamUn7",
        "outputId": "a0b3ebba-b299-4de9-de8b-1768adcfe25e"
      },
      "outputs": [
        {
          "output_type": "stream",
          "name": "stdout",
          "text": [
            "주문할 붕어빵 개수를 입력해 주세요. 없으면 0/0 2 3\n",
            "주문이 완료되었습니다. 팥0개, 슈크림2개, 잡채3개 총 5개. 결제 금액은 14000원 입니다.\n"
          ]
        }
      ],
      "source": [
        "# 레거시 코드 : 누군가 남겨두고간 코드\n",
        "# 리펙토링 : 결과의 변경없이 코드의 구조를 재조정하는 것.\n",
        "\n",
        "# 변수값 입력\n",
        "#bung__1, bung__2, bung__3 = \"붕어빵(팥)\", \"붕어빵(슈크림)\", \"붕어빵(잡채)\"\n",
        "#bung__1__sell, bung__2__sell, bung__3__sell = 2000, 2500, 3000\n",
        "#order__2, order__3 = 2, 3\n",
        "\n",
        "# 붕어빵 계산값\n",
        "#order__2__pay, order__3__pay = bung__2__sell * order__2, bung__3__sell * order__3\n",
        "\n",
        "# 구매 총 개수\n",
        "#total = order__2 + order__3\n",
        "\n",
        "# 구매 총 금액\n",
        "#total_pay = order__2__pay + order__3__pay\n",
        "\n",
        "# 출력\n",
        "#print(f'주문이 완료되었습니다. {bung__2}{order__2}개,{bung__3}{order__3}개 총 {total}개. 결제 금액은 {total_pay}원 입니다.')\n",
        "\n",
        "# 위 코드를 리펙토링 해봅시다\n",
        "\n",
        "붕어빵 = {\"팥\":2000, \"슈크림\":2500, \"잡채\":3000}\n",
        "붕어빵주문 = list(map(int, input(\"주문할 붕어빵 개수를 입력해 주세요. 없으면 0/\").split()))\n",
        "종류 = list(붕어빵.keys())\n",
        "total = sum(붕어빵주문)\n",
        "\n",
        "total_pay = 붕어빵주문[0]*붕어빵[\"팥\"] + 붕어빵주문[1]*붕어빵[\"슈크림\"] + 붕어빵주문[2]*붕어빵[\"잡채\"]\n",
        "\n",
        "print(f'주문이 완료되었습니다. '\n",
        "    f'{종류[0]}{붕어빵주문[0]}개, '\n",
        "    f'{종류[1]}{붕어빵주문[1]}개, '\n",
        "    f'{종류[2]}{붕어빵주문[2]}개 '\n",
        "    f'총 {total}개. 결제 금액은 {total_pay}원 입니다.')\n",
        "\n",
        "\n"
      ]
    },
    {
      "cell_type": "code",
      "source": [
        "# 슬라이싱\n",
        "\n",
        "로또 = [3, 5, 15, 33, 41, 44]\n",
        "\n",
        "# 로또 변수에 있는 리스트의 인덱스 1번부터 2번까지의 값 출력\n",
        "print(로또[0:2])\n",
        "\n",
        "# 로또 변수의 마지막 위치 출력\n",
        "print(로또[6:4:-1])\n",
        "\n",
        "# 반대로 출력\n",
        "print(로또[::-1])\n",
        "\n",
        "# 로또 리스트 안에 33이 있는지 확인하기\n",
        "print(33 in 로또)\n",
        "\n",
        "# 로또 리스트를 로또2 리스트와 합치기\n",
        "\n",
        "로또2 = [2, 12, 15, 24, 33, 39]\n",
        "\n",
        "print(list(로또 + 로또2))\n",
        "# range를 이용해서 1부터 10사이에 짝수만 들어있는 짝수(변수명) 리스트 만들기\n",
        "짝수 = list(range(2, 11, 2))\n",
        "print(짝수)\n",
        "\n",
        "# 짝수 리스트에 들어있는 값을 2배 늘리고 다시 짝수 변수에 담기\n",
        "\n",
        "# 짝수 리스트에 들어있는 요소의 개수 구하기\n",
        "\n",
        "# 짝수 리스트에 3번째 인데스 출력\n",
        "print(짝수[2])\n",
        "\n",
        "# len() 함수를 이용해 인덱스 마지막 값 출력\n",
        "print(짝수[len(짝수)-1])"
      ],
      "metadata": {
        "colab": {
          "base_uri": "https://localhost:8080/"
        },
        "id": "k7nGRt2Uy9kn",
        "outputId": "21dcbf58-767c-4cf5-937a-cff49ee7786a"
      },
      "execution_count": null,
      "outputs": [
        {
          "output_type": "stream",
          "name": "stdout",
          "text": [
            "[3, 5]\n",
            "[44]\n",
            "[44, 41, 33, 15, 5, 3]\n",
            "True\n",
            "[3, 5, 15, 33, 41, 44, 2, 12, 15, 24, 33, 39]\n",
            "[2, 4, 6, 8, 10]\n",
            "6\n",
            "10\n"
          ]
        }
      ]
    },
    {
      "cell_type": "code",
      "source": [
        "# 죠스바 : 1000원, 바밤바 : 1100원, 누가바 : 950원\n",
        "\n",
        "아이스 = {\"죠스바\":1000, \"바밤바\":1100, \"누가바\":950}\n",
        "구매 = list(map(int, input(\"주문할 아이스크림 개수를 입력하시오 죠스바 바밤바 누가바 순\").split()))\n",
        "합계 = sum(구매)\n",
        "계산 = list(아이스.keys())\n",
        "\n",
        "print(f'구매하실 아이스크림은 ')"
      ],
      "metadata": {
        "id": "CjzWv2-e5Ies"
      },
      "execution_count": null,
      "outputs": []
    },
    {
      "cell_type": "code",
      "source": [
        "# 드디어 if문. 특정 조건일때 코드를 실행하는 문법\n",
        "\n",
        "# 콜론:, 들여쓰기 주의\n",
        "\n",
        "# if문의 흐름 (작동원리)\n",
        "#   코드는 위에서 아래 순서대로 작동합니다.\n",
        "#   1)입력을 받음 2)변수에 담음 3)변수의 값이 뭐지? 4) Ture 또는 False\n",
        "\n",
        "# 개수 = int(input(\"붕어빵 몇개 사실건가요?\"))\n",
        "# if 개수 > 3:\n",
        "    #print(\"개당 1800원입니다.\")\n",
        "# if 개수 <= 3:\n",
        "    #print(\"개당 2000원입니다.\")\n",
        "\n",
        "# if 중첩문\n",
        "# 의문의_숫자 = 10\n",
        "# if 의문의_숫자 >5:\n",
        "# if 의문의_숫자 < 15:\n",
        "# print(\"의문의 숫자는 5보다 크고 10보다 작습니다.\")\n",
        "\n",
        "# 효율성 중시!! if ~else\n",
        "# if 개수 > 3:\n",
        "    #print(\"개당 1800원입니다.\")\n",
        "# else:\n",
        "    #print(\"개당 2000원입니다.\")\n",
        "\n",
        "# 조건문 조건 (True, False) , 0,None,'' :False 취급 / 1, 모든 문자열 : True 취급\n",
        "\n",
        "#not 반대로 바꿔줌\n",
        "# if not True: -> False\n",
        "\n",
        "# 조건식 여러개 설정하기 (and, or)\n",
        "\n",
        "a, b = 10, 30\n",
        "\n",
        "if a==10 and b ==30:\n",
        "     print(\"동일합니다.\")\n",
        "else:\n",
        "    print(\"동일하지 않습니다.\")\n",
        "\n",
        "# elif ~if문\n",
        "# 맛 = input(\"붕어빵 맛을 골라주세요(팥, 슈크림, 잡채)\")\n",
        "\n",
        "if 맛 ==\"팥\":\n",
        "    print(f'{맛}을 선택하셨습니다.')\n",
        "elif 맛 == \"슈크림\":\n",
        "    print(f'{맛}을 선택하셨습니다.')\n",
        "else:\n",
        "    print(f'{맛}을 선택하셨습니다.')\n"
      ],
      "metadata": {
        "colab": {
          "base_uri": "https://localhost:8080/"
        },
        "id": "C1dJK4CqqMVT",
        "outputId": "6d3c9218-fb38-4580-c174-7359aaff2389"
      },
      "execution_count": 3,
      "outputs": [
        {
          "name": "stdout",
          "output_type": "stream",
          "text": [
            "동일합니다.\n",
            "붕어빵 맛을 골라주세요(팥, 슈크림, 잡채) 슈크라ㅣㅁ\n",
            " 슈크라ㅣㅁ을 선택하셨습니다.\n",
            "단어를 입력해 주세요 : ㅋ\n"
          ]
        }
      ]
    },
    {
      "cell_type": "code",
      "source": [
        "# 예제\n",
        "# 문제 : 단어 a의 가운데 글자를 반환하는 코드\n",
        "# 조건 : 단어의 길이가 짝수라면 가운데 두글자를 출력하면 됩니다.\n",
        "# 입력값1 : \"abcde\" 값: c , 입력값2 : \"qwer\" 값 : we\n",
        "\n",
        "# a = input()\n",
        "# 코드를 작성해주세요.\n",
        "\n",
        "#a = input(\"단어를 입력해 주세요 : \")\n",
        "a_leng = len(a)\n",
        "# 잊지말자 len같은 애들은 따로 변수에 넣어서 통제하거나 이런 형태.\n",
        "middle = a_leng//2\n",
        "\n",
        "if len(a)%2 > 0:\n",
        "    print(f'홀수입니다.{a[a_leng//2]}')\n",
        "else:\n",
        "    print(f'짝수입니다.{a[middle-1:middle+1]}')\n",
        "\n",
        "# 문자열 인덱싱은 반드시 정수 하나, 슬라이싱은 콜론으로 범위를 줘야 해."
      ],
      "metadata": {
        "colab": {
          "base_uri": "https://localhost:8080/"
        },
        "id": "SkknJ27Kw5qz",
        "outputId": "29c7f314-2df9-4b9f-b107-d112708a836f"
      },
      "execution_count": 35,
      "outputs": [
        {
          "output_type": "stream",
          "name": "stdout",
          "text": [
            "단어를 입력해 주세요 : ksdws\n",
            "홀수입니다.d\n"
          ]
        }
      ]
    },
    {
      "cell_type": "code",
      "source": [
        "# for문\n",
        "# 반복되는 작업을 간단하게 처리하기 위한 기능\n",
        "# for 변수 in range(횟수):\n",
        "\n",
        "for i in range(5):\n",
        "    print(\"반복이되네 신기해!!\")\n",
        "\n",
        "# for문의 변수는 보통 index의 i를 사용함."
      ],
      "metadata": {
        "colab": {
          "base_uri": "https://localhost:8080/"
        },
        "id": "prL0aq9mJUrZ",
        "outputId": "58e506bd-77e1-44ba-e438-87d944afef43"
      },
      "execution_count": 36,
      "outputs": [
        {
          "output_type": "stream",
          "name": "stdout",
          "text": [
            "반복이되네 신기해!!\n",
            "반복이되네 신기해!!\n",
            "반복이되네 신기해!!\n",
            "반복이되네 신기해!!\n",
            "반복이되네 신기해!!\n"
          ]
        }
      ]
    },
    {
      "cell_type": "code",
      "source": [
        "#range() 함수 활용하기\n",
        "\n",
        "for i in range(4,10):\n",
        "    print(i)\n",
        "\n",
        "for i in reversed(range(4,10)):\n",
        "    print(i)\n"
      ],
      "metadata": {
        "colab": {
          "base_uri": "https://localhost:8080/"
        },
        "id": "WBLokGTrLM7v",
        "outputId": "588b2403-bd99-4a48-9efe-e693d2a88667"
      },
      "execution_count": 39,
      "outputs": [
        {
          "output_type": "stream",
          "name": "stdout",
          "text": [
            "4\n",
            "5\n",
            "6\n",
            "7\n",
            "8\n",
            "9\n",
            "9\n",
            "8\n",
            "7\n",
            "6\n",
            "5\n",
            "4\n"
          ]
        }
      ]
    },
    {
      "cell_type": "code",
      "source": [
        "# for문에서 시퀀스 객체로 반복하기\n",
        "\n",
        "과일 = [\"두리안\", \"망고\", \"바나나\", \"멜론\"]\n",
        "\n",
        "for i in 과일:\n",
        "    print(i)\n",
        "for i in \"과일\":\n",
        "    print(i, end='달달')"
      ],
      "metadata": {
        "colab": {
          "base_uri": "https://localhost:8080/"
        },
        "id": "C2tSVuasLuQT",
        "outputId": "eebe25b8-8c1c-40fb-e051-bd64c54c43fd"
      },
      "execution_count": 45,
      "outputs": [
        {
          "output_type": "stream",
          "name": "stdout",
          "text": [
            "두리안\n",
            "망고\n",
            "바나나\n",
            "멜론\n",
            "과달달일달달"
          ]
        }
      ]
    },
    {
      "cell_type": "code",
      "source": [
        "# 예제로 for문 익혀보기\n",
        "# 문제 : 절대값 정수가 담긴 정수 변수와 그 정수의 부호를 차례로 담은 부호 변수가 있다.\n",
        "# 두 변수를 이용해 실제 정수의 합을 구해주세요. (True : 양수, False : 음수)\n",
        "\n",
        "정수 = [10, 5, 8]\n",
        "부호 = [True, False, True]\n",
        "\n",
        "합 = 0\n",
        "\n",
        "for k, v in zip(부호, 정수):\n",
        "    if k: # 부호위치에 이미 True나 False를 넘겼다.\n",
        "        합 += v\n",
        "    else:\n",
        "        합 -= v\n",
        "print(합)"
      ],
      "metadata": {
        "colab": {
          "base_uri": "https://localhost:8080/"
        },
        "id": "JvOVsvDTMrL1",
        "outputId": "6550f602-fae3-4e55-cfd1-9b04d88d7ad4"
      },
      "execution_count": 55,
      "outputs": [
        {
          "output_type": "stream",
          "name": "stdout",
          "text": [
            "13\n"
          ]
        }
      ]
    },
    {
      "cell_type": "code",
      "source": [
        "# while문\n",
        "# 변수에 값을 넣어주고 시작\n",
        "# 바로 while 조건문:\n",
        "# 변화식으로 반복시켜봅시다.\n",
        "# 무한 루프 주의!\n",
        "i = 0\n",
        "while i <10:\n",
        "    print('점점 성장하는 여러분')\n",
        "    i +=1"
      ],
      "metadata": {
        "colab": {
          "base_uri": "https://localhost:8080/"
        },
        "id": "E37mh-4dTBTJ",
        "outputId": "a2e531cb-4c99-4aef-a7ca-455927474b24"
      },
      "execution_count": 56,
      "outputs": [
        {
          "output_type": "stream",
          "name": "stdout",
          "text": [
            "점점 성장하는 여러분\n",
            "점점 성장하는 여러분\n",
            "점점 성장하는 여러분\n",
            "점점 성장하는 여러분\n",
            "점점 성장하는 여러분\n",
            "점점 성장하는 여러분\n",
            "점점 성장하는 여러분\n",
            "점점 성장하는 여러분\n",
            "점점 성장하는 여러분\n",
            "점점 성장하는 여러분\n"
          ]
        }
      ]
    },
    {
      "cell_type": "code",
      "source": [
        "# while문 조건식 증감, 감소\n",
        "\n",
        "i = 1\n",
        "while i < 10:\n",
        "    print('이정도로 성장할줄이야',i)\n",
        "    i+=1\n",
        "\n",
        "i = 10\n",
        "while i > 0:\n",
        "    print('이정도로 성장할줄이야',i)\n",
        "    i-=1"
      ],
      "metadata": {
        "colab": {
          "base_uri": "https://localhost:8080/"
        },
        "id": "tFBa2aLYUN9x",
        "outputId": "64432d97-2469-476d-bd0f-580bd0f795e4"
      },
      "execution_count": 58,
      "outputs": [
        {
          "output_type": "stream",
          "name": "stdout",
          "text": [
            "이정도로 성장할줄이야 1\n",
            "이정도로 성장할줄이야 2\n",
            "이정도로 성장할줄이야 3\n",
            "이정도로 성장할줄이야 4\n",
            "이정도로 성장할줄이야 5\n",
            "이정도로 성장할줄이야 6\n",
            "이정도로 성장할줄이야 7\n",
            "이정도로 성장할줄이야 8\n",
            "이정도로 성장할줄이야 9\n",
            "이정도로 성장할줄이야 10\n",
            "이정도로 성장할줄이야 9\n",
            "이정도로 성장할줄이야 8\n",
            "이정도로 성장할줄이야 7\n",
            "이정도로 성장할줄이야 6\n",
            "이정도로 성장할줄이야 5\n",
            "이정도로 성장할줄이야 4\n",
            "이정도로 성장할줄이야 3\n",
            "이정도로 성장할줄이야 2\n",
            "이정도로 성장할줄이야 1\n"
          ]
        }
      ]
    },
    {
      "cell_type": "code",
      "source": [
        "# while문을 조심스럽게 사용해야하는 이유\n",
        "# -> 멈출 수 있는 조건이 없으면 무한히 출력됨 ㅎㄷㄷ\n",
        "# 하지만 잘 사용하면 for문보다 효율적이다.\n",
        "\n",
        "import random\n",
        "# impiort : 외부 기능(모듈)을 가져오겠다.\n",
        "# random 랜덤, 무작위 기능\n",
        "# 결국 랜덤 기능을 외부 모듈에서 가져와 쓰겠다 선언하는 거.\n",
        "\n",
        "print(random.random())\n",
        "print(random.randint(1,100))\n",
        "\n",
        "i = 0\n",
        "while i != 4:\n",
        "    i = random.randint(1,6)\n",
        "    print(i)"
      ],
      "metadata": {
        "colab": {
          "base_uri": "https://localhost:8080/"
        },
        "id": "-lvEMJ6XU3iP",
        "outputId": "a5d39527-7d50-4060-fea5-ad5b326d9c62"
      },
      "execution_count": 86,
      "outputs": [
        {
          "output_type": "stream",
          "name": "stdout",
          "text": [
            "0.26160895298306186\n",
            "91\n",
            "6\n",
            "5\n",
            "1\n",
            "4\n"
          ]
        }
      ]
    },
    {
      "cell_type": "code",
      "source": [
        "# while문에 else 사용하기\n",
        "\n",
        "양파 = 10\n",
        "while 양파 > 10:\n",
        "    print(\"양파\", 양파, \"개 남았습니다.\")\n",
        "    if 양파 ==0:\n",
        "        break\n",
        "    양파 -= 1\n",
        "else:\n",
        "    print(\"양파 다 팔렸습니다.\")"
      ],
      "metadata": {
        "colab": {
          "base_uri": "https://localhost:8080/"
        },
        "id": "6jkybXdJW7sS",
        "outputId": "a521023e-b0c5-4729-f498-56f81413806f"
      },
      "execution_count": 91,
      "outputs": [
        {
          "output_type": "stream",
          "name": "stdout",
          "text": [
            "양파 다 팔렸습니다.\n"
          ]
        }
      ]
    },
    {
      "cell_type": "code",
      "source": [
        "# 반복문의 흐름을 제어하는 continiue와 break\n",
        "\n",
        "i = 0\n",
        "while True:\n",
        "    print(i)\n",
        "    i+=1\n",
        "    if i == 10:\n",
        "        break\n",
        "\n",
        "for i in range(10):\n",
        "    print(i)\n",
        "    if i==10:\n",
        "        break"
      ],
      "metadata": {
        "colab": {
          "base_uri": "https://localhost:8080/"
        },
        "id": "imCeJJ9IYHs-",
        "outputId": "32a2c1a5-8fbd-4c86-90c1-a663dc0d9503"
      },
      "execution_count": 94,
      "outputs": [
        {
          "output_type": "stream",
          "name": "stdout",
          "text": [
            "0\n",
            "1\n",
            "2\n",
            "3\n",
            "4\n",
            "5\n",
            "6\n",
            "7\n",
            "8\n",
            "9\n",
            "0\n",
            "1\n",
            "2\n",
            "3\n",
            "4\n",
            "5\n",
            "6\n",
            "7\n",
            "8\n",
            "9\n"
          ]
        }
      ]
    },
    {
      "cell_type": "code",
      "source": [
        "i = 0\n",
        "while i <10:\n",
        "    i+=1\n",
        "    if i % 2 == 0:\n",
        "        continue\n",
        "    print(i)\n",
        "\n",
        "for i in range(10):\n",
        "    if i % 2 ==0:\n",
        "        continue\n",
        "    print(i)\n",
        "\n",
        "# continue는 현재 반복의 나머지 부분을 건너 뛰고 다음 반복으로 넘아간다."
      ],
      "metadata": {
        "colab": {
          "base_uri": "https://localhost:8080/"
        },
        "id": "GV-hVaCuY7JX",
        "outputId": "bfcb4de2-9a5b-4b09-c853-0ecfa2cd27e2"
      },
      "execution_count": 95,
      "outputs": [
        {
          "output_type": "stream",
          "name": "stdout",
          "text": [
            "1\n",
            "3\n",
            "5\n",
            "7\n",
            "9\n",
            "1\n",
            "3\n",
            "5\n",
            "7\n",
            "9\n"
          ]
        }
      ]
    },
    {
      "cell_type": "code",
      "source": [
        "# 붕어빵 리펙토링\n",
        "\n",
        "# 변수값 입력\n",
        "#bung__1, bung__2, bung__3 = \"붕어빵(팥)\", \"붕어빵(슈크림)\", \"붕어빵(잡채)\"\n",
        "#bung__1__sell, bung__2__sell, bung__3__sell = 2000, 2500, 3000\n",
        "\n",
        "#order__2, order__3 = 2, 3\n",
        "\n",
        "# 붕어빵 계산값\n",
        "#order__2__pay, order__3__pay = bung__2__sell * order__2, bung__3__sell * order__3\n",
        "\n",
        "# 구매 총 개수\n",
        "#total = order__2 + order__3\n",
        "\n",
        "# 구매 총 금액\n",
        "#total_pay = order__2__pay + order__3__pay\n",
        "\n",
        "# 출력\n",
        "#print(f'주문이 완료되었습니다. {bung__2}{order__2}개,{bung__3}{order__3}개 총 {total}개. 결제 금액은 {total_pay}원 입니다.')\n",
        "\n"
      ],
      "metadata": {
        "id": "Pag4xuDfazrT"
      },
      "execution_count": null,
      "outputs": []
    },
    {
      "cell_type": "code",
      "source": [
        "# 예제로 while문 익혀보기\n",
        "\n",
        "# 콜라츠라는 사람은 주어진 수가 1이 될때까지 다음 작업을 반복하면, 모든 수를 1로 만들 수 있다고 추측했다.\n",
        "# 작업\n",
        "# 1-1. 입력된 수가 짝수라면 2로 나눈다.\n",
        "# 1-2. 입력된 수가 홀수라면 3을 곱하고 1을 더한다.\n",
        "# 위 결과로 나온 수에 같은 작업을 1이 될때까지 반복한다.\n",
        "\n",
        "# num 변수에 있는 수를 1로 만드는데 몇번이나 작업을 반복해야 하는지 출력한다.\n",
        "\n",
        "num = 7\n",
        "정답 = 0\n",
        "\n",
        "while num != 1:\n",
        "    정답 += 1\n",
        "    if num % 2 == 0:\n",
        "        num /= 2\n",
        "        print(int(num))\n",
        "        continue\n",
        "    else:\n",
        "        num *= 3\n",
        "        num += 1\n",
        "        print(int(num))\n",
        "        continue\n",
        "\n",
        "\n",
        "print(f'정답은 {정답}번 입니다.')"
      ],
      "metadata": {
        "colab": {
          "base_uri": "https://localhost:8080/"
        },
        "id": "i_owg1bebWvg",
        "outputId": "31f57971-885b-44dc-b564-f0a52bf728ec"
      },
      "execution_count": 106,
      "outputs": [
        {
          "output_type": "stream",
          "name": "stdout",
          "text": [
            "22\n",
            "11\n",
            "34\n",
            "17\n",
            "52\n",
            "26\n",
            "13\n",
            "40\n",
            "20\n",
            "10\n",
            "5\n",
            "16\n",
            "8\n",
            "4\n",
            "2\n",
            "1\n",
            "정답은 16번 입니다.\n"
          ]
        }
      ]
    },
    {
      "cell_type": "code",
      "source": [],
      "metadata": {
        "id": "Ap8mfoYCd3Pq"
      },
      "execution_count": null,
      "outputs": []
    }
  ]
}