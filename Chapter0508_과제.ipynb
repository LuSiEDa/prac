{
  "cells": [
    {
      "cell_type": "markdown",
      "metadata": {
        "id": "view-in-github",
        "colab_type": "text"
      },
      "source": [
        "<a href=\"https://colab.research.google.com/github/LuSiEDa/prac/blob/main/Chapter0508_%E1%84%80%E1%85%AA%E1%84%8C%E1%85%A6.ipynb\" target=\"_parent\"><img src=\"https://colab.research.google.com/assets/colab-badge.svg\" alt=\"Open In Colab\"/></a>"
      ]
    },
    {
      "cell_type": "markdown",
      "metadata": {
        "id": "WXEwMsfUct7U"
      },
      "source": [
        "안녕하세요.<br><br>\n",
        "수강생 여러분~! Chapter05 ~ 08 수업은 잘 들으셨나요?\n",
        "\n",
        "Chapter05 ~ 08의 수업 내용을 바탕으로 아래 문제를 풀어주시면 됩니다.\n",
        "\n",
        "<br>\n",
        "\n",
        "\n",
        "[**답변 입력 방법**]\n",
        "\n",
        "문제 아래에 있는 코드 입력창에 정답코드를 작성하신 후  __▷ 버튼을 클릭해 코드를 실행__ 해보세요<br>"
      ]
    },
    {
      "cell_type": "markdown",
      "metadata": {
        "id": "qoyC9wF-3hvs"
      },
      "source": [
        "-----"
      ]
    },
    {
      "cell_type": "markdown",
      "metadata": {
        "id": "vkeL6Q7r1kvI"
      },
      "source": [
        "## 모험가들의 레벨업 도전\n",
        "\n",
        "### [배경 이야기]\n",
        "\n",
        "당신은 마법사, 전사, 도적, 힐러 네 명의 모험가를 이끄는 리더입니다.\n",
        "\n",
        "각 캐릭터는 힘, 민첩, 지능, 체력이라는 능력치를 가지고 있습니다. 이 능력치들을 이용해 다양한 도전을 해결하고 사냥을 통해 경험치를 얻어 레벨업을 해야 합니다.\n",
        "\n",
        "<br>\n",
        "\n",
        "### [동료 캐릭터와 능력치 정보]\n",
        "\n",
        "마법사: 힘(10), 민첩(20), 지능(80), 체력(50)\n",
        "\n",
        "전사: 힘(80), 민첩(30), 지능(20), 체력(100)\n",
        "\n",
        "도적: 힘(40), 민첩(80), 지능(30), 체력(60)\n",
        "\n",
        "힐러: 힘(20), 민첩(40), 지능(70), 체력(70)\n",
        "\n",
        "<br>\n",
        "\n",
        "* 변수명을 영어로 변경해서 풀어보세요 !"
      ]
    },
    {
      "cell_type": "markdown",
      "metadata": {
        "id": "ngnjSqc41kvJ"
      },
      "source": [
        "<br>\n",
        "\n",
        "__[문제 1: 첫 번째 사냥]__\n",
        "\n",
        "마법사는 몬스터를 사냥하기 위해 마법을 사용합니다.\n",
        "\n",
        "마법을 사용하려면 지능이 50 이상이어야 합니다.\n",
        "\n",
        "마법사의 지능이 50 이상인지 확인하세요."
      ]
    },
    {
      "cell_type": "code",
      "execution_count": 16,
      "metadata": {
        "colab": {
          "base_uri": "https://localhost:8080/"
        },
        "id": "a44BRaa71kvJ",
        "outputId": "3ea5f719-138d-4a29-dcb8-e3b7eeda1cb5"
      },
      "outputs": [
        {
          "output_type": "stream",
          "name": "stdout",
          "text": [
            "마법을 사용할 수 있습니다.\n"
          ]
        }
      ],
      "source": [
        "str = \"힘\"\n",
        "spi = \"민첩\"\n",
        "inte = \"지능\"\n",
        "hp = \"체력\"\n",
        "\n",
        "magic_str = 10\n",
        "magic_spi = 20\n",
        "magic_inte = 80\n",
        "magic_hp = 50\n",
        "\n",
        "use_magic = 50\n",
        "\n",
        "if magic_inte >= use_magic:\n",
        "    print(\"마법을 사용할 수 있습니다.\")\n",
        "else :\n",
        "    print(\"마법을 사용할 수 없습니다.\")"
      ]
    },
    {
      "cell_type": "markdown",
      "metadata": {
        "id": "9CIV846U1kvJ"
      },
      "source": [
        "<br>\n",
        "\n",
        "__[문제 2: 두 번째 사냥]__\n",
        "\n",
        "전사는 강력한 공격을 하기 위해 자신의 힘을 사용합니다.\n",
        "\n",
        "전사의 힘이 60 이상이고 체력이 80 이상인지 확인하세요."
      ]
    },
    {
      "cell_type": "code",
      "source": [
        "worrier_str = 80\n",
        "worrier_spi = 30\n",
        "worrier_inte = 20\n",
        "worrier_hp = 100\n",
        "\n",
        "if worrier_str >= 60 and worrier_hp >= 80:\n",
        "    print(\"전사는 힘이 60 이상이고 체력이 80 이상입니다.\")\n",
        "elif worrier_str < 60 and worrier_hp >= 80:\n",
        "    print(\"전사는 힘이 60 미만이지만 체력은 80 이상입니다.\")\n",
        "elif worrier_str >= 60 and worrier_hp < 80:\n",
        "    print(\"전사는 힘이 60이상이지만 체력은 80 미만입니다.\")\n",
        "else :\n",
        "    print(\"전사는 힘도 60미만이고 체력도 80 미만입니다.\")\n",
        "\n",
        ""
      ],
      "metadata": {
        "colab": {
          "base_uri": "https://localhost:8080/"
        },
        "id": "EeLsQZzH8V4C",
        "outputId": "009b522a-a0ae-4f7b-e5c4-248349e97772"
      },
      "execution_count": 18,
      "outputs": [
        {
          "output_type": "stream",
          "name": "stdout",
          "text": [
            "전사는 힘이 60 이상이고 체력이 80 이상입니다.\n"
          ]
        }
      ]
    },
    {
      "cell_type": "markdown",
      "metadata": {
        "id": "2cC1byjV1kvK"
      },
      "source": [
        "<br>\n",
        "\n",
        "__[문제 3: 세 번째 사냥]__\n",
        "\n",
        "도적은 민첩함을 이용해 몬스터를 회피하고 공격합니다.\n",
        "\n",
        "도적의 민첩이 70 이상이거나 힘이 50 이상인지 확인하세요."
      ]
    },
    {
      "cell_type": "code",
      "execution_count": 20,
      "metadata": {
        "colab": {
          "base_uri": "https://localhost:8080/"
        },
        "id": "2qSk3UKC1kvK",
        "outputId": "ee0340c0-ee26-47db-e30b-e3a8a33275fe"
      },
      "outputs": [
        {
          "output_type": "stream",
          "name": "stdout",
          "text": [
            "도적은 민첩이 70이상이지만 힘은 50 미만입니다.\n"
          ]
        }
      ],
      "source": [
        "thif_str = 40\n",
        "thif_spi = 80\n",
        "thif_inte = 30\n",
        "thif_hp = 60\n",
        "\n",
        "if thif_spi >= 70 and thif_str >= 50:\n",
        "    print(\"도적은 민첩이 70 이상이고 힘이 50 이상입니다.\")\n",
        "elif thif_spi < 70 and thif_str >= 50:\n",
        "    print(\"도적은 민첩이 70 미만이지만 힘은 50 이상입니다.\")\n",
        "elif thif_spi >= 70 and thif_str < 50:\n",
        "    print(\"도적은 민첩이 70이상이지만 힘은 50 미만입니다.\")\n",
        "else :\n",
        "    print(\"도적은 민첩도 70미만이고 힘도 50 미만입니다.\")\n",
        "\n",
        ""
      ]
    },
    {
      "cell_type": "markdown",
      "metadata": {
        "id": "yZLnodHl1kvK"
      },
      "source": [
        "<br>\n",
        "\n",
        "__[문제 4: 네 번째 사냥]__\n",
        "\n",
        "힐러는 파티의 체력을 회복시키기 위해 마법을 사용합니다.\n",
        "\n",
        "힐러의 지능이 60 이상이고, 체력이 50 이상인지 확인하세요."
      ]
    },
    {
      "cell_type": "code",
      "execution_count": 21,
      "metadata": {
        "colab": {
          "base_uri": "https://localhost:8080/"
        },
        "id": "uENLantq1kvL",
        "outputId": "16d6ac68-14b1-41ae-f521-aa3b94a9d4bc"
      },
      "outputs": [
        {
          "output_type": "stream",
          "name": "stdout",
          "text": [
            "힐러는 지능이 60 이상이고 체력이 50 이상입니다.\n"
          ]
        }
      ],
      "source": [
        "heal_str = 20\n",
        "heal_spi = 40\n",
        "heal_inte = 70\n",
        "heal_hp = 70\n",
        "\n",
        "if heal_inte >= 60 and heal_hp >= 50:\n",
        "    print(\"힐러는 지능이 60 이상이고 체력이 50 이상입니다.\")\n",
        "elif heal_inte < 70 and heal_hp >= 50:\n",
        "    print(\"힐러는 지능이 60 미만이지만 체력이 50 이상입니다.\")\n",
        "elif heal_inte >= 70 and heal_hp < 50:\n",
        "    print(\"힐러는 지능이 60 이상이지만 체력이 50 미만입니다.\")\n",
        "else :\n",
        "    print(\"힐러는 지능도 60 미만이고 체력도 50 미만입니다.\")\n"
      ]
    },
    {
      "cell_type": "markdown",
      "metadata": {
        "id": "bQqLixcu1kvL"
      },
      "source": [
        "<br>\n",
        "\n",
        "__[문제 5: 레벨업]__\n",
        "\n",
        "모든 캐릭터가 사냥을 성공적으로 마쳤습니다. 이제 경험치를 얻어 레벨업을 해야 합니다.\n",
        "\n",
        "\n",
        "각 캐릭터의 경험치가 100 이상인지 print()를 이용해 확인해주세요.\n",
        "\n",
        "<br>\n",
        "\n",
        "경험치는 아래와 같습니다.\n",
        "\n",
        "마법사: 120\n",
        "\n",
        "전사: 150\n",
        "\n",
        "도적: 110\n",
        "\n",
        "힐러: 90\n",
        "\n"
      ]
    },
    {
      "cell_type": "code",
      "execution_count": 25,
      "metadata": {
        "colab": {
          "base_uri": "https://localhost:8080/"
        },
        "id": "X0Kc1UwO1kvL",
        "outputId": "9328c578-06c2-49e5-9b4e-346c472f133f"
      },
      "outputs": [
        {
          "output_type": "stream",
          "name": "stdout",
          "text": [
            "마법사는 경험치가 100 이상입니다.\n",
            "전사는 경험치가 100 이상입니다.\n",
            "도적은 경험치가 100 이상입니다.\n",
            "힐러는 경험치가 모자랍니다.\n"
          ]
        }
      ],
      "source": [
        "exe = 100\n",
        "magic_exe = 120\n",
        "worrier_exe = 150\n",
        "thif_exe = 110\n",
        "heal_exe = 90\n",
        "\n",
        "if magic_exe >= exe:\n",
        "    print(\"마법사는 경험치가 100 이상입니다.\")\n",
        "else :\n",
        "    print(\"마법사는 경험치가 모자랍니다.\")\n",
        "\n",
        "if worrier_exe >= exe:\n",
        "    print(\"전사는 경험치가 100 이상입니다.\")\n",
        "else :\n",
        "    print(\"전사는 경험치가 모자랍니다.\")\n",
        "\n",
        "if thif_exe >= exe:\n",
        "    print(\"도적은 경험치가 100 이상입니다.\")\n",
        "else :\n",
        "    print(\"도적은 경험치가 모자랍니다.\")\n",
        "if heal_exe >= exe:\n",
        "    print(\"힐러는 경험치가 100 이상입니다.\")\n",
        "else :\n",
        "    print(\"힐러는 경험치가 모자랍니다.\")"
      ]
    }
  ],
  "metadata": {
    "colab": {
      "provenance": [],
      "include_colab_link": true
    },
    "kernelspec": {
      "display_name": "Python 3",
      "name": "python3"
    },
    "language_info": {
      "name": "python"
    }
  },
  "nbformat": 4,
  "nbformat_minor": 0
}