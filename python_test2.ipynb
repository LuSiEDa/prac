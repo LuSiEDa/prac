{
  "nbformat": 4,
  "nbformat_minor": 0,
  "metadata": {
    "colab": {
      "provenance": [],
      "authorship_tag": "ABX9TyMq/AECqM6FQXXH76wrQJBG",
      "include_colab_link": true
    },
    "kernelspec": {
      "name": "python3",
      "display_name": "Python 3"
    },
    "language_info": {
      "name": "python"
    }
  },
  "cells": [
    {
      "cell_type": "markdown",
      "metadata": {
        "id": "view-in-github",
        "colab_type": "text"
      },
      "source": [
        "<a href=\"https://colab.research.google.com/github/LuSiEDa/prac/blob/main/python_test2.ipynb\" target=\"_parent\"><img src=\"https://colab.research.google.com/assets/colab-badge.svg\" alt=\"Open In Colab\"/></a>"
      ]
    },
    {
      "cell_type": "code",
      "execution_count": 3,
      "metadata": {
        "id": "yBJDJDh3SatN",
        "colab": {
          "base_uri": "https://localhost:8080/"
        },
        "outputId": "4d4fa5f4-9750-42cd-96ac-5bddc1e97520"
      },
      "outputs": [
        {
          "output_type": "stream",
          "name": "stdout",
          "text": [
            "5\n",
            "5 <class 'int'>\n",
            "5\n",
            "5 <class 'int'>\n"
          ]
        }
      ],
      "source": [
        "# 함수와 메서드\n",
        "\n",
        "# 함수 : 어디에 속해있지 않거 단독 모듈이라 함수를 그냥 호출하여 사용 예)print(), input()\n",
        "# 매소드 : 함수의 클래스 안에 속해 있고 클래스의 멤버 변수들을 이용해서 구현된 것. 참조해야 하는 것없이 단독X\n",
        "\n",
        "# 입력과 출력\n",
        "\n",
        "# 입력 : input()\n",
        "# 출력 : print()\n",
        "\n",
        "# 인풋 사용례\n",
        "\n",
        "# 인사 = input(\"우리학교 최고 존잘남)아... 안녕\")\n",
        "# print(인사 + \"나도 신기해\")\n",
        "# input으로 값을 넣으면 문자열 취급\n",
        "\n",
        "# 형변환 1\n",
        "\n",
        "정수 = input()\n",
        "정수 = int(정수)\n",
        "print(정수, type(정수))\n",
        "\n",
        "# 형변환 2\n",
        "\n",
        "정수 = int(input())\n",
        "print(정수, type(정수))\n",
        "\n",
        "# 그 외 입력값의 형변환이 가능한 종류 : tuple(), list(), dict(), set()"
      ]
    },
    {
      "cell_type": "code",
      "source": [
        "\n",
        "넌센스 , 정답 = input().split(\",\")\n",
        "print(f'넌센스 퀴즈 : {넌센스}')\n",
        "print(f'정답 : {정답}')\n",
        "\n",
        "#내 나름대로 이해한 바:\n",
        "#인풋값은 띄어쓰기를 인식 못한다. 하나의 값만 인식한다.\n",
        "#그것을 스플릿 매서드로 구분하게끔 입력 (“,”으로 쉼표를 기준으로 끊어라)\n",
        "#정의된 넌센스 퀴즈를 쉼표 기준으로 끊어 앞 부분은 넌센스, 뒷 부분은 정답으로 변수값 입력됨.\n",
        "\n",
        "# map 함수 : 여러 개의 데이터를 받아서 각각의 요소에 함수를 적용한 결과를 반환하는 내장 함수입니다.\n",
        "# 기본 문법 : map(함수, 함수에 적용할 데이터 집합)\n",
        "# 예) 번호1, 번호2, 번호3, 번호4 = map(int, input().split(\",\")) -> 입력 값을 넣으면 각각 적용한다.\n",
        "\n"
      ],
      "metadata": {
        "colab": {
          "base_uri": "https://localhost:8080/"
        },
        "id": "ZvoLkFYqEYOE",
        "outputId": "05a2b59c-1cab-439c-c338-f0676cfd5888"
      },
      "execution_count": 4,
      "outputs": [
        {
          "output_type": "stream",
          "name": "stdout",
          "text": [
            "스페인에서 에스파를 만나면?, 에스파냐\n",
            "넌센스 퀴즈 : 스페인에서 에스파를 만나면?\n",
            "정답 :  에스파냐\n"
          ]
        }
      ]
    },
    {
      "cell_type": "code",
      "source": [
        "# 레거시 코드 : 누군가 남겨두고간 코드\n",
        "# 리펙토링 : 결과의 변경없이 코드의 구조를 재조정하는 것.\n",
        "\n",
        "# 변수값 입력\n",
        "#bung__1, bung__2, bung__3 = \"붕어빵(팥)\", \"붕어빵(슈크림)\", \"붕어빵(잡채)\"\n",
        "#bung__1__sell, bung__2__sell, bung__3__sell = 2000, 2500, 3000\n",
        "#order__2, order__3 = 2, 3\n",
        "\n",
        "# 붕어빵 계산값\n",
        "#order__2__pay, order__3__pay = bung__2__sell * order__2, bung__3__sell * order__3\n",
        "\n",
        "# 구매 총 개수\n",
        "#total = order__2 + order__3\n",
        "\n",
        "# 구매 총 금액\n",
        "#total_pay = order__2__pay + order__3__pay\n",
        "\n",
        "# 출력\n",
        "#print(f'주문이 완료되었습니다. {bung__2}{order__2}개,{bung__3}{order__3}개 총 {total}개. 결제 금액은 {total_pay}원 입니다.')\n",
        "\n",
        "# 위 코드를 리펠토링 해봅시다\n",
        "\n",
        "\n",
        "\n"
      ],
      "metadata": {
        "id": "PObMsiZeKntH"
      },
      "execution_count": null,
      "outputs": []
    },
    {
      "cell_type": "code",
      "source": [
        "# print() 함수의 기능 이용하기\n",
        "\n",
        "print(\"초코칩\", \"민트\", \"샷추가\", \"휘핑크림\")\n",
        "print(\"초코칩\", \"민트\", \"샷추가\", \"휘핑크림\", sep = \"/\")\n",
        "print(\"초코칩\", \"민트\", \"샷추가\", \"휘핑크림\", sep = ':')\n",
        "print(\"초코칩\", \"민트\", \"샷추가\", \"휘핑크림\", sep = '   ')\n",
        "\n",
        "# end=' '\n",
        "print(\"초코칩\", \"민트\", \"샷추가\", \"휘핑크림\", end = \"123\")\n",
        "print(\"초코칩\", \"민트\", \"샷추가\", \"휘핑크림\", end = \"123\")"
      ],
      "metadata": {
        "colab": {
          "base_uri": "https://localhost:8080/"
        },
        "id": "mAguMpz2LuCB",
        "outputId": "eb2d72f4-1738-449e-9643-85dedd12ce20"
      },
      "execution_count": 15,
      "outputs": [
        {
          "output_type": "stream",
          "name": "stdout",
          "text": [
            "초코칩 민트 샷추가 휘핑크림\n",
            "초코칩/민트/샷추가/휘핑크림\n",
            "초코칩:민트:샷추가:휘핑크림\n",
            "초코칩   민트   샷추가   휘핑크림\n",
            "초코칩 민트 샷추가 휘핑크림123초코칩 민트 샷추가 휘핑크림123"
          ]
        }
      ]
    },
    {
      "cell_type": "code",
      "source": [
        "# list :원소들이 연속적으로 저장되는 형태의 자료형. 시퀀스 자료형!!(str,tuple,dict,set 등)\n",
        "\n",
        "리스트 = [23, \"이게 리스트다\", 3.23, True, False]\n",
        "print(리스트)\n",
        "\n",
        "리스트2 = list()\n",
        "print(리스트2)\n",
        "\n",
        "# list(range(시작, 끝))\n",
        "리스트_매직_들어간다 = list(range(20,0,-1))\n",
        "리스트_매직_들어간다\n",
        "\n",
        "#list(range(시작,끝,증가))\n",
        "#list(range(20,0,-1))"
      ],
      "metadata": {
        "colab": {
          "base_uri": "https://localhost:8080/"
        },
        "id": "8wSmAOmhQRYm",
        "outputId": "86609430-7f56-48ff-d6c6-6128173949dc"
      },
      "execution_count": 27,
      "outputs": [
        {
          "output_type": "stream",
          "name": "stdout",
          "text": [
            "[23, '이게 리스트다', 3.23, True, False]\n",
            "[]\n"
          ]
        },
        {
          "output_type": "execute_result",
          "data": {
            "text/plain": [
              "[20, 19, 18, 17, 16, 15, 14, 13, 12, 11, 10, 9, 8, 7, 6, 5, 4, 3, 2, 1]"
            ]
          },
          "metadata": {},
          "execution_count": 27
        }
      ]
    },
    {
      "cell_type": "code",
      "source": [
        "지갑 = [10000, 5000, 1000]\n",
        "만원, 오천원, 천원 = 지갑\n",
        "print(f'{만원} 2장, {오천원} 2장, {천원} 1장')"
      ],
      "metadata": {
        "colab": {
          "base_uri": "https://localhost:8080/"
        },
        "id": "I3tjW3FJU6zk",
        "outputId": "217826fe-878a-4844-b391-82cd4983c087"
      },
      "execution_count": 28,
      "outputs": [
        {
          "output_type": "stream",
          "name": "stdout",
          "text": [
            "10000 2장, 5000 2장, 1000 1장\n"
          ]
        }
      ]
    },
    {
      "cell_type": "code",
      "source": [
        "# 슬라이싱\n",
        "\n",
        "로또 = [3, 5, 15, 33, 41, 44]\n",
        "\n",
        "# 로또 변수에 있는 리스트의 인덱스 1번부터 2번까지의 값 출력\n",
        "\n",
        "# 로또 변수의 마지막 위치 출력\n",
        "\n",
        "# 반대로 출력\n",
        "\n",
        "# 로또 리스트 안에 33이 있는지 확인하기\n",
        "\n",
        "# 로또 리스트를 로또2 리스트와 합치기\n",
        "\n",
        "로또2 = [2, 12, 15, 24, 33, 39]\n",
        "\n",
        "# range를 이용해서 1부터 10사이에 짝수만 들어있는 짝수(변수명) 리스트 만들기\n",
        "\n",
        "# 짝수 리스트에 들어있는 값을 2배 늘리고 다시 짝수 변수에 담기\n",
        "\n",
        "# 짝수 리스트에 들어있는 요소의 개수 구하기\n",
        "\n",
        "# 짝수 리스트에 3번째 인데스 출력\n",
        "\n",
        "# len() 함수를 이용해 인덱스 마지막 값 출력\n"
      ],
      "metadata": {
        "id": "XtbsRnBLWMeP"
      },
      "execution_count": null,
      "outputs": []
    },
    {
      "cell_type": "code",
      "source": [
        "# list 값 넣고 바꾸고 지우고\n",
        "\n",
        "mzfood = [\"숙주\", \"분모자\", \"마라\", \"소세지\", \"소고기\", \"옥수수면\"]\n",
        "\n",
        "# 값 넣는 2가지 방법 : append() : 마지막 요소에 값 넣기 / insert() 원하는 곳에 값 넣기\n",
        "\n",
        "mzfood.append(\"고수\")\n",
        "mzfood.insert(1,\"탕후루\")\n",
        "print(mzfood)\n",
        "\n",
        "# 값 지우고 (-1은 끝부터)\n",
        "\n",
        "del mzfood[0]\n",
        "print(mzfood)\n",
        "\n",
        "# 값 바꾸고\n",
        "mzfood[-2] = \"양고기\"\n",
        "print(mzfood)\n",
        "\n",
        "\n",
        "# 문자열 시퀀스잖아? 그럼 저거 다 됨?\n",
        "인사 = \"반가워\"\n",
        "인사[2] = \"웡\"\n",
        "\n"
      ],
      "metadata": {
        "colab": {
          "base_uri": "https://localhost:8080/",
          "height": 269
        },
        "id": "gp1rsi2aXOHF",
        "outputId": "e773e8e7-615f-444a-d5c7-9f7545ceec3a"
      },
      "execution_count": 39,
      "outputs": [
        {
          "output_type": "stream",
          "name": "stdout",
          "text": [
            "['숙주', '탕후루', '분모자', '마라', '소세지', '소고기', '옥수수면', '고수']\n",
            "['탕후루', '분모자', '마라', '소세지', '소고기', '옥수수면', '고수']\n",
            "['탕후루', '분모자', '마라', '소세지', '소고기', '양고기', '고수']\n"
          ]
        },
        {
          "output_type": "error",
          "ename": "TypeError",
          "evalue": "'str' object does not support item assignment",
          "traceback": [
            "\u001b[0;31m---------------------------------------------------------------------------\u001b[0m",
            "\u001b[0;31mTypeError\u001b[0m                                 Traceback (most recent call last)",
            "\u001b[0;32m/tmp/ipython-input-39-2025412761.py\u001b[0m in \u001b[0;36m<cell line: 0>\u001b[0;34m()\u001b[0m\n\u001b[1;32m     21\u001b[0m \u001b[0;31m# 문자열 시퀀스잖아? 그럼 저거 다 됨?\u001b[0m\u001b[0;34m\u001b[0m\u001b[0;34m\u001b[0m\u001b[0m\n\u001b[1;32m     22\u001b[0m \u001b[0m인사\u001b[0m \u001b[0;34m=\u001b[0m \u001b[0;34m\"반가워\"\u001b[0m\u001b[0;34m\u001b[0m\u001b[0;34m\u001b[0m\u001b[0m\n\u001b[0;32m---> 23\u001b[0;31m \u001b[0m인사\u001b[0m\u001b[0;34m[\u001b[0m\u001b[0;36m2\u001b[0m\u001b[0;34m]\u001b[0m \u001b[0;34m=\u001b[0m \u001b[0;34m\"웡\"\u001b[0m\u001b[0;34m\u001b[0m\u001b[0;34m\u001b[0m\u001b[0m\n\u001b[0m\u001b[1;32m     24\u001b[0m \u001b[0;34m\u001b[0m\u001b[0m\n\u001b[1;32m     25\u001b[0m \u001b[0mmzfood\u001b[0m\u001b[0;34m.\u001b[0m\u001b[0mreverse\u001b[0m\u001b[0;34m(\u001b[0m\u001b[0mlist\u001b[0m\u001b[0;34m)\u001b[0m\u001b[0;34m\u001b[0m\u001b[0;34m\u001b[0m\u001b[0m\n",
            "\u001b[0;31mTypeError\u001b[0m: 'str' object does not support item assignment"
          ]
        }
      ]
    },
    {
      "cell_type": "code",
      "source": [
        "#거꾸로\n",
        "\n",
        "print(mzfood)\n",
        "mzfood.reverse()\n",
        "\n",
        "print(mzfood)\n",
        "\n",
        "# 오름차순\n",
        "mzfood.sort()\n",
        "print(mzfood)\n",
        "\n",
        "# 왜 print문을 쓰면 none이 나올까?\n",
        "print(mzfood.reverse())\n",
        "print(mzfood.sort())\n",
        "\n",
        "# 2차원 리스트에 대해서도 공부는 필수!!!\n",
        "\n",
        "양파같은 = [[2.0],[3.1]]\n",
        "\n",
        "print(양파같은[0])\n",
        "print(양파같은[1])\n",
        "# 3을 출력해줘\n",
        "print(양파같은[1][0])\n",
        "\n",
        "양파같은.append([4,1])\n",
        "print(양파같은)"
      ],
      "metadata": {
        "colab": {
          "base_uri": "https://localhost:8080/"
        },
        "id": "PTdvKt_pmcmm",
        "outputId": "f5f35a3d-39be-4813-8f70-7547f3c144a6"
      },
      "execution_count": 54,
      "outputs": [
        {
          "output_type": "stream",
          "name": "stdout",
          "text": [
            "['고수', '마라', '분모자', '소고기', '소세지', '양고기', '탕후루']\n",
            "['탕후루', '양고기', '소세지', '소고기', '분모자', '마라', '고수']\n",
            "['고수', '마라', '분모자', '소고기', '소세지', '양고기', '탕후루']\n",
            "None\n",
            "None\n",
            "[2.0]\n",
            "[3.1]\n",
            "3.1\n",
            "[[2.0], [3.1], [4, 1]]\n"
          ]
        }
      ]
    },
    {
      "cell_type": "code",
      "source": [
        "# tuple :리스트처럼 요소를 일렬로 저장하지만 안에 저장된 요소를 변경, 추가, 삭제할 수 없다.\n",
        "\n",
        "# 값을 추가, 삭제, 변경할 수 없기 때문에, 사용하지 못하는 메소드가 많다.\n",
        "\n",
        "# tuple의 생성 방법 tuple = 값, 값 또는 tuple = (값, 값)\n",
        "\n",
        "# 리스트는 대괄호 [], 튜플은 소괄호()\n",
        "\n",
        "튜플 = (1, \"이\", 3.0)\n",
        "print(튜플)\n",
        "\n",
        "수강생 = \"중꺾그마\"\n",
        "\n",
        "수강생_list = list(수강생)\n",
        "수강생_tuple = tuple(수강생)\n",
        "\n",
        "print(수강생_list)\n",
        "print(수강생_tuple)\n",
        "\n",
        "수강생_list[1] =\"뿌\"\n",
        "print(수강생_list)\n",
        "\n",
        "#join 함수!!!\n",
        "\n",
        "취뽀_수강생 = \"\".join(수강생_list)\n",
        "print(취뽀_수강생)\n",
        "\n",
        "취뽀_수강생 = \"\".join(수강생_tuple)\n",
        "        #해설 : “”을 사이에 넣으면서 합쳐!\n",
        "print(취뽀_수강생)"
      ],
      "metadata": {
        "colab": {
          "base_uri": "https://localhost:8080/"
        },
        "id": "ywRShecgq3tt",
        "outputId": "ec89fe02-ddd0-4dea-8d25-dbd69bcd409c"
      },
      "execution_count": 60,
      "outputs": [
        {
          "output_type": "stream",
          "name": "stdout",
          "text": [
            "(1, '이', 3.0)\n",
            "['중', '꺾', '그', '마']\n",
            "('중', '꺾', '그', '마')\n",
            "['중', '뿌', '그', '마']\n",
            "중뿌그마\n"
          ]
        }
      ]
    },
    {
      "cell_type": "code",
      "source": [
        "# 공통점은 뭔가요?\n",
        "print(튜플)\n",
        "# 길이를 구할 수 있어요\n",
        "print(len(튜플))\n",
        "# 곱하기 연산으로 요소를 복사할 수 있어요.\n",
        "print(튜플 * 3)\n",
        "# 튜플은 요소들끼리 더할 수 있다.\n",
        "print(튜플 + 튜플)\n",
        "# 튜플은 인덱싱이 가능하다\n",
        "print(튜플[2])\n",
        "# 튜플의 인덱스\n",
        "print(튜플.index(3.0))\n",
        "# 튜플 요소의 개수\n",
        "print(튜플.count(1))\n",
        "# 튜플도 슬라이싱이 가능하다\n",
        "print(튜플[1:3])\n",
        "\n",
        " #튜플은 왜 쓸까요?\n",
        "\t#-> 변경하면 안되는 변수 또는 중요한 데이터를 넣어서 보안적으로 관리. (은행계좌, 비밀번호)\n",
        "\t#-> list는 tuple보다 무겁다. 파이썬은 동적배열을 지원합니다. list에 값을 추가로 할당하면 메모리 크기가 더블링을 함. (느-려-)\n",
        "\n"
      ],
      "metadata": {
        "colab": {
          "base_uri": "https://localhost:8080/"
        },
        "id": "yFBQ-TgJwh4M",
        "outputId": "2254fb83-a3ce-4b32-84c9-9f234fba2591"
      },
      "execution_count": 71,
      "outputs": [
        {
          "output_type": "stream",
          "name": "stdout",
          "text": [
            "(1, '이', 3.0)\n",
            "3\n",
            "(1, '이', 3.0, 1, '이', 3.0, 1, '이', 3.0)\n",
            "(1, '이', 3.0, 1, '이', 3.0)\n",
            "3.0\n",
            "2\n",
            "1\n",
            "('이', 3.0)\n"
          ]
        }
      ]
    },
    {
      "cell_type": "code",
      "source": [
        "# dict(딕셔너리)\n",
        "    # : 여러개의 값이 일렬로 정렬되면서도 값끼리의 연관성이 존재함. (게임 캐릭터 스탯 생각하면 편함)\n",
        "\n",
        "# list[], tuple(), dict{}\n",
        "\n",
        "짱짱맨 = {\"힘\":30, \"지능\":20, \"체력\":40, \"민첩\":90}\n",
        "\n",
        "# {키 : 값} {key1:value1, key2:value2}\n",
        "# 시퀀스 데이터는 인덱싱을 이용해 데이터를 찾았다. 하지만\n",
        "# 짱짱맨[1]  X 오류발생!!!!\n",
        "\n",
        "#짱짱맨[\"힘\"]\n",
        "print(f'짱짱맨님은 힘이 {짱짱맨[\"힘\"]}입니다.')\n",
        "\n",
        "# 딕셔너리 만들기\n",
        "# 딕셔너리 = {} 또는 딕셔너리 = dict()\n",
        "# 딕셔너리 생성시 값 넣는 기호 \"\"없음\n",
        "딕셔너리 = dict(힘=30, 지능=20, 체력=40, 민첩=90)\n",
        "\n",
        "\n",
        "# zip() : 병렬처리를 도와줌\n",
        "딕셔너리4 = dict(zip([\"힘\", \"지능\", \"체력\", \"민첩\"],[30,20,40,90]))\n",
        "\n",
        "#! 각각 키와 밸류 머리수 맞춰줘야 함!\n",
        "# 값의 중복은 허락하지만 키의 중복은 허락하지 않음\n",
        "\n",
        "# 딕셔너리에 다양한 메소드\n",
        "print(짱짱맨.keys())\n",
        "\n",
        "print(짱짱맨.values())\n",
        "\n",
        "# .items() 매서드 : 딕셔너리의 키-값 쌍을 튜플 형태로 반환.\n",
        "print(짱짱맨.items())\n",
        "\n",
        "리스트화된_짱짱맨 = list(짱짱맨.items())\n",
        "print(리스트화된_짱짱맨[0])\n",
        " # => 딕셔너리를 리스트화 해서 인덱스가 먹히는 모습이다.\n",
        "\n"
      ],
      "metadata": {
        "colab": {
          "base_uri": "https://localhost:8080/"
        },
        "id": "tWCwyVsPxyeq",
        "outputId": "eed3c884-6c63-4dd6-949a-4489ecc22062"
      },
      "execution_count": 95,
      "outputs": [
        {
          "output_type": "stream",
          "name": "stdout",
          "text": [
            "짱짱맨님은 힘이 30입니다.\n",
            "dict_keys(['힘', '지능', '체력', '민첩'])\n",
            "dict_values([30, 20, 40, 90])\n",
            "dict_items([('힘', 30), ('지능', 20), ('체력', 40), ('민첩', 90)])\n",
            "('힘', 30)\n"
          ]
        }
      ]
    },
    {
      "cell_type": "code",
      "source": [
        "# 딕셔너리 값 추가, 삭제, 변경\n",
        "\n",
        "print(짱짱맨)\n",
        "\n",
        "# 추가\n",
        "짱짱맨.update({\"손재주\":44, \"매력\":100})\n",
        "\n",
        "#변경\n",
        "짱짱맨[\"지능\"] = 100\n",
        "print(짱짱맨)\n",
        "\n",
        "# 삭제\n",
        "del 짱짱맨[\"매력\"]\n",
        "print(짱짱맨)"
      ],
      "metadata": {
        "colab": {
          "base_uri": "https://localhost:8080/"
        },
        "id": "QJPrXWF3AqFr",
        "outputId": "389aa643-01ce-408b-a7ca-c00c5bfed5ac"
      },
      "execution_count": 102,
      "outputs": [
        {
          "output_type": "stream",
          "name": "stdout",
          "text": [
            "{'힘': 30, '지능': 100, '체력': 40, '민첩': 90, '손재주': 44, '매력': 100}\n",
            "{'힘': 30, '지능': 100, '체력': 40, '민첩': 90, '손재주': 44, '매력': 100}\n",
            "{'힘': 30, '지능': 100, '체력': 40, '민첩': 90, '손재주': 44}\n"
          ]
        }
      ]
    },
    {
      "cell_type": "code",
      "source": [
        "코디 = {\n",
        "    \"모자\" : {\n",
        "        \"캡\" : \"발렌시아\",\n",
        "        \"비니\" : \"셀린느\"\n",
        "    },\n",
        "    \"상의\" : {\n",
        "        \"후드티\" : \"칼하트\",\n",
        "        \"맨투맨\" : \"슈프림\"\n",
        "    }\n",
        "}\n",
        "\n",
        "코디[\"모자\"][\"캡\"]"
      ],
      "metadata": {
        "colab": {
          "base_uri": "https://localhost:8080/",
          "height": 36
        },
        "id": "dTARAlwjCarZ",
        "outputId": "044754df-eccf-4c6d-f60d-1cd04a2c1561"
      },
      "execution_count": 105,
      "outputs": [
        {
          "output_type": "execute_result",
          "data": {
            "text/plain": [
              "'발렌시아'"
            ],
            "application/vnd.google.colaboratory.intrinsic+json": {
              "type": "string"
            }
          },
          "metadata": {},
          "execution_count": 105
        }
      ]
    },
    {
      "cell_type": "code",
      "source": [
        "# 레거시 코드 : 누군가 남겨두고간 코드\n",
        "# 리펙토링 : 결과의 변경없이 코드의 구조를 재조정하는 것.\n",
        "\n",
        "# 변수값 입력\n",
        "bung__1, bung__2, bung__3 = \"붕어빵(팥)\", \"붕어빵(슈크림)\", \"붕어빵(잡채)\"\n",
        "bung__1__sell, bung__2__sell, bung__3__sell = 2000, 2500, 3000\n",
        "order__2, order__3 = 2, 3\n",
        "\n",
        "# 붕어빵 계산값\n",
        "order__2__pay, order__3__pay = bung__2__sell * order__2, bung__3__sell * order__3\n",
        "\n",
        "# 구매 총 개수\n",
        "total = order__2 + order__3\n",
        "\n",
        "# 구매 총 금액\n",
        "total_pay = order__2__pay + order__3__pay\n",
        "\n",
        "# 출력\n",
        "print(f'주문이 완료되었습니다. {bung__2}{order__2}개,{bung__3}{order__3}개 총 {total}개. 결제 금액은 {total_pay}원 입니다.')\n",
        "\n",
        "# 위 코드를 리펠토링 해봅시다"
      ],
      "metadata": {
        "colab": {
          "base_uri": "https://localhost:8080/"
        },
        "id": "5ByHQ5GzGzZ8",
        "outputId": "93f31b67-1201-470a-f03a-c49216deb982"
      },
      "execution_count": 106,
      "outputs": [
        {
          "output_type": "stream",
          "name": "stdout",
          "text": [
            "주문이 완료되었습니다. 붕어빵(슈크림)2개,붕어빵(잡채)3개 총 5개. 결제 금액은 14000원 입니다.\n"
          ]
        }
      ]
    },
    {
      "cell_type": "code",
      "source": [
        "# set 수학의 집합을 의미함. 딕셔너리와 같이 순서가 없음. 값의 중복을 허락하지 않음(중요) 셋도 딕셔너리와 같은 중괄호\n",
        "\n",
        "채소 = {\"당근\", \"배추\", \"대파\", \"양파\"}\n",
        "print(type(채소))\n",
        "\n",
        "#순서가 없고, 출력하면 요소가 다르게 나온다.\n",
        "#딕셔너리와의 차이는 {\"키\":값}의 형태가 아니라 키만 넣는다.\n",
        "#세트 = set() 또는 세트 ={}\n",
        "\n",
        "사과_리스트 = list(\"apple\")\n",
        "print(사과_리스트)\n",
        "사과_튜플 = tuple(\"apple\")\n",
        "print(사과_튜플)\n",
        "사과_셋 = set(\"apple\")\n",
        "print(사과_셋)\n",
        "\n",
        "\n",
        "# set() 자료형의 데이터 추가, 삭제, 변경\n",
        "\n",
        "# 추가\n",
        "#채소.add(\"토마토\")\n",
        "채소\n",
        "\n",
        "#채소.update(\"깻잎\")\n",
        "채소\n",
        "\n",
        "# 삭제\n",
        "#채소.remove(\"잎\")\n",
        "채소\n",
        "\n",
        "채소.discard(\"깻\")\n",
        "\n",
        "채소.pop()\n",
        "반환된_채소 = 채소.pop()\n",
        "print(f'{반환된_채소}(은)는 내다버린 채소입니다.')"
      ],
      "metadata": {
        "colab": {
          "base_uri": "https://localhost:8080/"
        },
        "id": "Kp2vuI4zITMw",
        "outputId": "fa62cbfd-8b71-4e60-d32c-a5952beb9d62"
      },
      "execution_count": 119,
      "outputs": [
        {
          "output_type": "stream",
          "name": "stdout",
          "text": [
            "<class 'set'>\n",
            "['a', 'p', 'p', 'l', 'e']\n",
            "('a', 'p', 'p', 'l', 'e')\n",
            "{'p', 'e', 'l', 'a'}\n",
            "당근(은)는 내다버린 채소입니다.\n"
          ]
        }
      ]
    },
    {
      "cell_type": "code",
      "source": [
        "# set은 집합이다. 따라서 합집합, 교집합, 차집합 등이 가능\n",
        "\n",
        "채소1 = {\"당근\", \"양파\", \"오이\", \"배추\"}\n",
        "채소2 = {\"양파\", \"오이\", \"대파\", \"가지\"}\n",
        "\n",
        "# 합집합 (union)\n",
        "print(채소1 | 채소2)\n",
        "print(set.union(채소1, 채소2))\n",
        "\n",
        "# 교집합 (intersection)\n",
        "print(채소1 & 채소2)\n",
        "print(set.intersection(채소1, 채소2))\n",
        "\n",
        "# 차집합 (difference)\n",
        "print(채소1 - 채소2)\n",
        "print(set.difference(채소1, 채소2))"
      ],
      "metadata": {
        "colab": {
          "base_uri": "https://localhost:8080/"
        },
        "id": "dMWmE6QRMczZ",
        "outputId": "e56c7a5c-ed2a-43e4-d064-522dcd2cf9a2"
      },
      "execution_count": 122,
      "outputs": [
        {
          "output_type": "stream",
          "name": "stdout",
          "text": [
            "{'당근', '오이', '대파', '가지', '양파', '배추'}\n",
            "{'당근', '오이', '대파', '가지', '양파', '배추'}\n",
            "{'양파', '오이'}\n",
            "{'양파', '오이'}\n",
            "{'당근', '배추'}\n",
            "{'당근', '배추'}\n"
          ]
        }
      ]
    }
  ]
}