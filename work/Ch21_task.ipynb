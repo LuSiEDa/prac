{
  "cells": [
    {
      "cell_type": "markdown",
      "metadata": {
        "id": "view-in-github",
        "colab_type": "text"
      },
      "source": [
        "<a href=\"https://colab.research.google.com/github/LuSiEDa/prac/blob/main/work/Ch21_task.ipynb\" target=\"_parent\"><img src=\"https://colab.research.google.com/assets/colab-badge.svg\" alt=\"Open In Colab\"/></a>"
      ]
    },
    {
      "cell_type": "markdown",
      "metadata": {
        "id": "v2nBi0uCDgAx"
      },
      "source": [
        "안녕하세요. 수강생 여러분~! Chapter21 ~ 32 수업은 잘 들으셨나요?\n",
        "\n",
        "Chapter21 ~ 32의 수업 내용을 바탕으로 아래 문제를 풀어주시면 됩니다.\n",
        "\n",
        "\n",
        "<br>\n",
        "\n",
        "\n",
        "[**답변 입력 방법**]\n",
        "\n",
        "문제 아래에 있는 코드 입력창에 정답코드를 작성하신 후  __▷ 버튼을 클릭해 코드를 실행__ 해보세요<br>"
      ]
    },
    {
      "cell_type": "markdown",
      "metadata": {
        "id": "1TubOA1EDgAz"
      },
      "source": [
        "---"
      ]
    },
    {
      "cell_type": "markdown",
      "metadata": {
        "id": "IYsjHMBdDgAz"
      },
      "source": [
        "[문제 1]\n",
        "사용자로부터 이름과 나이를 입력 받아, \"안녕하세요, [이름]님! 당신은 [나이]살입니다.\"라고 출력하는 함수 greet_user를 작성하세요."
      ]
    },
    {
      "cell_type": "code",
      "source": [
        "def greet_user(name, age):\n",
        "    print(f'안녕하세요. {name}님! 당신은 {age}살입니다.')\n",
        "\n",
        "greet_user(input(\"이름을 입력하세요\"), input(\"나이를 입력하세요\"))\n",
        "\n",
        "\n"
      ],
      "metadata": {
        "colab": {
          "base_uri": "https://localhost:8080/"
        },
        "id": "AjKiF6m_DwWo",
        "outputId": "2f810609-e5d6-48b4-ec94-26365a8bcec1"
      },
      "execution_count": 3,
      "outputs": [
        {
          "output_type": "stream",
          "name": "stdout",
          "text": [
            "이름을 입력하세요김오즈\n",
            "나이를 입력하세요817\n",
            "안녕하세요. 김오즈님! 당신은 817살입니다.\n"
          ]
        }
      ]
    },
    {
      "cell_type": "markdown",
      "metadata": {
        "id": "Eu3LsDKPDgA0"
      },
      "source": [
        "---"
      ]
    },
    {
      "cell_type": "markdown",
      "metadata": {
        "id": "DteQOR28DgA0"
      },
      "source": [
        "[문제 2] 여러 숫자를 입력받아 그 합계를 반환하는 함수 sum_numbers를 작성하세요. 이 때, 가변 매개변수를 사용하세요."
      ]
    },
    {
      "cell_type": "code",
      "source": [
        "def sum_numbers(*가변):\n",
        "    print(가변)\n",
        "    return sum(가변)\n",
        "\n",
        "\n",
        "sum_numbers(*map(int,input(\"숫자를 입력해주세요.쉼표기준 컷트\").split(\",\")))"
      ],
      "metadata": {
        "colab": {
          "base_uri": "https://localhost:8080/"
        },
        "id": "zQnebq6zGRsk",
        "outputId": "f81985d8-e7a0-4d7e-fac0-0bebc4d29e6b"
      },
      "execution_count": 8,
      "outputs": [
        {
          "output_type": "stream",
          "name": "stdout",
          "text": [
            "숫자를 입력해주세요.쉼표기준 컷트4,2,5,12123,5\n",
            "(4, 2, 5, 12123, 5)\n"
          ]
        },
        {
          "output_type": "execute_result",
          "data": {
            "text/plain": [
              "12139"
            ]
          },
          "metadata": {},
          "execution_count": 8
        }
      ]
    },
    {
      "cell_type": "markdown",
      "metadata": {
        "id": "GJhL9H__DgA0"
      },
      "source": [
        "---"
      ]
    },
    {
      "cell_type": "markdown",
      "metadata": {
        "id": "tVG83KHrDgA0"
      },
      "source": [
        "[문제 3] 사용자의 이름을 출력하는 함수 print_name을 작성하세요. 만약 이름이 주어지지 않았다면, 기본값으로 \"익명\"을 사용하세요."
      ]
    },
    {
      "cell_type": "code",
      "source": [
        "def print_name(name):\n",
        "    if name ==\" \":\n",
        "        name = \"익명\"\n",
        "        return print(name)\n",
        "    else:\n",
        "        print(name)\n",
        "\n",
        "print_name(input(\"이름을 입력하세요\"))"
      ],
      "metadata": {
        "colab": {
          "base_uri": "https://localhost:8080/"
        },
        "id": "RfNyiQA7JXnx",
        "outputId": "f2757528-c929-454b-f33f-4153e6d3f964"
      },
      "execution_count": 23,
      "outputs": [
        {
          "output_type": "stream",
          "name": "stdout",
          "text": [
            "이름을 입력하세요 \n",
            "익명\n"
          ]
        }
      ]
    },
    {
      "cell_type": "markdown",
      "metadata": {
        "id": "OpNCdxw2DgA1"
      },
      "source": [
        "---"
      ]
    },
    {
      "cell_type": "markdown",
      "metadata": {
        "id": "ND92wLQ0DgA1"
      },
      "source": [
        "[문제 4] 사용자의 이름, 나이, 성별을 출력하는 함수 print_info를 작성하세요. 이 때, 모든 매개변수는 키워드 매개변수로만 받도록 하세요."
      ]
    },
    {
      "cell_type": "code",
      "source": [
        "def print_info(*, name, age, gender):\n",
        "    print(f'이름:{name}, 나이:{age}, 성별:{gender}')\n",
        "\n",
        "print_info(name=input(\"이름을 입력하세요\"), age=input(\"나이를 입력하세요\"), gender=input(\"성별을 입력하세요\"))"
      ],
      "metadata": {
        "colab": {
          "base_uri": "https://localhost:8080/"
        },
        "id": "AyCBGGeiLByE",
        "outputId": "0203dbd9-811a-4121-f977-eecead5b350f"
      },
      "execution_count": 24,
      "outputs": [
        {
          "output_type": "stream",
          "name": "stdout",
          "text": [
            "이름을 입력하세요김오즈\n",
            "나이를 입력하세요617살\n",
            "성별을 입력하세요남자\n",
            "이름:김오즈, 나이:617살, 성별:남자\n"
          ]
        }
      ]
    },
    {
      "cell_type": "markdown",
      "metadata": {
        "id": "myifXoXCDgA1"
      },
      "source": [
        "---"
      ]
    },
    {
      "cell_type": "markdown",
      "metadata": {
        "id": "JrSU8SbNDgA1"
      },
      "source": [
        "[문제 5] 두 개의 정수를 받아 합을 반환하는 함수 add를 작성하세요. 매개변수와 반환값에 타입 어노테이션을 추가하세요."
      ]
    },
    {
      "cell_type": "code",
      "source": [
        "def add(x: int, y: int) -> int:\n",
        "    sum = x + y\n",
        "    print(sum)\n",
        "\n",
        "add(int(input(\"첫번째 숫자를 입력하세여\")),int(input(\"두번째 숫자를 입력하세여\")))"
      ],
      "metadata": {
        "colab": {
          "base_uri": "https://localhost:8080/"
        },
        "id": "ztJspv-DMMfi",
        "outputId": "fd04a50e-ea12-432b-9699-588498d7b1b3"
      },
      "execution_count": 35,
      "outputs": [
        {
          "output_type": "stream",
          "name": "stdout",
          "text": [
            "첫번째 숫자를 입력하세여3\n",
            "두번째 숫자를 입력하세여7\n",
            "10\n"
          ]
        }
      ]
    },
    {
      "cell_type": "markdown",
      "metadata": {
        "id": "qC0XewWIDgA1"
      },
      "source": [
        "---"
      ]
    },
    {
      "cell_type": "markdown",
      "metadata": {
        "id": "T5vJqDKiDgA2"
      },
      "source": [
        "[문제 6] 0부터 시작하여 n까지의 숫자 중에서 홀수만 생성하는 제너레이터 odd_numbers를 작성하세요."
      ]
    },
    {
      "cell_type": "code",
      "source": [
        "def odd_numbers(n):\n",
        "    for i in range(n + 1):\n",
        "        if i % 2 == 1:\n",
        "            yield i\n"
      ],
      "metadata": {
        "id": "63WUn3X9PeyP"
      },
      "execution_count": 38,
      "outputs": []
    },
    {
      "cell_type": "markdown",
      "metadata": {
        "id": "Y8ArkX-0DgA2"
      },
      "source": [
        "---"
      ]
    },
    {
      "cell_type": "markdown",
      "metadata": {
        "id": "AhLN8dsMDgA2"
      },
      "source": [
        "[문제 7] 두 숫자를 더하는 람다 함수를 작성하고, 이를 변수에 할당한 후 사용하세요."
      ]
    },
    {
      "cell_type": "code",
      "source": [
        "더하기 = lambda x, y: x + y\n",
        "\n",
        "결과 = 더하기(10, 20)\n",
        "print(결과)"
      ],
      "metadata": {
        "colab": {
          "base_uri": "https://localhost:8080/"
        },
        "id": "-94l08_yPnyB",
        "outputId": "b9694954-e76c-4c6d-94b0-0a72fa70ff21"
      },
      "execution_count": 36,
      "outputs": [
        {
          "output_type": "stream",
          "name": "stdout",
          "text": [
            "30\n"
          ]
        }
      ]
    },
    {
      "cell_type": "markdown",
      "metadata": {
        "id": "Q_4QYZMfDgA2"
      },
      "source": [
        "---"
      ]
    },
    {
      "cell_type": "markdown",
      "metadata": {
        "id": "JkkbBS7NDgA2"
      },
      "source": [
        "[문제 8] 사용자로부터 3개의 숫자를 입력받아, 이를 튜플로 만든 후 최소값과 최대값을 출력하는 함수 min_max를 작성하세요."
      ]
    },
    {
      "cell_type": "code",
      "source": [
        "def min_max(임의숫자: tuple):\n",
        "    print(f'최소 : {min(임의숫자)}, 최대 : {max(임의숫자)}')\n",
        "\n",
        "\n",
        "임의숫자 = tuple(map(int, input(\"숫자 3개를 입력해주세요 :\").split(\",\")))\n",
        "\n",
        "\n",
        "min_max(임의숫자)\n"
      ],
      "metadata": {
        "colab": {
          "base_uri": "https://localhost:8080/"
        },
        "id": "0auR3p9-RLXq",
        "outputId": "1dee5e3b-2519-483a-8dd8-1b6912bbf1e4"
      },
      "execution_count": 10,
      "outputs": [
        {
          "output_type": "stream",
          "name": "stdout",
          "text": [
            "숫자 3개를 입력해주세요 :4,7,10\n",
            "최소 : 4, 최대 : 10\n"
          ]
        }
      ]
    },
    {
      "cell_type": "markdown",
      "metadata": {
        "id": "c8EqudOvDgA2"
      },
      "source": [
        "---"
      ]
    },
    {
      "cell_type": "markdown",
      "metadata": {
        "id": "mZDw85C-DgA2"
      },
      "source": [
        "[문제 9] 주어진 숫자가 짝수인지 확인하는 함수 is_even을 작성하세요. 짝수라면 True를, 아니라면 False를 반환하세요. 함수 내에서 조기 리턴을 활용하세요."
      ]
    },
    {
      "cell_type": "code",
      "source": [
        "from pickle import TRUE\n",
        "def is_even(number):\n",
        "    if number % 2 == 0:\n",
        "        return True\n",
        "\n",
        "    return False\n",
        "\n",
        "풋인 = int(input(\"숫자를 입력하세요 :\"))\n",
        "print(is_even(풋인))"
      ],
      "metadata": {
        "colab": {
          "base_uri": "https://localhost:8080/"
        },
        "id": "gZyvvDp50CKy",
        "outputId": "da60eb2c-1fdc-4935-ff71-af37f9a7f0a8"
      },
      "execution_count": 16,
      "outputs": [
        {
          "output_type": "stream",
          "name": "stdout",
          "text": [
            "숫자를 입력하세요 :211\n",
            "False\n"
          ]
        }
      ]
    },
    {
      "cell_type": "markdown",
      "metadata": {
        "id": "AdNQo-SeDgA2"
      },
      "source": [
        "---"
      ]
    },
    {
      "cell_type": "markdown",
      "metadata": {
        "id": "zZVUXavnDgA2"
      },
      "source": [
        "[문제 10] 팩토리얼을 계산하는 재귀 함수 factorial을 작성하세요."
      ]
    },
    {
      "cell_type": "code",
      "source": [
        "# 5! = 5*4*3*2*1\n",
        "\n",
        "def factorial(n):\n",
        "    if n == 0:\n",
        "        return 1\n",
        "    else:\n",
        "        return n * factorial(n - 1)\n"
      ],
      "metadata": {
        "id": "WLIyVA8m1frx"
      },
      "execution_count": null,
      "outputs": []
    },
    {
      "cell_type": "markdown",
      "metadata": {
        "id": "oIkDR5N4DgA2"
      },
      "source": [
        "---"
      ]
    },
    {
      "cell_type": "markdown",
      "metadata": {
        "id": "6StSzDuADgA2"
      },
      "source": [
        "[문제 11] 문자열 리스트를 받아, 각 문자열의 길이를 출력하는 함수 print_lengths를 작성하세요."
      ]
    },
    {
      "cell_type": "code",
      "source": [
        "길이 = []\n",
        "def print_lengths(길이):\n",
        "        print(f'{길이}의 길이는 {len(길이)}입니다')\n",
        "\n",
        "\n",
        "프린트 = input(\"문자열을 입력하세요 :\")\n",
        "print_lengths(프린트)\n"
      ],
      "metadata": {
        "colab": {
          "base_uri": "https://localhost:8080/"
        },
        "id": "VJoFAY7g11Zk",
        "outputId": "e01079c8-f621-4b2c-dde2-6db0d0c0eecb"
      },
      "execution_count": 26,
      "outputs": [
        {
          "output_type": "stream",
          "name": "stdout",
          "text": [
            "문자열을 입력하세요 :아자차카타파\n",
            "아자차카타파의 길이는 6입니다\n"
          ]
        }
      ]
    },
    {
      "cell_type": "markdown",
      "metadata": {
        "id": "PSPGnmOKDgA3"
      },
      "source": [
        "---"
      ]
    },
    {
      "cell_type": "markdown",
      "metadata": {
        "id": "KIOPW1LRDgA3"
      },
      "source": [
        "[문제 12] 두 문자열을 받아서 긴 문자열을 반환하는 함수 longer_string을 작성하세요. 만약 두 문자열의 길이가 같다면, 첫 번째 문자열을 반환하세요."
      ]
    },
    {
      "cell_type": "code",
      "source": [
        "def longer_string(길이1, 길이2):\n",
        "    print(max(길이1, 길이2))\n",
        "\n",
        "longer_string(input(\"첫번째 문자열을 입력하세요. : \"), input(\"두번째 문자열을 입력하세요. : \"))"
      ],
      "metadata": {
        "colab": {
          "base_uri": "https://localhost:8080/"
        },
        "id": "0dsMU-XJ6Z8d",
        "outputId": "b89a6134-c948-45b7-a37d-6969a4347d73"
      },
      "execution_count": 27,
      "outputs": [
        {
          "output_type": "stream",
          "name": "stdout",
          "text": [
            "첫번째 문자열을 입력하세요. : 가나다라마\n",
            "두번째 문자열을 입력하세요. : 바사아자차카타\n",
            "바사아자차카타\n"
          ]
        }
      ]
    }
  ],
  "metadata": {
    "language_info": {
      "name": "python"
    },
    "colab": {
      "provenance": [],
      "include_colab_link": true
    },
    "kernelspec": {
      "name": "python3",
      "display_name": "Python 3"
    }
  },
  "nbformat": 4,
  "nbformat_minor": 0
}