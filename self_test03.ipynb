{
  "nbformat": 4,
  "nbformat_minor": 0,
  "metadata": {
    "colab": {
      "provenance": [],
      "authorship_tag": "ABX9TyPvh4V/fkEAu85LTLXbPFxw",
      "include_colab_link": true
    },
    "kernelspec": {
      "name": "python3",
      "display_name": "Python 3"
    },
    "language_info": {
      "name": "python"
    }
  },
  "cells": [
    {
      "cell_type": "markdown",
      "metadata": {
        "id": "view-in-github",
        "colab_type": "text"
      },
      "source": [
        "<a href=\"https://colab.research.google.com/github/LuSiEDa/prac/blob/main/self_test03.ipynb\" target=\"_parent\"><img src=\"https://colab.research.google.com/assets/colab-badge.svg\" alt=\"Open In Colab\"/></a>"
      ]
    },
    {
      "cell_type": "code",
      "execution_count": null,
      "metadata": {
        "colab": {
          "base_uri": "https://localhost:8080/"
        },
        "id": "3CTZpa7hqOCR",
        "outputId": "eb556cf3-bca7-474a-f02a-cc5b2b842431"
      },
      "outputs": [
        {
          "output_type": "stream",
          "name": "stdout",
          "text": [
            "95000\n"
          ]
        }
      ],
      "source": [
        "# 10만원 이상 사면 5% 30만원 이상 사면 10% 50만원 이상 사면 20% 할인\n",
        "\n",
        "# def solution(price):\n",
        "#     if price >= 500000:\n",
        "#         price -= price*0.2\n",
        "#     elif price >= 300000:\n",
        "#         price -= price*0.1\n",
        "#     else:\n",
        "#         price -= price*0.05\n",
        "#     return int(price)\n",
        "\n",
        "# 실패다. 왜냐하면 빡통 컴퓨터는 0.1, 0.2 이런걸 똑바로 인식을 못하기 때문이다. 퍼센트로 하는 것이 안전\n",
        "\n",
        "\n",
        "def solution(price):\n",
        "    if price >= 500000:\n",
        "        return price* 80 // 100\n",
        "    elif price >= 300000:\n",
        "        return price* 90 // 100\n",
        "    else:\n",
        "        return price* 95 // 100\n",
        "\n",
        "# 문제를 잘못 읽었다! 십만원 이하는 할인이 되지 않는다.\n",
        "\n",
        "print(solution(100000))"
      ]
    },
    {
      "cell_type": "code",
      "source": [
        "\n",
        "# print(n)\n",
        "\n",
        "# 1. \"*\"\n",
        "\n",
        "n = int(input())\n",
        "\n",
        "result = \"\"\n",
        "for i in range(1, n+1):\n",
        "    result += \"*\" * i\n",
        "    if i != n:\n",
        "        result +=\"\\n\"\n",
        "\n",
        "print(result)\n",
        "\n",
        "# * = 1\n",
        "\n",
        "# *\n",
        "# **  = 2\n",
        "\n",
        "# *\n",
        "# **\n",
        "# *** = 3\n",
        "\n",
        "print('\\n'.join(['*' * (i+1) for i in range(int(input()))]))\n",
        "# print를 여러번 굴리지 말라는게 핵심이었던듯"
      ],
      "metadata": {
        "colab": {
          "base_uri": "https://localhost:8080/"
        },
        "id": "nvPulgBschIy",
        "outputId": "093aba62-6912-4a42-f9c4-ec5b672cf343"
      },
      "execution_count": null,
      "outputs": [
        {
          "output_type": "stream",
          "name": "stdout",
          "text": [
            "5\n",
            "*\n",
            "**\n",
            "***\n",
            "****\n",
            "*****\n",
            "3\n",
            "*\n",
            "**\n",
            "***\n"
          ]
        }
      ]
    },
    {
      "cell_type": "code",
      "source": [
        "# 사냥감 : hp\n",
        "# 최소한을 구하여라\n",
        "\n",
        "def solution(hp):\n",
        "    ga, sa , wa = 5, 3, 1\n",
        "    damage1, life1 = divmod(hp, ga)\n",
        "    if life1 >= 0:\n",
        "        damage2, life2 = divmod(life1, sa)\n",
        "        if life2 >= 0:\n",
        "            damage3, life3 = divmod(life2, wa)\n",
        "    return damage1 + damage2 + damage3\n",
        "\n",
        "print(solution(213))\n",
        "\n",
        "# 너무 지저분한데 짧게 할 방법 없나?\n",
        "\n",
        "\n",
        "# return hp // 5 + (hp % 5) // 3 + (hp % 5 % 3)"
      ],
      "metadata": {
        "colab": {
          "base_uri": "https://localhost:8080/"
        },
        "id": "YV5D3VC-koL-",
        "outputId": "7f7ee8b4-3675-4731-c3a9-c814fb69f61f"
      },
      "execution_count": null,
      "outputs": [
        {
          "output_type": "stream",
          "name": "stdout",
          "text": [
            "43\n"
          ]
        }
      ]
    },
    {
      "cell_type": "code",
      "source": [
        "def solution(rsp):\n",
        "    answer = \"\"\n",
        "    for i in rsp:\n",
        "        if i == \"2\":\n",
        "            answer += \"0\"\n",
        "        elif i == \"0\":\n",
        "            answer += \"5\"\n",
        "        elif i == \"5\":\n",
        "            answer += \"2\"\n",
        "    return answer\n",
        "\n",
        "# 줄여보자\n",
        "\n",
        "# d = {'o':'5', '2':'0', '5':'2'} 딕트로 정리정돈!\n",
        "# return '',join(d[i]) for i in rsp)\n",
        "\n",
        "# 똑똑한 사람 참 많아~\n",
        "\n",
        "\n",
        "print(solution([\"2\",\"0\",\"5\",\"5\",\"0\"]))"
      ],
      "metadata": {
        "colab": {
          "base_uri": "https://localhost:8080/"
        },
        "id": "qNh-klUm1I-H",
        "outputId": "584d0c77-de15-465e-8530-e97fedeaa2f4"
      },
      "execution_count": null,
      "outputs": [
        {
          "output_type": "stream",
          "name": "stdout",
          "text": [
            "05225\n"
          ]
        }
      ]
    },
    {
      "cell_type": "code",
      "source": [
        "box = x*y*z\n",
        "\n",
        "(box[0]*box[1] // n) * (box[2] // n)"
      ],
      "metadata": {
        "id": "nr6kegZtVpCi"
      },
      "execution_count": null,
      "outputs": []
    },
    {
      "cell_type": "code",
      "source": [
        "def solution(my_string):\n",
        "    숫자 = []\n",
        "    for i in my_string:\n",
        "        if i in [\"0\",\"1\",\"2\",\"3\",\"4\",\"5\",\"6\",\"7\",\"8\",\"9\"]:\n",
        "             숫자 += i\n",
        "             숫자 = list(map(int, 숫자))\n",
        "    return sorted(숫자)\n",
        "\n",
        "#  return sorted([int(i) for i in my_string if i.isdigit()])\n",
        "#  return sorted(map(int, filter(lambda s: s.isdigit(), my_string)))\n",
        "\n",
        "print(solution(\"3ujeo9333\"))"
      ],
      "metadata": {
        "colab": {
          "base_uri": "https://localhost:8080/"
        },
        "id": "NpB-26PzNFu_",
        "outputId": "57224a55-628d-485d-a3fc-c0a2b02aea1e"
      },
      "execution_count": null,
      "outputs": [
        {
          "output_type": "stream",
          "name": "stdout",
          "text": [
            "[3, 3, 3, 3, 9]\n"
          ]
        }
      ]
    },
    {
      "cell_type": "code",
      "source": [
        "# sum(i for i in my_string if i.isdigit())\n",
        "# isdigit이 반환하는 건 문자열임.(\"1\",\"2\") 따라서 sum 할 수 없음\n",
        "# return sum(int(i) for i in my_string if i.isdigit())\n",
        "\n",
        "    # result = [i*j for i in numbers for j in numbers if i != j]\n",
        "    # return max(result)\n",
        "    # numbers의 각 요소를 곱한 최대값(중복 허용하지 않음)\n",
        "\n",
        "# def solution(numbers):\n",
        "#     result = [i*j for i in numbers for j in numbers if i != j]\n",
        "#     return max(result)\n",
        "# def solution(numbers):\n",
        "#     numbers.sort()\n",
        "#     return max(numbers[0]*numbers[1], numbers[-1]*numbers[-2])\n",
        "\n",
        "def solution(cipher, code):\n",
        "    answer = ''\n",
        "    for i in range(len(cipher)):\n",
        "        if (i + 1) % code == 0:\n",
        "            answer += cipher[i]\n",
        "    return answer\n",
        "\n",
        "# return ''.join(cipher[i] for i in range(len(cipher)) if (i +1) % code == 0)\n",
        "\n",
        "# def solution(cipher, code):\n",
        "#     answer = cipher[code-1::code]\n",
        "#     return answer\n",
        "\n"
      ],
      "metadata": {
        "id": "dVb77_DHYqDw",
        "colab": {
          "base_uri": "https://localhost:8080/"
        },
        "outputId": "af669f33-fd96-45f0-c45e-d4b69b4d7874"
      },
      "execution_count": null,
      "outputs": [
        {
          "output_type": "stream",
          "name": "stdout",
          "text": [
            "-1\n"
          ]
        }
      ]
    },
    {
      "cell_type": "code",
      "source": [
        "# for i in my_string:\n",
        "#     if i.islower():\n",
        "#         i.upper()\n",
        "#     else:\n",
        "#         i.lower()\n",
        "\n",
        "# return ''.join(i.upper()if i.islower() else i.lower() for i in my_string)\n",
        "# 삼항 연산자 시 if - else를 쓰려면 for가 뒤로 가야한다고 합니다.\n",
        "\n",
        "def solution(my_string, num1, num2):\n",
        "    lst = list(my_string)\n",
        "    lst[num1],lst[num2] = lst[num2],lst[num1]\n",
        "    return ''.join(lst)\n",
        "\n",
        "# 문자열은 불변이라 인덱스을 바꾸는게 안되기 때문에 리스트로 바꿔주고 교환 후 join으로 다시 묶는다.\n",
        "\n",
        "# def solution(my_string, num1, num2):\n",
        "#     [a, b] = sorted([num1, num2])\n",
        "#     return my_string[0:a] + my_string[b] + my_string[a+1:b] + my_string[a] + my_string[b+1:]\n",
        "\n",
        "# 슬라이드를 이용한 방식도 있습니다.\n",
        "\n",
        "def solution(before, after):\n",
        "    for c in set(before + after):  # ① 두 문자열에 등장하는 모든 고유 문자 순회\n",
        "        if before.count(c) != after.count(c):  # ② 해당 문자의 개수 비교\n",
        "            return 0                           # ③ 하나라도 다르면 실패\n",
        "    return 1                                   # ④ 모두 같으면 성공\n",
        "\n",
        "\n",
        "# set(a,b) :\"aaaaa\"+\"bbbbb\" = [\"aaaaabbbbb\"]\n",
        "# set(...): {\"a\", \"b\"}\n"
      ],
      "metadata": {
        "id": "GASAQbGeDVwj"
      },
      "execution_count": null,
      "outputs": []
    },
    {
      "cell_type": "code",
      "source": [
        "from array import array\n",
        "def solution(n):\n",
        "    약수 = []\n",
        "    for i in range(1,n+1):\n",
        "        if n % i == 0:\n",
        "            약수.append(i)\n",
        "    return 약수\n",
        "\n",
        "# return [i for i in range(1,n+1) if n % i == 0]\n",
        "def solution(array):\n",
        "    큰수 = max(array)\n",
        "    인덱스 = array.index(큰수)\n",
        "    return [큰수, 인덱스]\n",
        "\n",
        "# 신기하네.... index()메서드는 처음 보는 건가?\n",
        "print(solution(8))"
      ],
      "metadata": {
        "id": "qdmWFpLWPo8_",
        "colab": {
          "base_uri": "https://localhost:8080/"
        },
        "outputId": "6d91caf7-a30b-4c9a-fadb-8d2bb5d56fe7"
      },
      "execution_count": null,
      "outputs": [
        {
          "output_type": "stream",
          "name": "stdout",
          "text": [
            "[1, 2, 4, 8]\n"
          ]
        }
      ]
    },
    {
      "cell_type": "code",
      "source": [
        "# ansewr = []\n",
        "# for i in my_string:\n",
        "#     i.sort(lower())\n",
        "#     answer.append(i)\n",
        "#     ..join(answer)\n",
        "\n",
        "# return \"\".join(sorted(my_string.lower()))\n",
        "\n",
        "def solution(numbers, n):\n",
        "    answer = 0\n",
        "    for i in numbers:\n",
        "        if answer < n:\n",
        "            answer += i\n",
        "        else:\n",
        "            break\n",
        "    return answer\n",
        "\n",
        "print(solution([34, 5, 71, 29, 100, 34],123))"
      ],
      "metadata": {
        "id": "MDrjf_USmvhA",
        "colab": {
          "base_uri": "https://localhost:8080/"
        },
        "outputId": "787a18bb-545b-41fa-97e7-03da2c2aa823"
      },
      "execution_count": null,
      "outputs": [
        {
          "output_type": "stream",
          "name": "stdout",
          "text": [
            "139\n"
          ]
        }
      ]
    },
    {
      "cell_type": "code",
      "source": [
        "# 1. 이름 리스트를 5명씩 그룹으로 나누고\n",
        "# 2. 각각의 리스트의 맨 앞에 이름을 출력하는 리스트 만들기\n",
        "\n",
        "def solution(names):\n",
        "    ns = []\n",
        "\n",
        "    for i in range(0,len(names),5):\n",
        "        n = names[i:i+5]\n",
        "        ns.append(n)\n",
        "    fa = []\n",
        "\n",
        "    for j in ns:\n",
        "        fa.append(j[0])\n",
        "    return fa\n",
        "\n",
        "# ns = [names[i:i+5] for i in range(0,len(names),5)]\n",
        "# return [fa[0] for fa in ns]\n",
        "\n",
        "# 혹은 names[::5]\n",
        "print(solution([\"nami\", \"ahri\", \"jayce\", \"garen\", \"ivern\", \"vex\", \"jinx\"]))"
      ],
      "metadata": {
        "colab": {
          "base_uri": "https://localhost:8080/"
        },
        "id": "yE5Miex2o5Gq",
        "outputId": "9b7b5577-c533-4d1a-b3f3-f32e88643af5"
      },
      "execution_count": null,
      "outputs": [
        {
          "output_type": "stream",
          "name": "stdout",
          "text": [
            "['nami', 'vex']\n"
          ]
        }
      ]
    },
    {
      "cell_type": "code",
      "source": [
        "class Box:\n",
        "    def __init__(self, volume):\n",
        "        self.volume = volume\n",
        "\n",
        "    # 비교 연산\n",
        "    def __lt__(self, other):   # < 연산자\n",
        "        return f'왼쪽쪽이 더 크다'\n",
        "\n",
        "    def __gt__(self, other):   # > 연산자\n",
        "        return f'오른쪽이 더 크다'\n",
        "\n",
        "    # 길이 반환 (예시용)\n",
        "    def __len__(self):\n",
        "        return 49493\n",
        "\n",
        "    # 문자열 표현\n",
        "    def __repr__(self):        # 개발자용, 디버깅용\n",
        "        return f\"Box({self.volume})\"\n",
        "\n",
        "    def __str__(self):         # 사용자용, print()용\n",
        "        return f\"상자 부피: {self.volume}\"\n",
        "\n",
        "b1 = Box(5)\n",
        "\n",
        "b2 = Box(10)\n",
        "\n",
        "# 비교\n",
        "print(b1 < b2)   # True  → __lt__ 호출\n",
        "print(b1 > b2)   # False → __gt__ 호출\n",
        "\n",
        "# # 길이\n",
        "print(len(b1))   # 5    → __len__ 호출\n",
        "\n",
        "# # 출력\n",
        "print(b1)        # 상자 부피: 5  → __str__ 호출\n",
        "print(repr(b1))  # Box(5)        → __repr__ 호출\n"
      ],
      "metadata": {
        "colab": {
          "base_uri": "https://localhost:8080/"
        },
        "id": "5HNcCnp_5qRx",
        "outputId": "876c57fc-8140-4fde-b34d-a327f2b6b159"
      },
      "execution_count": null,
      "outputs": [
        {
          "output_type": "stream",
          "name": "stdout",
          "text": [
            "왼쪽쪽이 더 크다\n",
            "오른쪽이 더 크다\n",
            "49493\n",
            "상자 부피: 5\n",
            "Box(5)\n"
          ]
        }
      ]
    },
    {
      "cell_type": "code",
      "source": [
        "# def solution(num_list, n):\n",
        "#     return num_list[n:] + num_list[:n]\n",
        "\n",
        "# def solution(start_num, end_num):\n",
        "#     numli = []\n",
        "#     for i in range(start_num, end_num-1, -1):\n",
        "#         numli.append(i)\n",
        "#     return numli\n",
        "\n",
        "# print(solution(10,3))\n",
        "\n",
        "# --------------------------------------------------------\n",
        "\n",
        "# def solution(n, k):\n",
        "#     numlist = []\n",
        "#     for i in range(n+1):\n",
        "#         if i > 0 and i % k == 0:\n",
        "#             numlist.append(i)\n",
        "#     return numlist\n",
        "\n",
        "# # return list(range(k,n+1,k))\n",
        "# print(solution(15,5))\n",
        "\n",
        "def solution(my_string, is_prefix):\n",
        "    if my_string.startswith(is_prefix):\n",
        "        return 1\n",
        "    else:\n",
        "        return 0\n",
        "\n",
        "# return 1 if my_string.startswith(is_prefix) else 0\n",
        "\n",
        "#    if my_string[:len(is_prefix)]==is_prefix:return 1\n",
        "#     return 0\n",
        "\n",
        "print(solution(\"banana\", \"b\"))"
      ],
      "metadata": {
        "id": "qI2MoM9NGqd5",
        "colab": {
          "base_uri": "https://localhost:8080/"
        },
        "outputId": "e2d0861a-1497-4cf5-c6c1-9804d0c8321a"
      },
      "execution_count": null,
      "outputs": [
        {
          "output_type": "stream",
          "name": "stdout",
          "text": [
            "1\n"
          ]
        }
      ]
    },
    {
      "cell_type": "code",
      "source": [
        "def solution(my_string):\n",
        "    answer = []\n",
        "    for i in range(len(my_string)):\n",
        "        answer.append(my_string[i:])\n",
        "    return sorted(answer)\n",
        "\n",
        "print(solution(\"girraff\"))\n",
        "\n",
        "# return sorted(my_string[i:] for i in range(len(my_string)))\n",
        "\n"
      ],
      "metadata": {
        "id": "mb7YTuy7NRhR",
        "colab": {
          "base_uri": "https://localhost:8080/"
        },
        "outputId": "94d75fd8-6f67-4dd5-b033-dbad22ca8b74"
      },
      "execution_count": null,
      "outputs": [
        {
          "output_type": "stream",
          "name": "stdout",
          "text": [
            "['aff', 'f', 'ff', 'girraff', 'irraff', 'raff', 'rraff']\n"
          ]
        }
      ]
    },
    {
      "cell_type": "code",
      "source": [
        "def solution(my_string, index_list):\n",
        "    answer = \"\"\n",
        "    for i in index_list:\n",
        "        answer += my_string[i]\n",
        "    return answer\n",
        "\n",
        "# return ''.join(my_string[i] for i in index_list)\n",
        "\n",
        "print(solution(\"zpiaz\",[1, 2, 0, 0, 3]))\n",
        "\n"
      ],
      "metadata": {
        "colab": {
          "base_uri": "https://localhost:8080/"
        },
        "id": "HHBEquS_1rry",
        "outputId": "2e5136b1-82e3-45f6-d43a-49325dddce75"
      },
      "execution_count": null,
      "outputs": [
        {
          "output_type": "stream",
          "name": "stdout",
          "text": [
            "pizza\n"
          ]
        }
      ]
    },
    {
      "cell_type": "code",
      "source": [
        "def solution(n):\n",
        "    answer = [n]\n",
        "    while n > 1:\n",
        "        if n % 2 == 0:\n",
        "            answer.append(n // 2)\n",
        "            n = n //2\n",
        "        else:\n",
        "            answer.append(3 * n + 1)\n",
        "            n = 3 * n +1\n",
        "    return answer\n",
        "\n",
        "print(solution(6))"
      ],
      "metadata": {
        "colab": {
          "base_uri": "https://localhost:8080/"
        },
        "id": "VglqMaHc_CM0",
        "outputId": "d56d3881-550b-4cb1-b272-3356714c1d31"
      },
      "execution_count": null,
      "outputs": [
        {
          "output_type": "stream",
          "name": "stdout",
          "text": [
            "[3, 10, 5, 16, 8, 4, 2, 1]\n"
          ]
        }
      ]
    },
    {
      "cell_type": "code",
      "source": [
        "def solution(n, control):\n",
        "    move = {'w':1, 's':-1, \"d\":10, \"a\":-10}\n",
        "    return n + sum(move[i] for i in control)\n",
        "\n",
        "print(solution(4,\"wdaswdasdwwdaswdassdwas\"))\n",
        "\n"
      ],
      "metadata": {
        "colab": {
          "base_uri": "https://localhost:8080/"
        },
        "id": "sp-oloeaCGZV",
        "outputId": "b244c21e-eac8-41be-98ad-4f333d63a314"
      },
      "execution_count": null,
      "outputs": [
        {
          "output_type": "stream",
          "name": "stdout",
          "text": [
            "14\n"
          ]
        }
      ]
    },
    {
      "cell_type": "code",
      "source": [
        "def solution(numLog):\n",
        "    result = \"\"\n",
        "    for i in range(1, len(numLog)):\n",
        "        diff = numLog[i] - numLog[i - 1]\n",
        "        if diff == 1:\n",
        "            result += \"w\"\n",
        "        elif diff == -1:\n",
        "            result += \"s\"\n",
        "        elif diff == 10:\n",
        "            result += \"d\"\n",
        "        elif diff == -10:\n",
        "            result += \"a\"\n",
        "    return result\n",
        "\n",
        "# numlog는 정수 배열. 거기에 iuput으로 임의에 알파벳을 입력 받으면 그 알파벳에 따라 계산을 하고 그 배열을을 리턴\n",
        "\n",
        "# numLog[0] → 시작 숫자\n",
        "\n",
        "# numLog[1], numLog[2], … → 각각 이전 값에서 \"w\", \"s\", \"a\", \"d\" 중 하나의 조작이 적용된 결과\n",
        "\n",
        "# 즉, 연속된 두 값의 차이를 보면 어떤 키를 눌렀는지 알 수 있어.\n",
        "\n",
        "print(solution([0, 1, 0, 10, 0, 1, 0, 10, 0, -1, -2, -1]))"
      ],
      "metadata": {
        "colab": {
          "base_uri": "https://localhost:8080/"
        },
        "id": "Xj9hFjBOGq-q",
        "outputId": "9f1fd26a-127e-46eb-baa5-043705dacf9c"
      },
      "execution_count": null,
      "outputs": [
        {
          "output_type": "stream",
          "name": "stdout",
          "text": [
            "wsdawsdassw\n"
          ]
        }
      ]
    },
    {
      "cell_type": "code",
      "source": [
        "def solution(num_list):\n",
        "    lastn = num_list[::-1][0]\n",
        "    lastnn = num_list[::-1][1]\n",
        "    if lastn > lastnn:\n",
        "        num_list.append(lastn - lastnn)\n",
        "        return num_list\n",
        "    else:\n",
        "        num_list.append(lastn * 2)\n",
        "        return num_list\n",
        "\n",
        "\n",
        "print(solution([1,2,3,4,5,9,7]))"
      ],
      "metadata": {
        "colab": {
          "base_uri": "https://localhost:8080/"
        },
        "id": "PvJrMtr5CQat",
        "outputId": "1506f86d-7164-496c-b063-254e7a391416"
      },
      "execution_count": null,
      "outputs": [
        {
          "output_type": "stream",
          "name": "stdout",
          "text": [
            "[1, 2, 3, 4, 5, 9, 7, 14]\n"
          ]
        }
      ]
    },
    {
      "cell_type": "code",
      "source": [
        "def solution(a,b,c):\n",
        "    score = 0\n",
        "    if a != b and a != c and b != c:\n",
        "        score += a + b + c\n",
        "    elif a == b != c or a == c != b or b == c != a:\n",
        "        score += (a+b+c)*(a**2+b**2+c**2)\n",
        "    else:\n",
        "        score += (a+b+c)*(a**2+b**2+c**2)*(a**3+b**3+c**3)\n",
        "    return score\n",
        "\n",
        "print(solution(6,6,6))\n",
        "\n",
        "    # check=len(set([a,b,c]))\n",
        "    # if check==1:\n",
        "    #     return 3*a*3*(a**2)*3*(a**3)\n",
        "    # elif check==2:\n",
        "    #     return (a+b+c)*(a**2+b**2+c**2)\n",
        "    # else:\n",
        "    #     return (a+b+c)\n"
      ],
      "metadata": {
        "colab": {
          "base_uri": "https://localhost:8080/"
        },
        "id": "w5UfXpguFnXq",
        "outputId": "2ae51006-3be9-4882-832a-3f82d42cb7bb"
      },
      "execution_count": null,
      "outputs": [
        {
          "output_type": "stream",
          "name": "stdout",
          "text": [
            "1259712\n"
          ]
        }
      ]
    },
    {
      "cell_type": "code",
      "source": [
        "from passlib.context import CryptContext\n",
        "\n",
        "pwd_context = CryptContext(schemes=[\"bcrypt\"], deprecated=\"auto\")\n",
        "\n",
        "def get_hashed_password(password: str) -> str:\n",
        "    \"\"\" 비밀번호 해시화 \"\"\"\n",
        "    return pwd_context.hash(password)\n",
        "\n",
        "print(get_hashed_password(\"가나다라\"))"
      ],
      "metadata": {
        "colab": {
          "base_uri": "https://localhost:8080/"
        },
        "id": "INUp8rk-WBJK",
        "outputId": "79ebd097-0dcc-4f1b-d3d1-df16672c1a88"
      },
      "execution_count": null,
      "outputs": [
        {
          "output_type": "stream",
          "name": "stdout",
          "text": [
            "$2b$12$bUPT0J1jfA28WMrAvPsc5.StdnZYgSE9ijlbwk8PPJl3xwvkv2k/u\n"
          ]
        }
      ]
    },
    {
      "cell_type": "code",
      "source": [
        "def solution(arr,k):\n",
        "    answer = []\n",
        "    for i in arr:\n",
        "        if k % 2 == 0:\n",
        "            answer.append(i + k)\n",
        "        else:\n",
        "            answer.append(i * k)\n",
        "    return answer\n",
        "    # return [i + k if K % 2 == 0 else i * k for i in arr]"
      ],
      "metadata": {
        "id": "nHWHW4PUWVyv"
      },
      "execution_count": null,
      "outputs": []
    }
  ]
}