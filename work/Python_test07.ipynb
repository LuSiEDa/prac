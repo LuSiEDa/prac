{
  "nbformat": 4,
  "nbformat_minor": 0,
  "metadata": {
    "colab": {
      "provenance": [],
      "authorship_tag": "ABX9TyNmoUE27+4zJ4ML0ctSW9xi",
      "include_colab_link": true
    },
    "kernelspec": {
      "name": "python3",
      "display_name": "Python 3"
    },
    "language_info": {
      "name": "python"
    }
  },
  "cells": [
    {
      "cell_type": "markdown",
      "metadata": {
        "id": "view-in-github",
        "colab_type": "text"
      },
      "source": [
        "<a href=\"https://colab.research.google.com/github/LuSiEDa/prac/blob/main/work/Python_test07.ipynb\" target=\"_parent\"><img src=\"https://colab.research.google.com/assets/colab-badge.svg\" alt=\"Open In Colab\"/></a>"
      ]
    },
    {
      "cell_type": "code",
      "execution_count": null,
      "metadata": {
        "colab": {
          "base_uri": "https://localhost:8080/"
        },
        "id": "v-VAqV5_CrDm",
        "outputId": "668f0458-5f7b-4c0d-a55a-75c391f0eb4d"
      },
      "outputs": [
        {
          "output_type": "stream",
          "name": "stdout",
          "text": [
            "이름\t총점\t평균\n",
            "김학생\t12\t3.0\n",
            "이학생\t15\t3.75\n",
            "박학생\t12\t3.0\n",
            "최학생\t11\t2.75\n"
          ]
        }
      ],
      "source": [
        "# 객체를 만들기 위해서는 속성과 기능이 필요함\n",
        "\n",
        "oz_students = [\n",
        "    {\"name\" :\"김학생\", \"Python\": 4, \"database\":3, \"Django\":3, \"AWS\":2,},\n",
        "    {\"name\" :\"이학생\", \"Python\": 4, \"database\":5, \"Django\":2, \"AWS\":4,},\n",
        "    {\"name\" :\"박학생\", \"Python\": 3, \"database\":4, \"Django\":4, \"AWS\":1,},\n",
        "    {\"name\" :\"최학생\", \"Python\": 2, \"database\":3, \"Django\":1, \"AWS\":5,},\n",
        "\n",
        "]\n",
        "\n",
        "print(\"이름\", \"총점\", \"평균\", sep=\"\\t\")\n",
        "\n",
        "for student in oz_students:\n",
        "    ablity_sum = student[\"Python\"] + student[\"database\"] + student[\"Django\"] + student[\"AWS\"]\n",
        "    ablity_average = ablity_sum / 4\n",
        "\n",
        "    print(student[\"name\"], ablity_sum, ablity_average, sep=\"\\t\")\n",
        "\n",
        "\n",
        "# 번거로움. 지루하고 현학적임\n",
        "\n"
      ]
    },
    {
      "cell_type": "code",
      "source": [
        "def create_oz_students(name, Python, database, Django, AWS):\n",
        "    return{\n",
        "        \"name\" : name,\n",
        "        \"Python\" : Python,\n",
        "        \"database\" : database,\n",
        "        \"Django\" : Django,\n",
        "        \"AWS\" : AWS\n",
        "    }\n",
        "\n",
        "def get_sum(student):\n",
        "    return student[\"Python\"] + student[\"database\"] + student[\"Django\"] + student[\"AWS\"]\n",
        "\n",
        "def get_average(student):\n",
        "    return get_sum(student) / 4\n",
        "\n",
        "def to_string(student):\n",
        "    return f'{student[\"name\"]}\\t{get_sum(student)}\\t {get_average(student)}'\n",
        "\n",
        "oz_students = [\n",
        "        create_oz_students(\"정학생\", 4, 3, 2, 4),\n",
        "        create_oz_students(\"황학생\", 3, 4, 5, 3),\n",
        "        create_oz_students(\"양학생\", 2, 3, 2, 3),\n",
        "        create_oz_students(\"조학생\", 1, 5, 4, 2)\n",
        "]\n",
        "\n",
        "\n",
        "print(\"이름\", \"총점\", \"평균\", sep=\"\\t\")\n",
        "\n",
        "for student in oz_students:\n",
        "    ablity_sum = student[\"Python\"] + student[\"database\"] + student[\"Django\"] + student[\"AWS\"]\n",
        "    ablity_average = ablity_sum / 4\n",
        "\n",
        "    print(to_string(student))\n"
      ],
      "metadata": {
        "id": "dPIX7uV7GTkt",
        "colab": {
          "base_uri": "https://localhost:8080/"
        },
        "outputId": "bfccfba1-901f-4ce4-a1f7-f0c16ab26a4a"
      },
      "execution_count": 10,
      "outputs": [
        {
          "output_type": "stream",
          "name": "stdout",
          "text": [
            "이름\t총점\t평균\n",
            "정학생\t13\t 3.25\n",
            "황학생\t15\t 3.75\n",
            "양학생\t10\t 2.5\n",
            "조학생\t12\t 3.0\n"
          ]
        }
      ]
    },
    {
      "cell_type": "code",
      "source": [
        "# 클래스 이름 앞은 무조건 대문자(약속)\n",
        "# 인스턴스 : 클래스를 이용해 만든 객체\n",
        "\n",
        "class CreateOzStudent:\n",
        "    def __init__(self, name, Python, database, Django, AWS):\n",
        "        self.name = name\n",
        "        self.Python = Python\n",
        "        self.database = database\n",
        "        self.Django = Django\n",
        "        self.AWS = AWS\n",
        "\n",
        "    def get_sum(self):\n",
        "        return self.Python + self.database + self.Django + self.AWS\n",
        "\n",
        "\n",
        "    def get_average(self):\n",
        "        return self.get_sum() / 4\n",
        "\n",
        "    def to_string(self):\n",
        "        return f'{self.name}\\t{self.get_sum()}\\t{self.get_average()}'\n",
        "#student = CreateOzStudent()\n",
        "\n",
        "# student : 인스턴스 / CreateOzStudent : 생성자 함수\n",
        "\n",
        "# 인스턴스는 객체를 찍어낸 실체이고, 생성자 함수는 그 객체를 찍어내는 틀이다.\n",
        "# 같은 구조로 다양한 데이터를 효율적으로 만들고 관리하기 위해 꼭 필요하다.\n",
        "# 생성자 함수는 반복되는 틀을 자동으로 찍어내고,\n",
        "# 인스턴스는 그 틀로 만들어진 각각의 실제 데이터 덩어리야\n",
        "\n",
        "# 데이터 입력\n",
        "\n",
        "oz_students = [\n",
        "        CreateOzStudent(\"백현우\",4,3,3,2),\n",
        "        CreateOzStudent(\"홍혜인\",4,5,2,4),\n",
        "        CreateOzStudent(\"윤은성\",3,4,4,1),\n",
        "        CreateOzStudent(\"홍수철\",2,3,1,5)\n",
        "\n",
        "]\n",
        "\n",
        "print(\"이름\", \"총점\", \"평균\", sep=\"\\t\")\n",
        "for student in oz_students:\n",
        "    print(student.to_string())\n",
        "# class 클래스 이름:\n",
        "#   def 메소드 이름(self, 추가적인 매개변수)\n",
        "    # pass"
      ],
      "metadata": {
        "colab": {
          "base_uri": "https://localhost:8080/"
        },
        "id": "AvltuEvZP4qh",
        "outputId": "470f64ab-e26e-4135-e85b-aa8cd7532c4a"
      },
      "execution_count": 3,
      "outputs": [
        {
          "output_type": "stream",
          "name": "stdout",
          "text": [
            "이름\t총점\t평균\n",
            "백현우\t12\t3.0\n",
            "홍혜인\t15\t3.75\n",
            "윤은성\t12\t3.0\n",
            "홍수철\t11\t2.75\n"
          ]
        }
      ]
    },
    {
      "cell_type": "code",
      "source": [
        "# isinstance(인스턴스 객체, 클래스) : 그 클래스에서 인스턴스가 생성되었는지 True, False로 반환\n",
        "\n",
        "class Student:\n",
        "    def __init__(self):\n",
        "        pass\n",
        "\n",
        "student = Student()\n",
        "\n",
        "print(\"isinstance(student, Student)\", isinstance(student, Student))\n",
        "\n",
        "\n",
        "class Python:\n",
        "    def python(self):\n",
        "        print(\"파이썬을 수강중입니다.\")\n",
        "class Java:\n",
        "    def java(self):\n",
        "        print(\"자바를 수강중입니다.\")\n",
        "\n",
        "programming_subjects = [Python(),Python(),Python(),Java(),Python(),Python()]\n",
        "\n",
        "for subject in programming_subjects:\n",
        "    if isinstance(subject, Python):\n",
        "        subject.python()\n",
        "    elif isinstance(subject, Java):\n",
        "        subject.java()\n",
        "\n",
        "\n",
        "# 특수메소드 겁나 많음\n",
        "\n",
        "# 그 중 __str__  실행법 str(1): \"1\" 이듯이 str()\n",
        "# __eq__ 실행법    =="
      ],
      "metadata": {
        "colab": {
          "base_uri": "https://localhost:8080/"
        },
        "id": "p7djL5KpSKFF",
        "outputId": "1cf61d8a-9acc-4bd5-826d-32d7975fa9ba"
      },
      "execution_count": 12,
      "outputs": [
        {
          "output_type": "stream",
          "name": "stdout",
          "text": [
            "isinstance(student, Student) True\n",
            "파이썬을 수강중입니다.\n",
            "파이썬을 수강중입니다.\n",
            "파이썬을 수강중입니다.\n",
            "자바를 수강중입니다.\n",
            "파이썬을 수강중입니다.\n",
            "파이썬을 수강중입니다.\n"
          ]
        }
      ]
    },
    {
      "cell_type": "code",
      "source": [
        "# class Create:\n",
        "# count = 0     <==\n",
        "#    def __init__(self, name, Python, database, Django, AWS):\n",
        "#        self.name = name\n",
        "#        self.Python = Python\n",
        "#        self.database = database\n",
        "#        self.Django = Django\n",
        "#        self.AWS = AWS\n",
        "#        Create.count += 1  <== 이런식으로 사용 가능.\n",
        "\n",
        "\n",
        "\n",
        "# 클래스 안에 변수를 생성했다면 클래스이름.변수이름 의 형태로 사용.\n",
        "# class 클래스이름:\n",
        "#   @classmethod\n",
        "# def 클래스함수명(cls,매개변수):\n",
        "#   pass\n",
        "\n",
        "# 클래스 함수 호출 : 클래스이름.함수이름(매개변수) 형태.\n",
        "\n",
        "#   :선언은 바깥에서 하고 클래스 안에서 함수 호출."
      ],
      "metadata": {
        "id": "hHizT-HcqJAh"
      },
      "execution_count": null,
      "outputs": []
    },
    {
      "cell_type": "code",
      "source": [
        "# 프라이빗 변수 : 클래스 외부에서 직접 접근할 수 없게 의도적으로 숨긴 변수. 내부적으로만 써야 할 값이라는 신호.\n",
        "# 완전한 은닉이 아님. 매개변수가 아닌 하위 변수에 이름 앞에 ' __ ' 을 붙여 이건 건드리지 마! 라고 전달.\n",
        "# 실제로 외부에서 건드릴 수 없음.\n",
        "\n",
        "# 상속 : 기존 클래스(부모 클래스)의 속성과 메서드를 새로운 클래스(자식 클래스)가 물려받는 것\n",
        "\n",
        "class 부모클래스:\n",
        "    def 기능(self):\n",
        "        print(\"부모 기능\")\n",
        "\n",
        "class 자식클래스(부모클래스):\n",
        "    pass\n",
        "\n",
        "객체 = 자식클래스()\n",
        "객체.기능()  # 출력: 부모 기능\n",
        "\n",
        "# 자식 클래스는 부모 클래스의 속성과 메서드 모두 사용 가능\n",
        "\n",
        "# 필요하다면 메서드를 오버라이딩(재정의) 가능\n",
        "\n",
        "# 오버라이딩 형태\n",
        "\n",
        "class 자식클래스(부모클래스):\n",
        "    def 기능(self):  # 부모 기능 무시하고 새로 정의\n",
        "        print(\"자식 기능\")\n",
        "\n",
        "# 다중상속 : 두 개 이상의 부모 클래스로부터 동시에 상속받는 것\n",
        "\n",
        "class A:\n",
        "    def 기능(self):\n",
        "        print(\"A의 기능\")\n",
        "\n",
        "class B:\n",
        "    def 기능(self):\n",
        "        print(\"B의 기능\")\n",
        "\n",
        "class C(A, B):  # A와 B 모두 상속\n",
        "    pass\n",
        "\n",
        "객체 = C()\n",
        "객체.기능()  # 출력: A의 기능 (순서에 따라 결정됨)\n",
        "\n",
        "# 왼쪽 부모부터 먼저 탐색 (A → B) → 이를 MRO(Method Resolution Order) 라고 함\n",
        "\n",
        "# 같은 이름의 메서드가 여러 부모에 있을 경우 → 먼저 상속한 클래스의 메서드가 우선"
      ],
      "metadata": {
        "id": "XDs_nw59uxAq"
      },
      "execution_count": null,
      "outputs": []
    }
  ]
}