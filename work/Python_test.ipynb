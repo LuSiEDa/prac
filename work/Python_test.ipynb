{
  "nbformat": 4,
  "nbformat_minor": 0,
  "metadata": {
    "colab": {
      "provenance": [],
      "authorship_tag": "ABX9TyMpH8TqqWg1WlvuCvUguU16",
      "include_colab_link": true
    },
    "kernelspec": {
      "name": "python3",
      "display_name": "Python 3"
    },
    "language_info": {
      "name": "python"
    }
  },
  "cells": [
    {
      "cell_type": "markdown",
      "metadata": {
        "id": "view-in-github",
        "colab_type": "text"
      },
      "source": [
        "<a href=\"https://colab.research.google.com/github/LuSiEDa/prac/blob/main/Python_test.ipynb\" target=\"_parent\"><img src=\"https://colab.research.google.com/assets/colab-badge.svg\" alt=\"Open In Colab\"/></a>"
      ]
    },
    {
      "cell_type": "code",
      "source": [
        "# 주석은 이렇게 하는거다\n",
        "print(\"진짜 안보이는 거야?\")\n",
        "# print(\"신기하네?\")"
      ],
      "metadata": {
        "id": "9bw10HrZ54ZZ",
        "colab": {
          "base_uri": "https://localhost:8080/"
        },
        "outputId": "1bbab7bf-afa2-455f-9817-7faa92b72614"
      },
      "execution_count": null,
      "outputs": [
        {
          "output_type": "stream",
          "name": "stdout",
          "text": [
            "진짜 안보이는 거야?\n"
          ]
        }
      ]
    },
    {
      "cell_type": "code",
      "source": [
        "for 동물 in (\"토끼\",\"사자\",\"푸바오\",\"호랑이\"):\n",
        "    print(동물)\n",
        "    print(\"보러 갈래요?\")"
      ],
      "metadata": {
        "colab": {
          "base_uri": "https://localhost:8080/"
        },
        "id": "7FogYA6Y_6-_",
        "outputId": "9b1092db-af65-48a7-bc91-6353c0b4cd5a"
      },
      "execution_count": null,
      "outputs": [
        {
          "output_type": "stream",
          "name": "stdout",
          "text": [
            "토끼\n",
            "보러 갈래요?\n",
            "사자\n",
            "보러 갈래요?\n",
            "푸바오\n",
            "보러 갈래요?\n",
            "호랑이\n",
            "보러 갈래요?\n"
          ]
        }
      ]
    },
    {
      "cell_type": "code",
      "source": [
        "# 붕어빵 철이 돌아왔죠\n",
        "# 붕어빵(팥) : 2000원, 붕어빵(슈크림) : 25000원, 붕어빵(잡채) : 3000원\n",
        "# 무인 주문 기계를 만들어주세여ㅛ\n",
        "# 붕어빵(잡채) 3개, 붕어빵(슈크림) 2개를 주문하면\n",
        "# \"주문이 완료되었습니다. 붕어빵(슈크림) 2개, 붕어빵(잡채) 3개 총 5개. 결제금액은 14000원 입니다\"\n",
        "# 위와 같이 출력되도록 코드를 작성해주세요.\n",
        "# 변수를 만들때 스네이크 케이스에 언더바는 2개 / print()문의 포메팅 f-string\n",
        "\n",
        "# 변수값 입력\n",
        "bung__1, bung__2, bung__3 = \"붕어빵(팥)\", \"붕어빵(슈크림)\", \"붕어빵(잡채)\"\n",
        "bung__1__sell, bung__2__sell, bung__3__sell = 2000, 2500, 3000\n",
        "\n",
        "order__2, order__3 = 2, 3\n",
        "\n",
        "# 붕어빵 계산값\n",
        "order__2__pay, order__3__pay = bung__2__sell * order__2, bung__3__sell * order__3\n",
        "\n",
        "# 구매 총 개수\n",
        "total = order__2 + order__3\n",
        "\n",
        "# 구매 총 금액\n",
        "total_pay = order__2__pay + order__3__pay\n",
        "\n",
        "# 출력\n",
        "print(f'주문이 완료되었습니다. {bung__2}{order__2}개,{bung__3}{order__3}개 총 {total}개. 결제 금액은 {total_pay}원 입니다.')"
      ],
      "metadata": {
        "colab": {
          "base_uri": "https://localhost:8080/"
        },
        "id": "v3juZO98AKNY",
        "outputId": "de976f09-b0ad-4224-ef1b-b58ee7ed88c0"
      },
      "execution_count": 4,
      "outputs": [
        {
          "output_type": "stream",
          "name": "stdout",
          "text": [
            "주문이 완료되었습니다. 붕어빵(슈크림)2개,붕어빵(잡채)3개 총 5개. 결제 금액은 14000원 입니다.\n"
          ]
        }
      ]
    },
    {
      "cell_type": "markdown",
      "source": [
        "1. Int : 정수\n",
        "2. Float : 실수\n",
        "3. Str : 문자\n",
        "4. Bool : 참 또는 거짓(true 또는 false, 1 또는 0)\n",
        "5. List\n",
        "6. Tuple\n",
        "7. Dict\n",
        "8. Set\n",
        "\n",
        "-type(변수)\n",
        "\t:변수의 타입이 나옴(ex. Str, float 등)\n",
        "\n",
        "### 형변환\n",
        "int -> float 예 5 -> 5.0    float(5)  \n",
        "float -> int 예 5.0 -> 5    int(5.0)\n",
        "\n",
        "dir(변수)  : 변수에 적용가능한 메서드 좌라락 나옴\n",
        "\n"
      ],
      "metadata": {
        "id": "rhhVokxRLCeQ"
      }
    },
    {
      "cell_type": "code",
      "source": [
        "print(float(5))\n",
        "print(int(5.0))\n",
        "\n",
        "나이 = 10\n",
        "\n",
        "dir(나이)"
      ],
      "metadata": {
        "colab": {
          "base_uri": "https://localhost:8080/"
        },
        "id": "bt3bNZU4IS6K",
        "outputId": "49a580be-4d47-4400-ef38-6bdf8800c9be"
      },
      "execution_count": 10,
      "outputs": [
        {
          "output_type": "stream",
          "name": "stdout",
          "text": [
            "5.0\n",
            "5\n"
          ]
        },
        {
          "output_type": "execute_result",
          "data": {
            "text/plain": [
              "['__abs__',\n",
              " '__add__',\n",
              " '__and__',\n",
              " '__bool__',\n",
              " '__ceil__',\n",
              " '__class__',\n",
              " '__delattr__',\n",
              " '__dir__',\n",
              " '__divmod__',\n",
              " '__doc__',\n",
              " '__eq__',\n",
              " '__float__',\n",
              " '__floor__',\n",
              " '__floordiv__',\n",
              " '__format__',\n",
              " '__ge__',\n",
              " '__getattribute__',\n",
              " '__getnewargs__',\n",
              " '__getstate__',\n",
              " '__gt__',\n",
              " '__hash__',\n",
              " '__index__',\n",
              " '__init__',\n",
              " '__init_subclass__',\n",
              " '__int__',\n",
              " '__invert__',\n",
              " '__le__',\n",
              " '__lshift__',\n",
              " '__lt__',\n",
              " '__mod__',\n",
              " '__mul__',\n",
              " '__ne__',\n",
              " '__neg__',\n",
              " '__new__',\n",
              " '__or__',\n",
              " '__pos__',\n",
              " '__pow__',\n",
              " '__radd__',\n",
              " '__rand__',\n",
              " '__rdivmod__',\n",
              " '__reduce__',\n",
              " '__reduce_ex__',\n",
              " '__repr__',\n",
              " '__rfloordiv__',\n",
              " '__rlshift__',\n",
              " '__rmod__',\n",
              " '__rmul__',\n",
              " '__ror__',\n",
              " '__round__',\n",
              " '__rpow__',\n",
              " '__rrshift__',\n",
              " '__rshift__',\n",
              " '__rsub__',\n",
              " '__rtruediv__',\n",
              " '__rxor__',\n",
              " '__setattr__',\n",
              " '__sizeof__',\n",
              " '__str__',\n",
              " '__sub__',\n",
              " '__subclasshook__',\n",
              " '__truediv__',\n",
              " '__trunc__',\n",
              " '__xor__',\n",
              " 'as_integer_ratio',\n",
              " 'bit_count',\n",
              " 'bit_length',\n",
              " 'conjugate',\n",
              " 'denominator',\n",
              " 'from_bytes',\n",
              " 'imag',\n",
              " 'numerator',\n",
              " 'real',\n",
              " 'to_bytes']"
            ]
          },
          "metadata": {},
          "execution_count": 10
        }
      ]
    },
    {
      "cell_type": "markdown",
      "source": [
        "str : 문자열  \n",
        "특징 : 시권스 자료형  \n",
        "시퀀스란? : 요소들이 연속적으로 이어진 자료형  \n",
        "(값 하나하나를 요소라고 함.)\n"
      ],
      "metadata": {
        "id": "7m-982kJdlZ-"
      }
    },
    {
      "cell_type": "code",
      "source": [
        "\n",
        "이름 = \"김오즈\"\n",
        "나이 = 30\n",
        "키 = 180.3\n",
        "소속 = \"s매직 서울북부\"\n",
        "\n",
        "#0 인덱스\n",
        "\n",
        "print(소속[0])\n",
        "print(소속[1])\n",
        "print(소속[2])\n",
        "print(소속[3])\n",
        "print(소속[4])\n",
        "print(소속[5])\n",
        "print(소속[6])\n",
        "print(소속[7])\n",
        "\n",
        "\"매\" in 소속\n"
      ],
      "metadata": {
        "colab": {
          "base_uri": "https://localhost:8080/"
        },
        "id": "UqEJWENLN4St",
        "outputId": "099c14ec-837c-4742-f990-a10c2ec2a64b"
      },
      "execution_count": 17,
      "outputs": [
        {
          "output_type": "stream",
          "name": "stdout",
          "text": [
            "s\n",
            "매\n",
            "직\n",
            " \n",
            "서\n",
            "울\n",
            "북\n",
            "부\n"
          ]
        },
        {
          "output_type": "execute_result",
          "data": {
            "text/plain": [
              "True"
            ]
          },
          "metadata": {},
          "execution_count": 17
        }
      ]
    },
    {
      "cell_type": "code",
      "source": [
        "# 문자열 즉 스퀀스끼리 합치기\n",
        "\n",
        "\"13\" + \"금요일\"\n",
        "\n",
        "# 복사가 가능함.\n",
        "\n",
        "옛날게임 = \"바니바니 당근당근\" * 20\n",
        "print(옛날게임)\n",
        "\n",
        "len(옛날게임)"
      ],
      "metadata": {
        "colab": {
          "base_uri": "https://localhost:8080/"
        },
        "id": "PTNLtxEnesi8",
        "outputId": "57a3adb5-60bb-4fc1-a619-873300d6eac7"
      },
      "execution_count": 20,
      "outputs": [
        {
          "output_type": "stream",
          "name": "stdout",
          "text": [
            "바니바니 당근당근바니바니 당근당근바니바니 당근당근바니바니 당근당근바니바니 당근당근바니바니 당근당근바니바니 당근당근바니바니 당근당근바니바니 당근당근바니바니 당근당근바니바니 당근당근바니바니 당근당근바니바니 당근당근바니바니 당근당근바니바니 당근당근바니바니 당근당근바니바니 당근당근바니바니 당근당근바니바니 당근당근바니바니 당근당근\n"
          ]
        },
        {
          "output_type": "execute_result",
          "data": {
            "text/plain": [
              "180"
            ]
          },
          "metadata": {},
          "execution_count": 20
        }
      ]
    },
    {
      "cell_type": "code",
      "source": [
        "# 슬라이싱\n",
        "# 이 기능을 쓸때는 마지막 끝 숫자+1 입력해야함. (0부터 시작하니까!)\n",
        "\n",
        "\n",
        "퀴즈 = \"차 4대가 고장나면? 카포에라\"\n",
        "\n",
        "print(퀴즈[12:16])\n",
        "\n",
        "#'라'는 15번째지만 슬라이싱 할때는 +1\n",
        "\n",
        "퀴즈[-1]\n",
        "# -1 값 입력하면 마지막 글자가 출력.\n",
        "\n",
        "\n"
      ],
      "metadata": {
        "colab": {
          "base_uri": "https://localhost:8080/",
          "height": 54
        },
        "id": "CHvVXhgvfmL7",
        "outputId": "659607fd-0a43-4e0a-cccc-78c49349e963"
      },
      "execution_count": 23,
      "outputs": [
        {
          "output_type": "stream",
          "name": "stdout",
          "text": [
            "카포에라\n"
          ]
        },
        {
          "output_type": "execute_result",
          "data": {
            "text/plain": [
              "'라'"
            ],
            "application/vnd.google.colaboratory.intrinsic+json": {
              "type": "string"
            }
          },
          "metadata": {},
          "execution_count": 23
        }
      ]
    },
    {
      "cell_type": "code",
      "source": [
        "생년월일 = \"2000. 12. 25\"\n",
        "\n",
        "# 2000 12 25 출력해보세요\n",
        "\n",
        "# 내 답\n",
        "print(생년월일[0:4], 생년월일[5:8], 생년월일[10:12])\n",
        "\n",
        "# 모범 답\n",
        "년 = 생년월일[0:4]\n",
        "월 = 생년월일[5:8]\n",
        "일 = 생년월일[10:12]\n",
        "\n",
        "print(f'{년},{월},{일}')\n",
        "print(len(생년월일))"
      ],
      "metadata": {
        "colab": {
          "base_uri": "https://localhost:8080/"
        },
        "id": "rHnP-cgQhiZ4",
        "outputId": "9f4e41f5-287e-4250-b7ed-f3be3f910e9a"
      },
      "execution_count": 41,
      "outputs": [
        {
          "output_type": "stream",
          "name": "stdout",
          "text": [
            "2000  12 25\n",
            "2000, 12,25\n",
            "12\n"
          ]
        }
      ]
    },
    {
      "cell_type": "code",
      "source": [
        "숫자 = \"1234567890\"\n",
        "# 전체 출력\n",
        "print(숫자[::])\n",
        "\n",
        "# 거꾸로\n",
        "print(숫자[::-1])\n",
        "\n",
        "# 첫번째 인덱스 기준으로 2칸씩 띄어쓰기 출력\n",
        "print(숫자[::2])\n",
        "\n",
        "# 해보기\n",
        "print(숫자[4:1:-1])\n",
        "print(숫자[4:1])\n"
      ],
      "metadata": {
        "colab": {
          "base_uri": "https://localhost:8080/"
        },
        "id": "KeEwvYM0j8yM",
        "outputId": "e19e3de3-0b35-4194-fb68-cd90782b4ad4"
      },
      "execution_count": 46,
      "outputs": [
        {
          "output_type": "stream",
          "name": "stdout",
          "text": [
            "1234567890\n",
            "0987654321\n",
            "13579\n",
            "543\n",
            "\n"
          ]
        }
      ]
    },
    {
      "cell_type": "code",
      "source": [
        "퀴즈 = \"스님이 공중에 뜬다를 4글자로 말하면? 어중이떠중이\"\n",
        "# 어중이떠중이만 출력해보세요\n",
        "print(len(퀴즈))\n",
        "print(퀴즈[22:28])"
      ],
      "metadata": {
        "colab": {
          "base_uri": "https://localhost:8080/"
        },
        "id": "JBdqeRS_lSny",
        "outputId": "78aaf8ef-2c41-49a9-ea22-f4f971d1460c"
      },
      "execution_count": 48,
      "outputs": [
        {
          "output_type": "stream",
          "name": "stdout",
          "text": [
            "28\n",
            "어중이떠중이\n"
          ]
        }
      ]
    },
    {
      "cell_type": "code",
      "source": [
        "과일 = \"apple\"\n",
        "과일.count(\"p\")"
      ],
      "metadata": {
        "colab": {
          "base_uri": "https://localhost:8080/"
        },
        "id": "rqeiRO5dmR9Y",
        "outputId": "75ed9b75-b87a-4e45-a33a-c676759fbf2a"
      },
      "execution_count": 49,
      "outputs": [
        {
          "output_type": "execute_result",
          "data": {
            "text/plain": [
              "2"
            ]
          },
          "metadata": {},
          "execution_count": 49
        }
      ]
    },
    {
      "cell_type": "code",
      "source": [
        "과일[2]\n",
        "과일.index(\"p\")\n",
        "과일.index(\"e\")"
      ],
      "metadata": {
        "colab": {
          "base_uri": "https://localhost:8080/"
        },
        "id": "hCUBE_0Om3W2",
        "outputId": "40b86fd3-0b72-4b6c-c1f0-8a49a4b0d992"
      },
      "execution_count": 53,
      "outputs": [
        {
          "output_type": "execute_result",
          "data": {
            "text/plain": [
              "4"
            ]
          },
          "metadata": {},
          "execution_count": 53
        }
      ]
    },
    {
      "cell_type": "code",
      "source": [
        "# bool의 쇼타임!\n",
        "# 주의할점 Ture X true False X false\n",
        "\n",
        "# 부등호\n",
        "# >, <, ==, !=(같지 않다)\n",
        "# is와 ==\n",
        "# 값 비교에서는 is를 쓰면 안되는데 그 이유는?? -> 찾아서 알아봅시다.\n",
        "\n",
        "# 본격적인 논리연산자\n",
        "# True : 1 / False : 0\n",
        "\n",
        "# and\n",
        "#True and True\n",
        "#True and False\n",
        "#False and True\n",
        "#False and False\n",
        "\n",
        "\n",
        "# or\n",
        "#True or True\n",
        "#True or False\n",
        "#False or True\n",
        "#False or False\n",
        "\n",
        "\n",
        "# not\n",
        "# not True / not False\n",
        "\n",
        "# 문자열?? 너 뭐야 True 트루야?\n",
        "\n",
        "# 단락 평가\n",
        "\n",
        "# 만약 False and 뒤에 뭐가 오든 False 이므로 False and 뒤는 확인할 필요가 없다.\n",
        "# 마찬가지로 True or 뒤에 뭐가 오든 True 이므로 역시 그 뒤는 확인할 필요없다.\n"
      ],
      "metadata": {
        "colab": {
          "base_uri": "https://localhost:8080/"
        },
        "id": "8bEDMSOVonDk",
        "outputId": "5b3671e9-79de-4310-d5d3-65dee15ac4ba"
      },
      "execution_count": 67,
      "outputs": [
        {
          "output_type": "execute_result",
          "data": {
            "text/plain": [
              "True"
            ]
          },
          "metadata": {},
          "execution_count": 67
        }
      ]
    }
  ]
}
