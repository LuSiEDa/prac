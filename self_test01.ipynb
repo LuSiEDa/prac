{
  "nbformat": 4,
  "nbformat_minor": 0,
  "metadata": {
    "colab": {
      "provenance": [],
      "authorship_tag": "ABX9TyNryU2XXrpGsHvxFMrttoxw",
      "include_colab_link": true
    },
    "kernelspec": {
      "name": "python3",
      "display_name": "Python 3"
    },
    "language_info": {
      "name": "python"
    }
  },
  "cells": [
    {
      "cell_type": "markdown",
      "metadata": {
        "id": "view-in-github",
        "colab_type": "text"
      },
      "source": [
        "<a href=\"https://colab.research.google.com/github/LuSiEDa/prac/blob/main/self_test01.ipynb\" target=\"_parent\"><img src=\"https://colab.research.google.com/assets/colab-badge.svg\" alt=\"Open In Colab\"/></a>"
      ]
    },
    {
      "cell_type": "code",
      "execution_count": null,
      "metadata": {
        "colab": {
          "base_uri": "https://localhost:8080/"
        },
        "id": "D6QMtgpfthFR",
        "outputId": "2494ed2b-a563-40bb-c580-af39730a6742"
      },
      "outputs": [
        {
          "output_type": "stream",
          "name": "stdout",
          "text": [
            "[3, 6, 9, 12, 15, 18]\n"
          ]
        }
      ],
      "source": [
        "#다음 중 3의 배수만을 리스트에 담아 출력하는 함수를 작성하시오.\n",
        "#단, 입력 리스트는 정수로 이루어져 있다.\n",
        "\n",
        "three = []\n",
        "\n",
        "def triplee(숫자):\n",
        "    for i in range(숫자):\n",
        "        if i % 3 == 0:\n",
        "            three.append(i)\n",
        "    return three\n",
        "\n",
        "triplee(20)\n",
        "\n",
        "filtered = [x for x in three if x !=0]\n",
        "\n",
        "print(filtered)"
      ]
    },
    {
      "cell_type": "code",
      "source": [],
      "metadata": {
        "id": "w9noc_YR0Y9F"
      },
      "execution_count": null,
      "outputs": []
    },
    {
      "cell_type": "code",
      "source": [
        "# 사용자가 입력한 문자열을 거꾸로 뒤집어서 반환하는 함수를 작성하시오.\n",
        "\n",
        "def 거꾸로(text):\n",
        "\n",
        "    return text[::-1]\n",
        "\n",
        "\n",
        "입력값 = (list(map(str, input(\"문자열을 입력해 주세요 : \"))))\n",
        "\n",
        "print(거꾸로(입력값))"
      ],
      "metadata": {
        "colab": {
          "base_uri": "https://localhost:8080/"
        },
        "id": "2T9cgXDK7xY4",
        "outputId": "dbe5b4cc-3bda-46af-8940-34490fc48844"
      },
      "execution_count": null,
      "outputs": [
        {
          "output_type": "stream",
          "name": "stdout",
          "text": [
            "문자열을 입력해 주세요 : 가나다라\n",
            "['라', '다', '나', '가']\n"
          ]
        }
      ]
    },
    {
      "cell_type": "code",
      "source": [
        "# 다음과 같은 딕셔너리가 있을 때, 점수가 90점 이상인 학생 이름만 리스트로 반환하는 함수를 작성하시오.\n",
        "\n",
        "scores = {\n",
        "    \"영희\": 85,\n",
        "    \"철수\": 92,\n",
        "    \"민수\": 78,\n",
        "    \"지영\": 95\n",
        "}\n",
        "\n",
        "\n",
        "def 점수계산(scores):\n",
        "    return [name for name, score in scores.items() if score >= 90]\n",
        "\n",
        "고점리스트 = 점수계산(scores)\n",
        "\n",
        "print(고점리스트)"
      ],
      "metadata": {
        "colab": {
          "base_uri": "https://localhost:8080/"
        },
        "id": "Bi-5Dl3g_DM0",
        "outputId": "4f393748-a5d6-493b-e5f8-93c82693fb1b"
      },
      "execution_count": null,
      "outputs": [
        {
          "output_type": "stream",
          "name": "stdout",
          "text": [
            "['철수', '지영']\n"
          ]
        }
      ]
    },
    {
      "cell_type": "code",
      "source": [
        "# 문자열을 입력받아 중복된 문자를 제거한 새로운 문자열을 반환하시오.\n",
        "# 단, 문자 순서는 처음 등장한 순서를 유지해야 함.\n",
        "\n",
        "def 중복제거(text):\n",
        "    최종출력 = []\n",
        "    for i in text:\n",
        "        if i not in 최종출력:\n",
        "            최종출력.append(i)\n",
        "    return ''.join(최종출력)\n",
        "\n",
        "문자열 = list(map(str,input(\"임의의 문자열을 입력하시오 : \")))\n",
        "\n",
        "print(중복제거(문자열))\n",
        "\n",
        "# 임의의 리스트를 함수내에 만들고\n",
        "\n",
        "# if 문에서 not 으로 중복이 없다면 추가하는 형식을 취하면 될듯?"
      ],
      "metadata": {
        "colab": {
          "base_uri": "https://localhost:8080/"
        },
        "id": "a0FVJkfUOOTh",
        "outputId": "a0ab89f2-49a7-4f61-eabe-2e669a5a8a2c"
      },
      "execution_count": null,
      "outputs": [
        {
          "output_type": "stream",
          "name": "stdout",
          "text": [
            "임의의 문자열을 입력하시오 : 가가나아자다라아아아\n",
            "None\n"
          ]
        }
      ]
    },
    {
      "cell_type": "code",
      "source": [
        "# 다음 리스트에서 평균 이상의 값을 가진 항목의 개수를 세는 함수를 작성하시오.\n",
        "\n",
        "def count_above_average(numbers):\n",
        "    average = sum(numbers) / len(numbers)\n",
        "    평균이상 = []\n",
        "    for i in numbers:\n",
        "        print(\"비교대상: \", i)\n",
        "        if i >= average:\n",
        "            평균이상.append(i)\n",
        "    return len(평균이상)\n",
        "\n",
        "print(count_above_average([2,3,4,5,6,7]))\n"
      ],
      "metadata": {
        "colab": {
          "base_uri": "https://localhost:8080/"
        },
        "id": "NRjv5JhlUJdw",
        "outputId": "aaabb3db-26c3-493b-a286-decb6afd50ae"
      },
      "execution_count": null,
      "outputs": [
        {
          "output_type": "stream",
          "name": "stdout",
          "text": [
            "비교대상:  2\n",
            "비교대상:  3\n",
            "비교대상:  4\n",
            "비교대상:  5\n",
            "비교대상:  6\n",
            "비교대상:  7\n",
            "3\n"
          ]
        }
      ]
    },
    {
      "cell_type": "code",
      "source": [
        "def filter_even(numbers):\n",
        "    return [x for x in numbers if x % 2 == 0]\n",
        "\n",
        "print(filter_even([1,4,5,6,7,8,9,10,13,14]))\n"
      ],
      "metadata": {
        "id": "yjXDjWg6bgR-",
        "outputId": "7fe012c1-d91f-420c-cf13-e41d5955e662",
        "colab": {
          "base_uri": "https://localhost:8080/"
        }
      },
      "execution_count": null,
      "outputs": [
        {
          "output_type": "stream",
          "name": "stdout",
          "text": [
            "[4, 6, 8, 10, 14]\n"
          ]
        }
      ]
    },
    {
      "cell_type": "code",
      "source": [
        "def sum_of_multipes(num):\n",
        "    total = 0\n",
        "    for i in range(1, num + 1):\n",
        "        if i % 3 == 0:\n",
        "            total += i\n",
        "    return total\n",
        "\n",
        "print(sum_of_multipes(320))"
      ],
      "metadata": {
        "colab": {
          "base_uri": "https://localhost:8080/"
        },
        "id": "2VIeSp304L5X",
        "outputId": "046d1128-8a7b-47c1-c7d9-6c0959a8a3c1"
      },
      "execution_count": null,
      "outputs": [
        {
          "output_type": "stream",
          "name": "stdout",
          "text": [
            "17013\n"
          ]
        }
      ]
    },
    {
      "cell_type": "code",
      "source": [
        "# 문자열 s가 주어졌을 때,\n",
        "# 연속으로 같은 문자가 몇 번 나왔는지 세어서\n",
        "# \"문자+반복횟수\"의 형태로 요약된 문자열을 반환하라.\n",
        "\n",
        "def compress_string(cst):\n",
        "    결과 = \"\"\n",
        "    if not cst:\n",
        "        return 결과\n",
        "\n",
        "    문자 = cst[0]\n",
        "    개수 = 1\n",
        "\n",
        "    for i in range(1, len(cst)):\n",
        "        if cst[i] == 문자:\n",
        "            개수 += 1\n",
        "        else:\n",
        "            결과 += 문자 + str(개수)\n",
        "            문자 = cst[i]\n",
        "            개수 = 1\n",
        "\n",
        "    결과 += 문자 + str(개수)\n",
        "    return 결과\n"
      ],
      "metadata": {
        "id": "72m1l1-o6_mU"
      },
      "execution_count": null,
      "outputs": []
    },
    {
      "cell_type": "code",
      "source": [
        "# 문자열 s가 주어지면, 그 안에서 모음(a, e, i, o, u) 을 모두 제거한 문자열을 반환하라.\n",
        "# (대문자 모음은 그대로 두고 소문자만 제거한다)\n",
        "\n",
        "def remove_vowels(s):\n",
        "    모음 = ['a','e','i','o','u']\n",
        "    결과 = \"\"\n",
        "\n",
        "    for i in s:\n",
        "        if i not in 모음:\n",
        "            결과 += i\n",
        "    return 결과\n",
        "\n",
        "입력값 = input(\"문자열을 입력하시오 : \")\n",
        "default = remove_vowels(입력값)\n",
        "\n",
        "print(default)"
      ],
      "metadata": {
        "colab": {
          "base_uri": "https://localhost:8080/"
        },
        "id": "9-HtXDZbnvWc",
        "outputId": "68bc8628-e48f-4a30-836d-5a6c7466a1c9"
      },
      "execution_count": null,
      "outputs": [
        {
          "output_type": "stream",
          "name": "stdout",
          "text": [
            "문자열을 입력하시오 : afiakdnooouuikeesa\n",
            "fkdnks\n"
          ]
        }
      ]
    },
    {
      "cell_type": "code",
      "source": [
        "# 문자열 s가 주어지면,\n",
        "# 그 문자열에서 짝수 인덱스(0, 2, 4, ...)에 위치한 문자들만 모아서\n",
        "# 새로운 문자열로 반환하는 함수를 작성하라.\n",
        "# 예시 : even_index_chars(\"abcdefg\") → \"aceg\"\n",
        "# for문을 반드시 사용할 것 (슬라이싱 [::2] 같은 건 쓰지 말 것)\n",
        "#인덱스를 활용할 것 → for i in range(len(s))\n",
        "\n",
        "def even_index_chars(s):\n",
        "    문자열 = \"\"\n",
        "    for i in range(len(s)):\n",
        "        if i % 2 == 0:\n",
        "            문자열 += s[i]\n",
        "    return 문자열\n",
        "\n",
        "\n",
        "입력값 = input(\"문자열을 입력하시오 : \")\n",
        "default = even_index_chars(입력값)\n",
        "\n",
        "print(default)\n",
        "\n",
        "\n",
        "# return 위치 항상 주의\n",
        "# for문 안에 있으면 → 루프 한 번 돌고 끝남\n",
        "\n",
        "# for문 끝나고 나서 반환하는 게 보통"
      ],
      "metadata": {
        "colab": {
          "base_uri": "https://localhost:8080/"
        },
        "id": "ddcAWJIfIzrY",
        "outputId": "3c93b832-c9f3-4b45-834c-5e8b0b7b2d4d"
      },
      "execution_count": null,
      "outputs": [
        {
          "output_type": "stream",
          "name": "stdout",
          "text": [
            "문자열을 입력하시오 : 야di암ㅇdjjadj\n",
            "야iㅇjaj\n"
          ]
        }
      ]
    },
    {
      "cell_type": "code",
      "source": [
        "# 문자열 s가 주어졌을 때,\n",
        "# 그 안에 특정 알파벳이 몇 번 등장하는지 세어라.\n",
        "# 단, 대소문자는 구분하지 않는다.\n",
        "\n",
        "# count_letter(\"Hello World\", \"l\") → 3\n",
        "# count_letter(\"HELLO world\", \"h\") → 1\n",
        "# 조건 :\n",
        "# 반드시 for문을 사용해서 하나하나 세기\n",
        "# .count() 같은 내장 메서드는 사용 금지\n",
        "\n",
        "\n",
        "def count_letter(s , letter):\n",
        "    count = 0\n",
        "    for i in s:\n",
        "        if i.lower() == letter.lower():\n",
        "            count += 1\n",
        "    return count\n",
        "\n",
        "입력값 = input(\"문자열을 입력하시오 : \")\n",
        "검색글자 = input(\"검색할 글자를 입력하시오 : \")\n",
        "\n",
        "default = count_letter(입력값, 검색글자)\n",
        "\n",
        "print(default)"
      ],
      "metadata": {
        "colab": {
          "base_uri": "https://localhost:8080/"
        },
        "id": "gc_fSJbXPOZm",
        "outputId": "280cae4c-4093-4b14-c735-4a7bc0df33e6"
      },
      "execution_count": null,
      "outputs": [
        {
          "output_type": "stream",
          "name": "stdout",
          "text": [
            "문자열을 입력하시오 : 가나닿라\n",
            "검색할 글자를 입력하시오 : 가\n",
            "1\n"
          ]
        }
      ]
    },
    {
      "cell_type": "code",
      "source": [
        "# 어떤 뉴스 커뮤니티에서 유저들이 올린 글들 중 일부가 허위 조작된 뉴스일 가능성이 있어.\n",
        "# 운영자는 ‘가짜 뉴스’를 다음 기준으로 판별하는 알고리즘을 만들고자 한다.\n",
        "\n",
        "# n개의 뉴스 문장이 담긴 리스트 news_list가 주어짐.\n",
        "\n",
        "# 아래 기준에 해당하는 문장은 가짜 뉴스로 간주하여 필터링해야 함.\n",
        "\n",
        "# 가짜 뉴스 필터링 규칙\n",
        "# 과도한 대문자 사용:\n",
        "\n",
        "# 문장에서 대문자가 전체 글자의 60% 이상이면 가짜 뉴스.\n",
        "\n",
        "# 과도한 특수기호 사용:\n",
        "\n",
        "# !?@#$%^&*() 중 하나라도 5개 이상 포함된 문장은 가짜 뉴스.\n",
        "\n",
        "# 선정적 문구 포함:\n",
        "\n",
        "# 다음 키워드 중 하나라도 포함되면 가짜 뉴스:\n",
        "# [\"충격\", \"경악\", \"믿을 수 없는\", \"소름\", \"대참사\", \"실화냐\"]\n",
        "\n",
        "\n",
        "# news_list 중 가짜 뉴스에 해당하지 않는 뉴스 문장만 남긴 새 리스트를 반환하라.\n",
        "\n",
        "news_list = [\n",
        "    \"충격! 소녀시대 해체 실화냐??\",\n",
        "    \"오늘의 날씨는 맑음입니다.\",\n",
        "    \"실화냐???? 소름끼친다... 대참사 발생!!!\",\n",
        "    \"BREAKING NEWS: MARKET CRASH!!!!!\",\n",
        "    \"믿을 수 없는 진실! 그가 돌아왔다!\",\n",
        "    \"정상적인 뉴스 기사입니다.\"\n",
        "]\n",
        "\n",
        "def fake_news_filter(ff):\n",
        "    ban = [\"충격\", \"경악\", \"믿을 수 없는\", \"소름\", \"대참사\", \"실화냐\"]\n",
        "    result = []\n",
        "    for sentence in ff:\n",
        "        가짜 = False\n",
        "        for word in ban:\n",
        "            if word in sentence:\n",
        "                가짜 = True\n",
        "                break\n",
        "        if not 가짜:\n",
        "            result.append(sentence)\n",
        "    return result\n",
        "\n",
        "result = fake_news_filter(news_list)\n",
        "print(result)\n",
        "\n"
      ],
      "metadata": {
        "colab": {
          "base_uri": "https://localhost:8080/"
        },
        "id": "svzzMHLG0TfM",
        "outputId": "126d8bde-dadc-409c-f49b-534c83310f4c"
      },
      "execution_count": null,
      "outputs": [
        {
          "output_type": "stream",
          "name": "stdout",
          "text": [
            "['오늘의 날씨는 맑음입니다.', 'BREAKING NEWS: MARKET CRASH!!!!!', '정상적인 뉴스 기사입니다.']\n"
          ]
        }
      ]
    }
  ]
}