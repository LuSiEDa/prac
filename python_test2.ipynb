{
  "nbformat": 4,
  "nbformat_minor": 0,
  "metadata": {
    "colab": {
      "provenance": [],
      "authorship_tag": "ABX9TyPMWjdZDGmBMKULGFuUGlXG",
      "include_colab_link": true
    },
    "kernelspec": {
      "name": "python3",
      "display_name": "Python 3"
    },
    "language_info": {
      "name": "python"
    }
  },
  "cells": [
    {
      "cell_type": "markdown",
      "metadata": {
        "id": "view-in-github",
        "colab_type": "text"
      },
      "source": [
        "<a href=\"https://colab.research.google.com/github/LuSiEDa/prac/blob/main/python_test2.ipynb\" target=\"_parent\"><img src=\"https://colab.research.google.com/assets/colab-badge.svg\" alt=\"Open In Colab\"/></a>"
      ]
    },
    {
      "cell_type": "code",
      "execution_count": 3,
      "metadata": {
        "id": "yBJDJDh3SatN",
        "colab": {
          "base_uri": "https://localhost:8080/"
        },
        "outputId": "4d4fa5f4-9750-42cd-96ac-5bddc1e97520"
      },
      "outputs": [
        {
          "output_type": "stream",
          "name": "stdout",
          "text": [
            "5\n",
            "5 <class 'int'>\n",
            "5\n",
            "5 <class 'int'>\n"
          ]
        }
      ],
      "source": [
        "# 함수와 메서드\n",
        "\n",
        "# 함수 : 어디에 속해있지 않거 단독 모듈이라 함수를 그냥 호출하여 사용 예)print(), input()\n",
        "# 매소드 : 함수의 클래스 안에 속해 있고 클래스의 멤버 변수들을 이용해서 구현된 것. 참조해야 하는 것없이 단독X\n",
        "\n",
        "# 입력과 출력\n",
        "\n",
        "# 입력 : input()\n",
        "# 출력 : print()\n",
        "\n",
        "# 인풋 사용례\n",
        "\n",
        "# 인사 = input(\"우리학교 최고 존잘남)아... 안녕\")\n",
        "# print(인사 + \"나도 신기해\")\n",
        "# input으로 값을 넣으면 문자열 취급\n",
        "\n",
        "# 형변환 1\n",
        "\n",
        "정수 = input()\n",
        "정수 = int(정수)\n",
        "print(정수, type(정수))\n",
        "\n",
        "# 형변환 2\n",
        "\n",
        "정수 = int(input())\n",
        "print(정수, type(정수))\n",
        "\n",
        "# 그 외 입력값의 형변환이 가능한 종류 : tuple(), list(), dict(), set()"
      ]
    },
    {
      "cell_type": "code",
      "source": [
        "\n",
        "넌센스 , 정답 = input().split(\",\")\n",
        "print(f'넌센스 퀴즈 : {넌센스}')\n",
        "print(f'정답 : {정답}')\n",
        "\n",
        "#내 나름대로 이해한 바:\n",
        "#인풋값은 띄어쓰기를 인식 못한다. 하나의 값만 인식한다.\n",
        "#그것을 스플릿 매서드로 구분하게끔 입력 (“,”으로 쉼표를 기준으로 끊어라)\n",
        "#정의된 넌센스 퀴즈를 쉼표 기준으로 끊어 앞 부분은 넌센스, 뒷 부분은 정답으로 변수값 입력됨.\n",
        "\n",
        "# map 함수 : 여러 개의 데이터를 받아서 각각의 요소에 함수를 적용한 결과를 반환하는 내장 함수입니다.\n",
        "# 기본 문법 : map(함수, 함수에 적용할 데이터 집합)\n",
        "# 예) 번호1, 번호2, 번호3, 번호4 = map(int, input().split(\",\")) -> 입력 값을 넣으면 각각 적용한다.\n",
        "\n"
      ],
      "metadata": {
        "colab": {
          "base_uri": "https://localhost:8080/"
        },
        "id": "ZvoLkFYqEYOE",
        "outputId": "05a2b59c-1cab-439c-c338-f0676cfd5888"
      },
      "execution_count": 4,
      "outputs": [
        {
          "output_type": "stream",
          "name": "stdout",
          "text": [
            "스페인에서 에스파를 만나면?, 에스파냐\n",
            "넌센스 퀴즈 : 스페인에서 에스파를 만나면?\n",
            "정답 :  에스파냐\n"
          ]
        }
      ]
    },
    {
      "cell_type": "code",
      "source": [
        "# 레거시 코드 : 누군가 남겨두고간 코드\n",
        "# 리펙토링 : 결과의 변경없이 코드의 구조를 재조정하는 것.\n",
        "\n",
        "# 변수값 입력\n",
        "#bung__1, bung__2, bung__3 = \"붕어빵(팥)\", \"붕어빵(슈크림)\", \"붕어빵(잡채)\"\n",
        "#bung__1__sell, bung__2__sell, bung__3__sell = 2000, 2500, 3000\n",
        "#order__2, order__3 = 2, 3\n",
        "\n",
        "# 붕어빵 계산값\n",
        "#order__2__pay, order__3__pay = bung__2__sell * order__2, bung__3__sell * order__3\n",
        "\n",
        "# 구매 총 개수\n",
        "#total = order__2 + order__3\n",
        "\n",
        "# 구매 총 금액\n",
        "#total_pay = order__2__pay + order__3__pay\n",
        "\n",
        "# 출력\n",
        "#print(f'주문이 완료되었습니다. {bung__2}{order__2}개,{bung__3}{order__3}개 총 {total}개. 결제 금액은 {total_pay}원 입니다.')\n",
        "\n",
        "# 위 코드를 리펠토링 해봅시다\n",
        "\n",
        "\n",
        "\n"
      ],
      "metadata": {
        "id": "PObMsiZeKntH"
      },
      "execution_count": null,
      "outputs": []
    },
    {
      "cell_type": "code",
      "source": [
        "# print() 함수의 기능 이용하기\n",
        "\n",
        "print(\"초코칩\", \"민트\", \"샷추가\", \"휘핑크림\")\n",
        "print(\"초코칩\", \"민트\", \"샷추가\", \"휘핑크림\", sep = \"/\")\n",
        "print(\"초코칩\", \"민트\", \"샷추가\", \"휘핑크림\", sep = ':')\n",
        "print(\"초코칩\", \"민트\", \"샷추가\", \"휘핑크림\", sep = '   ')\n",
        "\n",
        "# end=' '\n",
        "print(\"초코칩\", \"민트\", \"샷추가\", \"휘핑크림\", end = \"123\")\n",
        "print(\"초코칩\", \"민트\", \"샷추가\", \"휘핑크림\", end = \"123\")"
      ],
      "metadata": {
        "colab": {
          "base_uri": "https://localhost:8080/"
        },
        "id": "mAguMpz2LuCB",
        "outputId": "eb2d72f4-1738-449e-9643-85dedd12ce20"
      },
      "execution_count": 15,
      "outputs": [
        {
          "output_type": "stream",
          "name": "stdout",
          "text": [
            "초코칩 민트 샷추가 휘핑크림\n",
            "초코칩/민트/샷추가/휘핑크림\n",
            "초코칩:민트:샷추가:휘핑크림\n",
            "초코칩   민트   샷추가   휘핑크림\n",
            "초코칩 민트 샷추가 휘핑크림123초코칩 민트 샷추가 휘핑크림123"
          ]
        }
      ]
    }
  ]
}