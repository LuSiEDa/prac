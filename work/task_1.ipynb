{
  "cells": [
    {
      "cell_type": "markdown",
      "metadata": {
        "id": "view-in-github",
        "colab_type": "text"
      },
      "source": [
        "<a href=\"https://colab.research.google.com/github/LuSiEDa/prac/blob/main/work/task_1.ipynb\" target=\"_parent\"><img src=\"https://colab.research.google.com/assets/colab-badge.svg\" alt=\"Open In Colab\"/></a>"
      ]
    },
    {
      "cell_type": "markdown",
      "metadata": {
        "id": "hr0WyFffvbHY"
      },
      "source": [
        "안녕하세요. 수강생 여러분~! Chapter33 ~ 41 수업은 잘 들으셨나요?\n",
        "\n",
        "Chapter33 ~ 41의 수업 내용을 바탕으로 아래 문제를 풀어주시면 됩니다.\n",
        "\n",
        "\n",
        "<br>\n",
        "\n",
        "\n",
        "[**답변 입력 방법**]\n",
        "\n",
        "문제 아래에 있는 코드 입력창에 정답코드를 작성하신 후  __▷ 버튼을 클릭해 코드를 실행__ 해보세요<br>"
      ]
    },
    {
      "cell_type": "markdown",
      "metadata": {
        "id": "qWuu2kHovbHZ"
      },
      "source": [
        "---"
      ]
    },
    {
      "cell_type": "markdown",
      "metadata": {
        "id": "ypBBkSrmvbHa"
      },
      "source": [
        "[문제 1]\n",
        "\n",
        "사용자로부터 두 개의 숫자를 입력받아 나눗셈을 수행하는 프로그램을 작성하세요.\n",
        "\n",
        "[예외처리]\n",
        "- 입력 값이 숫자가 아닐 때 발생할 수 있는 ValueError\n",
        "- 나누는 수가 0일 때 발생할 수 있는 ZeroDivisionError\n",
        "- 위 2가지 예외처리 후 사용자에게 이해하기 쉬운 메시지 작성 후 출력되도록 코드를 작성"
      ]
    },
    {
      "cell_type": "code",
      "execution_count": 8,
      "metadata": {
        "colab": {
          "base_uri": "https://localhost:8080/"
        },
        "id": "vOv256LBvbHa",
        "outputId": "a040e155-4fd9-417f-bf3f-45f6198718a2"
      },
      "outputs": [
        {
          "output_type": "stream",
          "name": "stdout",
          "text": [
            "숫자를 입력해주세요.(1) : 30\n",
            "숫자를 입력해주세요.(2) : 0\n",
            "0으로 나눌 수 없습니다.\n"
          ]
        }
      ],
      "source": [
        "try:\n",
        "    number_input01 = int(input(\"숫자를 입력해주세요.(1) : \"))\n",
        "    number_input02 = int(input(\"숫자를 입력해주세요.(2) : \"))\n",
        "    print(f'나눈 값 {number_input01 / number_input02}입니다.')\n",
        "except ValueError:\n",
        "    print(\"숫자를 입력해주세요.\")\n",
        "\n",
        "except ZeroDivisionError:\n",
        "    print(\"0으로 나눌 수 없습니다.\")"
      ]
    },
    {
      "cell_type": "markdown",
      "metadata": {
        "id": "hog1WzRZvbHa"
      },
      "source": [
        "---"
      ]
    },
    {
      "cell_type": "markdown",
      "metadata": {
        "id": "ZpW_6ghvvbHa"
      },
      "source": [
        "[문제 2]\n",
        "\n",
        "파일을 읽어서 내용을 출력하는 프로그램을 작성하세요.\n",
        "\n",
        "- 파일이 존재하지 않을 때 발생하는 FileNotFoundError를 처리\n",
        "- 파일이 존재하지 않을 경우 \"파일을 찾을 수 없습니다.\"라는 메시지를 출력"
      ]
    },
    {
      "cell_type": "code",
      "execution_count": 11,
      "metadata": {
        "colab": {
          "base_uri": "https://localhost:8080/"
        },
        "id": "xwRyEUk7vbHb",
        "outputId": "bb1b3915-0989-432f-8ecf-3a7122c6d809"
      },
      "outputs": [
        {
          "output_type": "stream",
          "name": "stdout",
          "text": [
            "파일명을 입력하세요 : 파일명\n",
            "파일을 찾을 수 없습니다.\n"
          ]
        }
      ],
      "source": [
        "파일이름 = input(\"파일명을 입력하세요 : \")\n",
        "\n",
        "try:\n",
        "    with open(파일이름, 'r') as 파일:\n",
        "        content = 파일.read()\n",
        "        print(content)\n",
        "except FileNotFoundError:\n",
        "    print(\"파일을 찾을 수 없습니다.\")"
      ]
    },
    {
      "cell_type": "markdown",
      "metadata": {
        "id": "IaT5gkS7vbHb"
      },
      "source": [
        "---"
      ]
    },
    {
      "cell_type": "markdown",
      "metadata": {
        "id": "F3fIWFXDvbHb"
      },
      "source": [
        "[문제 3]\n",
        "\n",
        "사용자로부터 여러 개의 숫자를 입력받아 리스트에 저장한 후, 사용자가 'done'이라고 입력할 때까지 계속 입력받으세요.\n",
        "\n",
        "- 입력 중 숫자가 아닌 값이 입력되면 ValueError를 처리\n",
        "- 숫자 외 값이 입력된 경우 어떤 값이 잘못 입력되었는지 사용자에게 알려주는 문구 출력<br>\n",
        "  (예: f\"잘못된 값: {변수}. 숫자를 입력해주세요.\")\n",
        "\n"
      ]
    },
    {
      "cell_type": "code",
      "execution_count": 14,
      "metadata": {
        "colab": {
          "base_uri": "https://localhost:8080/"
        },
        "id": "xTYSAyq-vbHb",
        "outputId": "9b5b8057-8bec-46ab-8e3f-18328ec95397"
      },
      "outputs": [
        {
          "name": "stdout",
          "output_type": "stream",
          "text": [
            "숫자를 입력하세요 : 가\n",
            "잘못된 값 : 가. 숫자를 입력하세요.\n",
            "숫자를 입력하세요 : 1\n",
            "숫자를 입력하세요 : 3\n",
            "숫자를 입력하세요 : 5\n",
            "숫자를 입력하세요 : 끝나?\n",
            "잘못된 값 : 끝나?. 숫자를 입력하세요.\n",
            "숫자를 입력하세요 : done\n"
          ]
        }
      ],
      "source": [
        "값리스트 = []\n",
        "while True:\n",
        "    입력값 = input(\"숫자를 입력하세요 : \")\n",
        "    try:\n",
        "        입력값 = int(입력값)\n",
        "        입력값 = str(입력값)\n",
        "        값리스트.append(입력값)\n",
        "    except ValueError:\n",
        "        if 입력값 == 'done':\n",
        "            break\n",
        "        else:\n",
        "            print(f'잘못된 값 : {입력값}. 숫자를 입력하세요.')"
      ]
    },
    {
      "cell_type": "markdown",
      "metadata": {
        "id": "rZJl92UkvbHc"
      },
      "source": [
        "---"
      ]
    },
    {
      "cell_type": "markdown",
      "metadata": {
        "id": "ZhmT2rxDvbHc"
      },
      "source": [
        "[문제 4]\n",
        "\n",
        "사용자 정의 예외 NegativeNumberError를 생성하고, 사용자로부터 숫자를 입력받아 음수일 경우 NegativeNumberError를 발생시키는 프로그램을 작성하세요.\n",
        "\n",
        "- 예외 처리 구문을 사용하여 음수 입력 시 \"양수를 입력해주세요.\"라는 메시지를 출력"
      ]
    },
    {
      "cell_type": "code",
      "execution_count": 21,
      "metadata": {
        "colab": {
          "base_uri": "https://localhost:8080/"
        },
        "id": "BpYrrbmQvbHc",
        "outputId": "0d2b7190-126c-475c-aa61-1829203312ba"
      },
      "outputs": [
        {
          "output_type": "stream",
          "name": "stdout",
          "text": [
            "숫자를 입력해주세요 : -3\n",
            "양수를 입력해주세요.\n"
          ]
        }
      ],
      "source": [
        "class NegativeNumberError(Exception):\n",
        "    pass\n",
        "# class를 써야하는구나!!\n",
        "\n",
        "def 숫자입력():\n",
        "    num = int(input(\"숫자를 입력해주세요 : \"))\n",
        "    if num < 0:\n",
        "         raise NegativeNumberError\n",
        "    return num\n",
        "\n",
        "try:\n",
        "    result = 숫자입력()\n",
        "    print(f'입력한 숫자는 {result}입니다.')\n",
        "except NegativeNumberError:\n",
        "    print(\"양수를 입력해주세요.\")\n"
      ]
    },
    {
      "cell_type": "markdown",
      "metadata": {
        "id": "mftAFJ4vvbHc"
      },
      "source": [
        "---"
      ]
    },
    {
      "cell_type": "markdown",
      "metadata": {
        "id": "upggwjgRvbHc"
      },
      "source": [
        "[문제 5]\n",
        "\n",
        "datetime 모듈을 사용하여 현재 날짜와 시간을 출력하는 프로그램을 작성하세요.\n",
        "\n",
        "또한, 사용자로부터 태어난 년도를 입력받아 현재 나이를 계산하여 출력하세요."
      ]
    },
    {
      "cell_type": "code",
      "execution_count": 31,
      "metadata": {
        "colab": {
          "base_uri": "https://localhost:8080/"
        },
        "id": "P2uSa-FNvbHc",
        "outputId": "90ec0ce7-f7a3-4ae3-c4d8-a398e70d5b6d"
      },
      "outputs": [
        {
          "output_type": "stream",
          "name": "stdout",
          "text": [
            "현재 시각 :  2025년, 07월,17일, 06시, 30분, 32초\n",
            "태어난 년도를 입력해주세요 : 1930\n",
            "당신의 나이는 95 세 입니다.\n"
          ]
        }
      ],
      "source": [
        "import datetime\n",
        "\n",
        "now = datetime.datetime.now()\n",
        "\n",
        "formatted = now.strftime(\"%Y년, %m월,%d일, %H시, %M분, %S초\")\n",
        "\n",
        "print(\"현재 시각 : \", formatted)\n",
        "\n",
        "사용자년도 = int(input(\"태어난 년도를 입력해주세요 : \"))\n",
        "\n",
        "현재년도 = now.year\n",
        "\n",
        "try:\n",
        "    사용자나이 = 현재년도 - 사용자년도\n",
        "    print(f'당신의 나이는 {사용자나이} 세 입니다.')\n",
        "\n",
        "except:\n",
        "    pass"
      ]
    },
    {
      "cell_type": "markdown",
      "metadata": {
        "id": "Ny1ebGx6vbHc"
      },
      "source": [
        "---"
      ]
    },
    {
      "cell_type": "markdown",
      "metadata": {
        "id": "SqVFRIvZvbHc"
      },
      "source": [
        "[문제 6]\n",
        "\n",
        "requests 모듈을 사용하여, 웹 페이지의 HTML을 가져오는 간단한 웹 스크레이퍼를 작성하세요.\n",
        "\n",
        "'https://kream.co.kr/'에서<br>\n",
        "데이터를 가져와서 상태 코드와 HTML의 첫 100자를 출력하세요.<br>\n",
        "(실습 전 requests 모듈을 설치해야 함)"
      ]
    },
    {
      "cell_type": "code",
      "execution_count": 32,
      "metadata": {
        "colab": {
          "base_uri": "https://localhost:8080/"
        },
        "id": "8OnEuIzQvbHd",
        "outputId": "83e773e5-98f3-470c-c01c-bbe0c09d51cb"
      },
      "outputs": [
        {
          "output_type": "stream",
          "name": "stdout",
          "text": [
            "상태 코드 :  500\n",
            "HTML 앞 100자 : \n",
            " <!DOCTYPE html>\n",
            "<html lang=\"ko\">\n",
            "<head>\n",
            "<meta name=\"robots\" content=\"noindex, nofollow\" />\n",
            "<meta htt\n"
          ]
        }
      ],
      "source": [
        "# pip3 install requests 터미널에서 실행\n",
        "\n",
        "import requests\n",
        "\n",
        "url = \"https://kream.co.kr/\"\n",
        "\n",
        "response = requests.get(url)\n",
        "\n",
        "print(\"상태 코드 : \", response.status_code)\n",
        "print(\"HTML 앞 100자 : \\n\", response.text[:100])"
      ]
    },
    {
      "cell_type": "markdown",
      "metadata": {
        "id": "t0WuCA_ovbHd"
      },
      "source": [
        "---"
      ]
    },
    {
      "cell_type": "markdown",
      "metadata": {
        "id": "ynqwbMYBvbHd"
      },
      "source": [
        "[문제 7]\n",
        "\n",
        "함수 실행 시간을 측정하는 데코레이터 timer_decorator를 작성하세요.\n",
        "\n",
        "임의의 함수가 실행되는 시간을 측정하여 \"함수 실행 시간: x.xx초\" 형태로 출력하세요."
      ]
    },
    {
      "cell_type": "code",
      "execution_count": null,
      "metadata": {
        "id": "oIiJYbYtvbHd"
      },
      "outputs": [],
      "source": []
    },
    {
      "cell_type": "markdown",
      "source": [
        "import time\n",
        "\n",
        "time.sleep(3)\n",
        "\n",
        "\n",
        "@time_decorator\n"
      ],
      "metadata": {
        "id": "2svzn4QnGgqc"
      }
    },
    {
      "cell_type": "markdown",
      "metadata": {
        "id": "ajhtgSGIvbHd"
      },
      "source": [
        "---"
      ]
    },
    {
      "cell_type": "markdown",
      "metadata": {
        "id": "DhfI0W2nvbHd"
      },
      "source": [
        "[문제 8]\n",
        "\n",
        "여러분이 자주 사용하는 수학적 연산<br>\n",
        "(예: 삼각형 넓이, 원의 넓이, 직육면체의 넓이)을 수행하는 함수들을 포함하는 mymath.py라는 이름의 모듈을 만드세요.\n",
        "\n",
        "이 모듈을 사용하여 작성된 함수들을 실제로 임포트하고 사용하는 간단한 프로그램을 작성하세요."
      ]
    },
    {
      "cell_type": "code",
      "execution_count": 41,
      "metadata": {
        "id": "2ADLf7fbvbHd"
      },
      "outputs": [],
      "source": [
        "class mymath:\n",
        "    def 삼각형넓이(밑변, 높이):\n",
        "        return 밑변 * 높이 / 2\n",
        "\n",
        "    def 원의넓이(반지름):\n",
        "        return 3.14 * 반지름 ** 2\n",
        "\n",
        "    def 직육면체의넓이(가로, 세로, 높이):\n",
        "        return (가로 + 세로 + 높이) * 2"
      ]
    },
    {
      "cell_type": "code",
      "execution_count": 42,
      "metadata": {
        "colab": {
          "base_uri": "https://localhost:8080/",
          "height": 394
        },
        "id": "l_Lu8aWsvbHd",
        "outputId": "f428c7a0-010d-499f-b796-57fb286c1020"
      },
      "outputs": [
        {
          "output_type": "error",
          "ename": "ModuleNotFoundError",
          "evalue": "No module named 'mymath'",
          "traceback": [
            "\u001b[0;31m---------------------------------------------------------------------------\u001b[0m",
            "\u001b[0;31mModuleNotFoundError\u001b[0m                       Traceback (most recent call last)",
            "\u001b[0;32m/tmp/ipython-input-42-1923906511.py\u001b[0m in \u001b[0;36m<cell line: 0>\u001b[0;34m()\u001b[0m\n\u001b[0;32m----> 1\u001b[0;31m \u001b[0;32mimport\u001b[0m \u001b[0mmymath\u001b[0m \u001b[0;32mas\u001b[0m \u001b[0mmm\u001b[0m\u001b[0;34m\u001b[0m\u001b[0;34m\u001b[0m\u001b[0m\n\u001b[0m\u001b[1;32m      2\u001b[0m \u001b[0;34m\u001b[0m\u001b[0m\n\u001b[1;32m      3\u001b[0m \u001b[0mprint\u001b[0m\u001b[0;34m(\u001b[0m\u001b[0mmm\u001b[0m\u001b[0;34m.\u001b[0m\u001b[0m삼각형의넓이\u001b[0m\u001b[0;34m(\u001b[0m\u001b[0;36m3\u001b[0m\u001b[0;34m,\u001b[0m \u001b[0;36m4\u001b[0m\u001b[0;34m)\u001b[0m\u001b[0;34m)\u001b[0m\u001b[0;34m\u001b[0m\u001b[0;34m\u001b[0m\u001b[0m\n\u001b[1;32m      4\u001b[0m \u001b[0mprint\u001b[0m\u001b[0;34m(\u001b[0m\u001b[0mmm\u001b[0m\u001b[0;34m.\u001b[0m\u001b[0m원의넓이\u001b[0m\u001b[0;34m(\u001b[0m\u001b[0;36m4\u001b[0m\u001b[0;34m)\u001b[0m\u001b[0;34m)\u001b[0m\u001b[0;34m\u001b[0m\u001b[0;34m\u001b[0m\u001b[0m\n\u001b[1;32m      5\u001b[0m \u001b[0mprint\u001b[0m\u001b[0;34m(\u001b[0m\u001b[0mmm\u001b[0m\u001b[0;34m.\u001b[0m\u001b[0m직육면체의넓이\u001b[0m\u001b[0;34m(\u001b[0m\u001b[0;36m3\u001b[0m\u001b[0;34m,\u001b[0m \u001b[0;36m4\u001b[0m\u001b[0;34m,\u001b[0m \u001b[0;36m5\u001b[0m\u001b[0;34m)\u001b[0m\u001b[0;34m)\u001b[0m\u001b[0;34m\u001b[0m\u001b[0;34m\u001b[0m\u001b[0m\n",
            "\u001b[0;31mModuleNotFoundError\u001b[0m: No module named 'mymath'",
            "",
            "\u001b[0;31m---------------------------------------------------------------------------\u001b[0;32m\nNOTE: If your import is failing due to a missing package, you can\nmanually install dependencies using either !pip or !apt.\n\nTo view examples of installing some common dependencies, click the\n\"Open Examples\" button below.\n\u001b[0;31m---------------------------------------------------------------------------\u001b[0m\n"
          ],
          "errorDetails": {
            "actions": [
              {
                "action": "open_url",
                "actionText": "Open Examples",
                "url": "/notebooks/snippets/importing_libraries.ipynb"
              }
            ]
          }
        }
      ],
      "source": [
        "import mymath as mm\n",
        "\n",
        "print(mm.삼각형의넓이(3, 4))\n",
        "print(mm.원의넓이(4))\n",
        "print(mm.직육면체의넓이(3, 4, 5))\n",
        "\n",
        "\n",
        "# 모듈이 없다고 나오지만 pass"
      ]
    },
    {
      "cell_type": "markdown",
      "metadata": {
        "id": "tUFsAzv5vbHd"
      },
      "source": [
        "---"
      ]
    },
    {
      "cell_type": "markdown",
      "metadata": {
        "id": "iDFQz2MOvbHd"
      },
      "source": [
        "[문제 9]\n",
        "\n",
        "animals라는 패키지를 만들고, 이 패키지 내에 mammals, birds라는 두 개의 서브 모듈을 생성하세요.\n",
        "\n",
        "- 각 모듈에는 최소한 한 개 이상의 동물에 관한 클래스를 정의하세요<br>\n",
        "  (예: mammals에는 Dog, birds에는 Eagle)\n",
        "- 이 패키지와 모듈을 사용하여 동물들의 정보를 출력하는 프로그램을 작성\n",
        "\n",
        "폴더 및 파일 구조\n",
        "```\n",
        "animals/(폴더)\n",
        "├── __init__.py\n",
        "├── mammals.py\n",
        "└── birds.py\n",
        "```\n"
      ]
    },
    {
      "cell_type": "code",
      "execution_count": null,
      "metadata": {
        "id": "06kpRKmbvbHd"
      },
      "outputs": [],
      "source": [
        "# mammals\n",
        "\n",
        "def Dog():\n",
        "    pass"
      ]
    },
    {
      "cell_type": "code",
      "execution_count": null,
      "metadata": {
        "id": "eiJnxlHHvbHd"
      },
      "outputs": [],
      "source": [
        "# birds\n",
        "\n",
        "def Eagle():\n",
        "    pass"
      ]
    },
    {
      "cell_type": "code",
      "execution_count": null,
      "metadata": {
        "id": "1y16cw2cvbHd"
      },
      "outputs": [],
      "source": [
        "import animals.mammals as mam\n",
        "import animals.brids as bri\n",
        "\n",
        "print(nam.Dog())\n",
        "print(bri.Eagle())"
      ]
    },
    {
      "cell_type": "markdown",
      "metadata": {
        "id": "4lGz7pl2vbHd"
      },
      "source": [
        "---"
      ]
    }
  ],
  "metadata": {
    "language_info": {
      "name": "python"
    },
    "colab": {
      "provenance": [],
      "include_colab_link": true
    },
    "kernelspec": {
      "name": "python3",
      "display_name": "Python 3"
    }
  },
  "nbformat": 4,
  "nbformat_minor": 0
}