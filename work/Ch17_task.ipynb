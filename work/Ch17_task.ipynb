{
  "cells": [
    {
      "cell_type": "markdown",
      "metadata": {
        "id": "view-in-github",
        "colab_type": "text"
      },
      "source": [
        "<a href=\"https://colab.research.google.com/github/LuSiEDa/prac/blob/main/work/Ch17_task.ipynb\" target=\"_parent\"><img src=\"https://colab.research.google.com/assets/colab-badge.svg\" alt=\"Open In Colab\"/></a>"
      ]
    },
    {
      "cell_type": "markdown",
      "metadata": {
        "id": "HVyMN_ZaiiwN"
      },
      "source": [
        "<span style=\"font-size:100%\">\n",
        "\n",
        "수업은 모두 열심히 들으셨나요?\n",
        "\n",
        "간혹 강의에서 언급되지 않은 내용이 문제로 나올 수 있습니다.<br>\n",
        "그럴땐 강의 내용 외 문제는 구글링을 통해 해결해주세요<br></span>\n",
        "<span style=\"font-size:80%\">\n",
        "(구글링 또한 개발자가 갖쳐야할 역량 중에 하나랍니다 😊)\n",
        "</span>\n",
        "\n",
        "---"
      ]
    },
    {
      "cell_type": "markdown",
      "metadata": {
        "id": "3hYhvrmciiwO"
      },
      "source": [
        "### Chapter17 : `Python 변수에 대한 개념 복습하고 문제풀기`"
      ]
    },
    {
      "cell_type": "markdown",
      "metadata": {
        "id": "x-OBAszYiiwO"
      },
      "source": [
        "<span style=\"font-size:80%\">[문제1]<br><br></span>\n",
        "두 수를 받은 뒤 곱한 결과를 반환하는 oz 함수를 만들어주세요\n"
      ]
    },
    {
      "cell_type": "markdown",
      "metadata": {
        "id": "prc2bQ8aiiwP"
      },
      "source": [
        "<span style=\"color:red\">답변</span>"
      ]
    },
    {
      "cell_type": "markdown",
      "metadata": {
        "id": "7fv7fh-7iiwP"
      },
      "source": [
        "def oz(num1, num2)\n",
        "    return num1 * num2"
      ]
    },
    {
      "cell_type": "markdown",
      "metadata": {
        "id": "0gTxb2x4iiwP"
      },
      "source": [
        "<span style=\"font-size:80%\">[문제2]<br><br></span>\n",
        "```\n",
        "아래 작성된 코드의 실행 결과를 설명해주세요\n",
        "\n",
        "print(\"A\")\n",
        "\n",
        "def message() :\n",
        "    print(\"B\")\n",
        "\n",
        "print(\"C\")\n",
        "\n",
        "message()\n",
        "\n",
        "```"
      ]
    },
    {
      "cell_type": "markdown",
      "metadata": {
        "id": "6qciOCaniiwP"
      },
      "source": [
        "<span style=\"color:red\">답변</span>"
      ]
    },
    {
      "cell_type": "markdown",
      "source": [
        "먼저 \"A\"가 출력되고 곧이어 \"C\"가 출력됨. 마지막으로 정의된 함수message()가 작동하여  \"B\"를 출력함.\n"
      ],
      "metadata": {
        "id": "1NUcC-UKjg1R"
      }
    },
    {
      "cell_type": "markdown",
      "metadata": {
        "id": "dpnjoJkgiiwP"
      },
      "source": [
        "----"
      ]
    },
    {
      "cell_type": "markdown",
      "metadata": {
        "id": "86k5czXPiiwP"
      },
      "source": [
        "<span style=\"font-size:80%\">[문제3]<br><br></span>\n",
        "```매개변수가 없는 oz 함수를 호출하는 방법으로 올바른 것을 골라주세요```\n",
        "\n",
        "1. def oz\n",
        "2. oz\n",
        "3. oz( )\n",
        "4. oz[ ]\n",
        "5. def oz:"
      ]
    },
    {
      "cell_type": "markdown",
      "metadata": {
        "id": "eDiPl0l1iiwQ"
      },
      "source": [
        "<span style=\"color:red\">답변</span>"
      ]
    },
    {
      "cell_type": "markdown",
      "metadata": {
        "id": "ReglKtu9iiwQ"
      },
      "source": [
        "3"
      ]
    },
    {
      "cell_type": "markdown",
      "metadata": {
        "id": "RaIY-bWBiiwQ"
      },
      "source": [
        "----"
      ]
    },
    {
      "cell_type": "markdown",
      "metadata": {
        "id": "uMygFDiaiiwQ"
      },
      "source": [
        "<span style=\"font-size:80%\">[문4]<br><br></span>\n",
        "```문자열 하나를 입력받아 인터넷 주소를 반환하는 make_url 함수를 만들어주세요```\n",
        "\n",
        "예 ) make_url(\"google\")\n",
        "\n",
        "출력 : www.google.com"
      ]
    },
    {
      "cell_type": "markdown",
      "metadata": {
        "id": "k4QZY6b-iiwQ"
      },
      "source": [
        "<span style=\"color:red\">답변</span>"
      ]
    },
    {
      "cell_type": "markdown",
      "metadata": {
        "id": "vW1j8AsciiwQ"
      },
      "source": [
        "def make_url(사이트)\n",
        "    return \"www.\" + 사이트 +\".com\"\n",
        "\n",
        "print(make_url(\"google\"))\n",
        "\n"
      ]
    },
    {
      "cell_type": "markdown",
      "metadata": {
        "id": "fI5oLO-aiiwQ"
      },
      "source": [
        "----"
      ]
    },
    {
      "cell_type": "markdown",
      "metadata": {
        "id": "M1A_ft59iiwQ"
      },
      "source": [
        "<span style=\"font-size:80%\">[문제5]<br><br></span>\n",
        "```아래 코드를 실행했을때 c의 값으로 올바른 것을 골라주세요```\n",
        "\n",
        "def 함수0(num) :<br>\n",
        "&emsp;&emsp;return num * 2<br>\n",
        "\n",
        "def 함수1(num) :<br>\n",
        "&emsp;&emsp;return 함수0(num + 2)<br>\n",
        "\n",
        "def 함수2(num) :<br>\n",
        "&emsp;&emsp;num = num + 10<br>\n",
        "&emsp;&emsp;return 함수1(num)<br>\n",
        "\n",
        "c = 함수2(2)<br>\n",
        "print(c)\n",
        "\n",
        "\n",
        "1. 1\n",
        "2. 5\n",
        "3. 3\n",
        "4. 4\n",
        "5. 28"
      ]
    },
    {
      "cell_type": "markdown",
      "metadata": {
        "id": "UuAJBy7RiiwR"
      },
      "source": [
        "<span style=\"color:red\">답변</span>"
      ]
    },
    {
      "cell_type": "markdown",
      "metadata": {
        "id": "r0W_RE19iiwR"
      },
      "source": [
        "함수2(2):\n",
        "        2 = 2 + 10\n",
        "        리턴 함수1(12)\n",
        "함수1(12):\n",
        "        함수0(12+2)\n",
        "함수0(14):\n",
        "        14+2\n",
        "\n",
        "답 :28"
      ]
    },
    {
      "cell_type": "markdown",
      "metadata": {
        "id": "RG-BAngxiiwR"
      },
      "source": [
        "----"
      ]
    },
    {
      "cell_type": "markdown",
      "metadata": {
        "id": "10AEz1rWiiwR"
      },
      "source": [
        "### Chapter18 : `Python의 Class 개념에 대해 복습하고 문제풀기`"
      ]
    },
    {
      "cell_type": "markdown",
      "metadata": {
        "id": "BCqM1imeiiwR"
      },
      "source": [
        "<span style=\"font-size:80%\">[문제1]<br><br></span>\n",
        "```클래스 greeting 메서드를 호출하기 위해 필요한 코드를 작성해주세요```\n",
        "\n",
        "class Person:<br>\n",
        "&emsp;def greeting(self):<br>\n",
        "&emsp;&emsp;print('hello')<br>"
      ]
    },
    {
      "cell_type": "markdown",
      "metadata": {
        "id": "-e77OLUciiwR"
      },
      "source": [
        "<span style=\"color:red\">답변</span>"
      ]
    },
    {
      "cell_type": "markdown",
      "metadata": {
        "id": "JpRVs45liiwR"
      },
      "source": [
        "인사 = Person()\n",
        "\n",
        "인사.greeting()"
      ]
    },
    {
      "cell_type": "markdown",
      "metadata": {
        "id": "aEWgG9VUiiwR"
      },
      "source": [
        "----"
      ]
    },
    {
      "cell_type": "markdown",
      "metadata": {
        "id": "TDul75TGiiwR"
      },
      "source": [
        "<span style=\"font-size:80%\">[문제2]<br><br></span>\n",
        "```클래스로 인스턴스를 만들때 자동으로 호출되는 메서드를 적어주세요```"
      ]
    },
    {
      "cell_type": "markdown",
      "metadata": {
        "id": "oC43XhMpiiwR"
      },
      "source": [
        "<span style=\"color:red\">답변</span>"
      ]
    },
    {
      "cell_type": "markdown",
      "metadata": {
        "id": "v7warh79iiwR"
      },
      "source": [
        "__init__"
      ]
    },
    {
      "cell_type": "markdown",
      "metadata": {
        "id": "DReDm7vviiwR"
      },
      "source": [
        "----"
      ]
    },
    {
      "cell_type": "markdown",
      "metadata": {
        "id": "bfpwsmBViiwR"
      },
      "source": [
        "<span style=\"font-size:80%\">[문제3]<br><br></span>\n",
        "```Person 클래스에 인스턴스 속성인 name에 접근하는 방법으로 올바른 것을 골라주세요```\n",
        "\n",
        "```\n",
        "class Person:\n",
        "    def __init__(self, name):\n",
        "        self.name = name\n",
        "```\n",
        "\n",
        "1. Person.name\n",
        "2. name\n",
        "3. self\n",
        "4. self.name\n",
        "5. self[name]"
      ]
    },
    {
      "cell_type": "markdown",
      "metadata": {
        "id": "ed2rZd63iiwR"
      },
      "source": [
        "<span style=\"color:red\">답변</span>"
      ]
    },
    {
      "cell_type": "markdown",
      "metadata": {
        "id": "C-G5aLmiiiwR"
      },
      "source": [
        "1번"
      ]
    },
    {
      "cell_type": "markdown",
      "metadata": {
        "id": "GQDEfT9ZiiwR"
      },
      "source": [
        "----"
      ]
    },
    {
      "cell_type": "markdown",
      "metadata": {
        "id": "UYCuxjfjiiwR"
      },
      "source": [
        "<span style=\"font-size:80%\">[문제4]<br><br></span>\n",
        "```Person 클래스를 상속받아서 Student 클래스를 만드는 방법으로 올바른 것을 골라주세요```\n",
        "\n",
        "1. class Student(Person)\n",
        "2. class Student:Person\n",
        "3. class Student(Person):\n",
        "4. class Person(student):\n",
        "5. class Studen=Person:"
      ]
    },
    {
      "cell_type": "markdown",
      "metadata": {
        "id": "Rlg2rRVCiiwR"
      },
      "source": [
        "<span style=\"color:red\">답변</span>"
      ]
    },
    {
      "cell_type": "markdown",
      "metadata": {
        "id": "LPBrc3wViiwR"
      },
      "source": [
        "3번"
      ]
    },
    {
      "cell_type": "markdown",
      "metadata": {
        "id": "W6g841-aiiwR"
      },
      "source": [
        "----"
      ]
    },
    {
      "cell_type": "markdown",
      "metadata": {
        "id": "yWqDUP_GiiwR"
      },
      "source": [
        "<span style=\"font-size:80%\">[문제5]<br><br></span>\n",
        "```메서드 오버라이딩에 대한 설명으로 올바른 것을 골라주세요```\n",
        "\n",
        "1. 메서드 오버라이딩은 함수 이름을 다르게 만들어도 된다.\n",
        "2. 메서드 오버라이딩은 기반 클래스의 메서드는 무시하고 새로운 메서드를 만든다는 뜻이다\n",
        "3. 메서드 오버라이딩은 어떤 기능이 같은 이름으로 사용되어야 할 때 활용된다.\n",
        "4. 오버라이딩 된 메서드에서 기반 클래스의 메서드를 호출할 수 없다.\n",
        "5. 메서드 오버라이딩은 원래 기능을 유지하면서 새로운 기능을 덧붙일 때 사용한다."
      ]
    },
    {
      "cell_type": "markdown",
      "metadata": {
        "id": "3R3_Ny0AiiwS"
      },
      "source": [
        "<span style=\"color:red\">답변</span>"
      ]
    },
    {
      "cell_type": "markdown",
      "metadata": {
        "id": "DrH0suPYiiwW"
      },
      "source": [
        "4번!   틀림\n",
        "\n",
        "정답 : 3, 5\n"
      ]
    },
    {
      "cell_type": "markdown",
      "metadata": {
        "id": "AGA5gh70iiwW"
      },
      "source": [
        "### Chapter19 : `Python 예외처리 방벙에 대해 알아보고 문제 풀기`"
      ]
    },
    {
      "cell_type": "markdown",
      "metadata": {
        "id": "BbWwo0LoiiwW"
      },
      "source": [
        "<span style=\"font-size:80%\">[문제1]<br><br></span>\n",
        "```쓰기 모드로 설정하기 위한 명령어를 골라주세요```\n",
        "\n",
        "1. a\n",
        "2. x\n",
        "3. i\n",
        "4. w\n",
        "5. z"
      ]
    },
    {
      "cell_type": "markdown",
      "metadata": {
        "id": "Ceha5iXuiiwW"
      },
      "source": [
        "<span style=\"color:red\">답변</span>"
      ]
    },
    {
      "cell_type": "markdown",
      "metadata": {
        "id": "VBNsPxRUiiwW"
      },
      "source": [
        "4번"
      ]
    },
    {
      "cell_type": "markdown",
      "metadata": {
        "id": "dhdo63ltiiwW"
      },
      "source": [
        "----"
      ]
    },
    {
      "cell_type": "markdown",
      "metadata": {
        "id": "CVAgJ-DyiiwX"
      },
      "source": [
        "<span style=\"font-size:80%\">[문제2]<br><br></span>\n",
        "```한 줄씩 읽어오기 위해 사용되는 메소드를 골라주세요```\n",
        "\n",
        "1. read()\n",
        "2. readline()\n",
        "3. readstring()\n",
        "4. line()"
      ]
    },
    {
      "cell_type": "markdown",
      "metadata": {
        "id": "_iGr08EOiiwX"
      },
      "source": [
        "<span style=\"color:red\">답변</span>"
      ]
    },
    {
      "cell_type": "markdown",
      "metadata": {
        "id": "J3jf7UUciiwX"
      },
      "source": [
        "2번"
      ]
    },
    {
      "cell_type": "markdown",
      "metadata": {
        "id": "D8n_C06JiiwX"
      },
      "source": [
        "----"
      ]
    },
    {
      "cell_type": "markdown",
      "metadata": {
        "id": "ElSk-5sOiiwX"
      },
      "source": [
        "<span style=\"font-size:80%\">[문제3]<br><br></span>\n",
        "```콤마( , )로 구분해서 데이터를 입력하는 csv파일을 만들기 위해 필요한 코드를 추가로 작성해 주세요```\n",
        "\n",
        "list = ['10', '20', '30', '40']\n",
        "\n",
        "with open('test.csv', 'w') as f:<br>\n",
        "&emsp;&emsp;(여기서부터 필요한 코드를 하단 답변란에 작성해주세요)"
      ]
    },
    {
      "cell_type": "markdown",
      "metadata": {
        "id": "lTaOsqL9iiwX"
      },
      "source": [
        "<span style=\"color:red\">답변</span>"
      ]
    },
    {
      "cell_type": "markdown",
      "metadata": {
        "id": "rNRkI5bBiiwX"
      },
      "source": [
        "join"
      ]
    },
    {
      "cell_type": "markdown",
      "metadata": {
        "id": "0R_vnzXdiiwX"
      },
      "source": [
        "----"
      ]
    },
    {
      "cell_type": "markdown",
      "metadata": {
        "id": "0ma7JJSJiiwX"
      },
      "source": [
        "### Chapter20 : `Python을 이용한 파일 읽고 쓰기에 대해 복습해보고 문제 풀어보기`"
      ]
    },
    {
      "cell_type": "markdown",
      "metadata": {
        "id": "iZENSQiXiiwX"
      },
      "source": [
        "<span style=\"font-size:80%\">[문제1]<br><br></span>\n",
        "```다음 중 예외 처리에 대한 설명으로 잘못된 것을 모두 골라주세요```\n",
        "\n",
        "1. try의 코드에서 예외가 발생하면 except가 실행된다.\n",
        "2. 예외는 현재 함수의 코드 블록에서만 처리할 수 있다.\n",
        "3. try의 코드에서 예외가 발생하더라도 except가 실행되면 스크립트는 중단되지 않는다.\n",
        "4. try, except, else에서 예외가 발생하지 않으면 else가 실행된다.\n",
        "5. finally는 예외가 발생하면 실행되지 않는다."
      ]
    },
    {
      "cell_type": "markdown",
      "metadata": {
        "id": "7w_GB_H2iiwX"
      },
      "source": [
        "<span style=\"color:red\">답변</span>"
      ]
    },
    {
      "cell_type": "markdown",
      "metadata": {
        "id": "YIc66GOZiiwX"
      },
      "source": [
        "2,5"
      ]
    },
    {
      "cell_type": "markdown",
      "metadata": {
        "id": "ebXBREW2iiwX"
      },
      "source": [
        "----"
      ]
    },
    {
      "cell_type": "markdown",
      "metadata": {
        "id": "8B5qA9-UiiwX"
      },
      "source": [
        "<span style=\"font-size:80%\">[문제2]<br><br></span>\n",
        "```예외를 임의로 발생 시키는 명령어를 골라주세요```\n",
        "\n",
        "1. else\n",
        "2. raising\n",
        "3. except\n",
        "4. ZeroDivisionError\n",
        "5. raise"
      ]
    },
    {
      "cell_type": "markdown",
      "source": [],
      "metadata": {
        "id": "e_H7JbshsSaZ"
      }
    },
    {
      "cell_type": "markdown",
      "metadata": {
        "id": "43pNXm7qiiwX"
      },
      "source": [
        "<span style=\"color:red\">답변</span>"
      ]
    },
    {
      "cell_type": "markdown",
      "metadata": {
        "id": "uaju2EHpiiwX"
      },
      "source": [
        "\n",
        "\n",
        "5\n",
        "\n"
      ]
    },
    {
      "cell_type": "markdown",
      "metadata": {
        "id": "B7UDm9cBiiwX"
      },
      "source": [
        "----"
      ]
    },
    {
      "cell_type": "markdown",
      "metadata": {
        "id": "WeZP0TtiiiwX"
      },
      "source": [
        "<span style=\"font-size:80%\">[문제3]<br><br></span>\n",
        "```인덱스의 범위를 벗어났을 때 발생하는 에러에 대한 예외처리를 담당하는 코드를 골라주세요```\n",
        "\n",
        "1. TypeError\n",
        "2. IndexError\n",
        "3. ZeroDivisionError\n",
        "4. KeyError\n",
        "5. SyntaxError"
      ]
    },
    {
      "cell_type": "markdown",
      "metadata": {
        "id": "UFbwjYrgiiwY"
      },
      "source": [
        "<span style=\"color:red\">답변</span>"
      ]
    },
    {
      "cell_type": "markdown",
      "metadata": {
        "id": "0NslYuAuiiwY"
      },
      "source": [
        "2"
      ]
    }
  ],
  "metadata": {
    "language_info": {
      "name": "python"
    },
    "colab": {
      "provenance": [],
      "include_colab_link": true
    },
    "kernelspec": {
      "name": "python3",
      "display_name": "Python 3"
    }
  },
  "nbformat": 4,
  "nbformat_minor": 0
}