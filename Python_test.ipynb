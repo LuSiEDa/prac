{
  "nbformat": 4,
  "nbformat_minor": 0,
  "metadata": {
    "colab": {
      "provenance": [],
      "authorship_tag": "ABX9TyOlY5ZsbCp5/3pRedDol1S2",
      "include_colab_link": true
    },
    "kernelspec": {
      "name": "python3",
      "display_name": "Python 3"
    },
    "language_info": {
      "name": "python"
    }
  },
  "cells": [
    {
      "cell_type": "markdown",
      "metadata": {
        "id": "view-in-github",
        "colab_type": "text"
      },
      "source": [
        "<a href=\"https://colab.research.google.com/github/LuSiEDa/prac/blob/main/Python_test.ipynb\" target=\"_parent\"><img src=\"https://colab.research.google.com/assets/colab-badge.svg\" alt=\"Open In Colab\"/></a>"
      ]
    },
    {
      "cell_type": "code",
      "source": [
        "# 주석은 이렇게 하는거다\n",
        "print(\"진짜 안보이는 거야?\")\n",
        "# print(\"신기하네?\")"
      ],
      "metadata": {
        "id": "9bw10HrZ54ZZ",
        "colab": {
          "base_uri": "https://localhost:8080/"
        },
        "outputId": "1bbab7bf-afa2-455f-9817-7faa92b72614"
      },
      "execution_count": null,
      "outputs": [
        {
          "output_type": "stream",
          "name": "stdout",
          "text": [
            "진짜 안보이는 거야?\n"
          ]
        }
      ]
    },
    {
      "cell_type": "code",
      "source": [
        "for 동물 in (\"토끼\",\"사자\",\"푸바오\",\"호랑이\"):\n",
        "    print(동물)\n",
        "    print(\"보러 갈래요?\")"
      ],
      "metadata": {
        "colab": {
          "base_uri": "https://localhost:8080/"
        },
        "id": "7FogYA6Y_6-_",
        "outputId": "9b1092db-af65-48a7-bc91-6353c0b4cd5a"
      },
      "execution_count": null,
      "outputs": [
        {
          "output_type": "stream",
          "name": "stdout",
          "text": [
            "토끼\n",
            "보러 갈래요?\n",
            "사자\n",
            "보러 갈래요?\n",
            "푸바오\n",
            "보러 갈래요?\n",
            "호랑이\n",
            "보러 갈래요?\n"
          ]
        }
      ]
    },
    {
      "cell_type": "code",
      "source": [
        "# 붕어빵 철이 돌아왔죠\n",
        "# 붕어빵(팥) : 2000원, 붕어빵(슈크림) : 25000원, 붕어빵(잡채) : 3000원\n",
        "# 무인 주문 기계를 만들어주세여ㅛ\n",
        "# 붕어빵(잡채) 3개, 붕어빵(슈크림) 2개를 주문하면\n",
        "# \"주문이 완료되었습니다. 붕어빵(슈크림) 2개, 붕어빵(잡채) 3개 총 5개. 결제금액은 14000원 입니다\"\n",
        "# 위와 같이 출력되도록 코드를 작성해주세요.\n",
        "# 변수를 만들때 스네이크 케이스에 언더바는 2개 / print()문의 포메팅 f-string\n",
        "\n",
        "# 변수값 입력\n",
        "bung__1, bung__2, bung__3 = \"붕어빵(팥)\", \"붕어빵(슈크림)\", \"붕어빵(잡채)\"\n",
        "bung__1__sell, bung__2__sell, bung__3__sell = 2000, 2500, 3000\n",
        "\n",
        "order__2, order__3 = 2, 3\n",
        "\n",
        "# 붕어빵 계산값\n",
        "order__2__pay, order__3__pay = bung__2__sell * order__2, bung__3__sell * order__3\n",
        "\n",
        "# 구매 총 개수\n",
        "total = order__2 + order__3\n",
        "\n",
        "# 구매 총 금액\n",
        "total_pay = order__2__pay + order__3__pay\n",
        "\n",
        "# 출력\n",
        "print(f'주문이 완료되었습니다. {bung__2}{order__2}개,{bung__3}{order__3}개 총 {total}개. 결제 금액은 {total_pay}원 입니다.')"
      ],
      "metadata": {
        "colab": {
          "base_uri": "https://localhost:8080/"
        },
        "id": "v3juZO98AKNY",
        "outputId": "de976f09-b0ad-4224-ef1b-b58ee7ed88c0"
      },
      "execution_count": 4,
      "outputs": [
        {
          "output_type": "stream",
          "name": "stdout",
          "text": [
            "주문이 완료되었습니다. 붕어빵(슈크림)2개,붕어빵(잡채)3개 총 5개. 결제 금액은 14000원 입니다.\n"
          ]
        }
      ]
    }
  ]
}