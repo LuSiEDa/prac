{
  "nbformat": 4,
  "nbformat_minor": 0,
  "metadata": {
    "colab": {
      "provenance": [],
      "authorship_tag": "ABX9TyPrD31sli9pNgFaSfVt/NZq",
      "include_colab_link": true
    },
    "kernelspec": {
      "name": "python3",
      "display_name": "Python 3"
    },
    "language_info": {
      "name": "python"
    }
  },
  "cells": [
    {
      "cell_type": "markdown",
      "metadata": {
        "id": "view-in-github",
        "colab_type": "text"
      },
      "source": [
        "<a href=\"https://colab.research.google.com/github/LuSiEDa/prac/blob/main/self_test02.ipynb\" target=\"_parent\"><img src=\"https://colab.research.google.com/assets/colab-badge.svg\" alt=\"Open In Colab\"/></a>"
      ]
    },
    {
      "cell_type": "code",
      "execution_count": null,
      "metadata": {
        "colab": {
          "base_uri": "https://localhost:8080/"
        },
        "id": "-AsaT1BXCw3N",
        "outputId": "099a9a59-5f41-48fc-eee3-cdb0543cca51"
      },
      "outputs": [
        {
          "output_type": "stream",
          "name": "stdout",
          "text": [
            "현재 온도를 입력하세요 : 56\n",
            "민소매, 반바지 추천\n"
          ]
        }
      ],
      "source": [
        "# 온도에 따른 옷차림 추천 시스템\n",
        "\n",
        "# 사용자로부터 섭씨 온도를 입력받고, 다음 기준에 따라 추천 문구를 출력하라.\n",
        "\n",
        "# - 28도 이상: \"민소매, 반바지 추천\"\n",
        "# - 23~27도: \"반팔과 얇은 바지 추천\"\n",
        "# - 18~22도: \"긴팔 셔츠와 바지 추천\"\n",
        "# - 10~17도: \"자켓이나 가디건 필요\"\n",
        "# - 9도 이하: \"패딩 입으세요\"\n",
        "\n",
        "\n",
        "def temp (hc):\n",
        "    if hc >= 28:\n",
        "        print(\"민소매, 반바지 추천\")\n",
        "    elif hc >= 23:\n",
        "        print(\"반팔과 얇은 바지 추천\")\n",
        "    elif hc >=18:\n",
        "        print(\"긴팔 셔츠와 바지 추천\")\n",
        "    elif hc >=10:\n",
        "        print(\"자켓이나 가디건 필요\")\n",
        "    else:\n",
        "        print(\"패딩 입으세요\")\n",
        "\n",
        "입력 = temp(int(input(\"현재 온도를 입력하세요 : \")))"
      ]
    },
    {
      "cell_type": "code",
      "source": [
        "# 계좌 이체 시뮬레이터\n",
        "\n",
        "# - 초기 잔액: 100,000원\n",
        "# - 사용자 입력으로 \"입금 amount\" 또는 \"출금 amount\"를 반복해서 입력받는다.\n",
        "# - \"종료\" 입력 시, 최종 잔액을 출력한다.\n",
        "# - 출금 시 잔액이 부족하면 \"잔액 부족\" 출력하고 무시한다.\n",
        "# atm 복습!\n",
        "\n",
        "wallet = 100000\n",
        "receipts = []\n",
        "\n",
        "while True:\n",
        "    num = input(\"서비스를 선택해 주세요. 1:입금, 2:출금, 3:영수증 4:종료 : \")\n",
        "    if num in [\"4\", \"종료\"]:\n",
        "        break\n",
        "    if num in [\"1\", \"입금\"]:\n",
        "        입금amount = int(input(\"입금액 :\"))\n",
        "        wallet += 입금amount\n",
        "        print(f\"잔액 : {wallet} 원\")\n",
        "        receipts.append((\"입금\", 입금amount, wallet))\n",
        "    if num in [\"2\", \"출금\"]:\n",
        "        출금amount = int(input(\"출금액 :\"))\n",
        "        if wallet < 출금amount:\n",
        "            print(\"잔액 부족\")\n",
        "        else:\n",
        "            wallet -= 출금amount\n",
        "            print(f\"잔액 : {wallet} 원\")\n",
        "            receipts.append((\"출금\", 출금amount, wallet))\n",
        "    if num in [\"3\", \"영수증\"]:\n",
        "        for i in receipts:\n",
        "            print(i)\n",
        "\n",
        "    else:\n",
        "        print(\"메롱\")\n",
        "\n",
        "print(f\"잔액 : {wallet} 원\")\n"
      ],
      "metadata": {
        "colab": {
          "base_uri": "https://localhost:8080/"
        },
        "id": "SKaCe6vVIpQz",
        "outputId": "ab4eb165-3e58-4fbb-d988-98dd5ef04a9a"
      },
      "execution_count": null,
      "outputs": [
        {
          "output_type": "stream",
          "name": "stdout",
          "text": [
            "서비스를 선택해 주세요. 1:입금, 2:출금, 3:영수증 4:종료 : 야호\n",
            "메롱\n",
            "서비스를 선택해 주세요. 1:입금, 2:출금, 3:영수증 4:종료 : 4\n",
            "잔액 : 100000 원\n"
          ]
        }
      ]
    },
    {
      "cell_type": "code",
      "source": [
        "#  비밀번호 강도 점수 시스템\n",
        "#  사용자가 입력한 문자열 비밀번호에 대해 다음 조건을 만족하면 각각 점수를 부여한다:\n",
        "\n",
        "# - 길이 8자 이상: +1점\n",
        "# - 숫자 포함: +1점\n",
        "# - 대문자 포함: +1점\n",
        "# - 특수문자 포함 (!@#$% 등): +1점\n",
        "\n",
        "# 총점은 0~4점이며, 다음과 같이 등급을 나눈다:\n",
        "# - 4점: \"매우 강함\"\n",
        "# - 3점: \"강함\"\n",
        "# - 2점: \"보통\"\n",
        "# - 1점 이하: \"약함\"\n",
        "\n",
        "\n",
        "def boan(inpass):\n",
        "    password = 0\n",
        "    if len(inpass) >= 8:\n",
        "        password += 1\n",
        "    if any(i.isdigit() for i in inpass):\n",
        "        password += 1\n",
        "    if any(i.isupper() for i in inpass):\n",
        "        password += 1\n",
        "    if any(i in \"!@#$%^&*\" for i in inpass):\n",
        "        password += 1\n",
        "    else:\n",
        "        password += 0\n",
        "    return password\n",
        "\n",
        "결과 = boan(str(input(\"패스워드를 입력하세요 : \")))\n",
        "\n",
        "if 결과 >= 4:\n",
        "    print(\"매우 강함\")\n",
        "elif 결과 == 3:\n",
        "    print(\"강함\")\n",
        "elif 결과 == 2:\n",
        "    print(\"보통\")\n",
        "else:\n",
        "    print(\"약함\")\n",
        "\n",
        "\n",
        "# any() : 리스트나 반복 가능한 것(iterable) 안에 하나라도 True인 게 있으면 True를 반환하는 함수.\n",
        "# any([False, False, True])  # 👉 결과: True\n",
        "# any([False, False, False])  # 👉 결과: False\n",
        "\n",
        "# i.isdigit() : i라는 문자열이 숫자로만 이루어졌는지 확인.\n",
        "# i.isupper() : i가 대문자인지 확인하는 함수.\n"
      ],
      "metadata": {
        "colab": {
          "base_uri": "https://localhost:8080/"
        },
        "id": "m91Iy5ZASkbK",
        "outputId": "191df907-8244-48ba-e921-4303d0d72b5f"
      },
      "execution_count": null,
      "outputs": [
        {
          "output_type": "stream",
          "name": "stdout",
          "text": [
            "패스워드를 입력하세요 : @T45dkdcofm\n",
            "매우 강함\n"
          ]
        }
      ]
    },
    {
      "cell_type": "code",
      "source": [
        "data = \"abc123defdag6d97g8asd6897fbfd087544defdag6d97g8asd6897fbfd087544defdag6d97g8asd6897fbfd087544defdag6d97g8asd6897fbfd087544s48a9gdg8s045gh6\"\n",
        "\n",
        "def calculate_sum(s):\n",
        "    total = 0\n",
        "    for char in s:\n",
        "        if char.isdigit():\n",
        "            total += int(char)\n",
        "    return total\n",
        "\n",
        "result = calculate_sum(data)\n",
        "print(result)"
      ],
      "metadata": {
        "colab": {
          "base_uri": "https://localhost:8080/"
        },
        "id": "IIkcnZ6BZgoe",
        "outputId": "3f833b2c-ad3a-4a5f-f77a-980a27632d86"
      },
      "execution_count": null,
      "outputs": [
        {
          "output_type": "stream",
          "name": "stdout",
          "text": [
            "402\n"
          ]
        }
      ]
    },
    {
      "cell_type": "code",
      "source": [
        "# 12 53\n",
        "encrypted = \"h3e2l4l6o1w5o7r9l8d0\"\n",
        "def decrypt_message(s):\n",
        "    result = \"\"\n",
        "    for i in range(1, len(s), 2):\n",
        "        result += s[i]\n",
        "    return result\n",
        "\n",
        "output = decrypt_message(encrypted)\n",
        "print(\"정답:\", output)"
      ],
      "metadata": {
        "colab": {
          "base_uri": "https://localhost:8080/"
        },
        "id": "COcDiNvIwbrl",
        "outputId": "09a0d29b-d0d4-4924-f987-3820332b0a2e"
      },
      "execution_count": null,
      "outputs": [
        {
          "output_type": "stream",
          "name": "stdout",
          "text": [
            "정답: 3246157980\n"
          ]
        }
      ]
    },
    {
      "cell_type": "code",
      "source": [
        "def solution(age):\n",
        "    answer = 2023 - age\n",
        "    return answer\n",
        "\n",
        "print(solution(32))"
      ],
      "metadata": {
        "colab": {
          "base_uri": "https://localhost:8080/"
        },
        "id": "vALXnB_r0LVW",
        "outputId": "ebe2efa9-898e-491e-f9a3-c65bc28a26f1"
      },
      "execution_count": null,
      "outputs": [
        {
          "output_type": "stream",
          "name": "stdout",
          "text": [
            "1991\n"
          ]
        }
      ]
    },
    {
      "cell_type": "code",
      "source": [
        "def calculate(long)\n",
        "    total = 0\n",
        "    for i in long:\n",
        "        total += i\n",
        "    return total\n",
        "# long의 길이 만큼 반복하는 과정에서 total에 1씩 더함.\n",
        "\n",
        "def greatnumber(numberlist)\n",
        "    maximum_number = numberlist[0]      # 첫 숫자를 초기값으로\n",
        "    for i in range(1,len(numberlist)):\n",
        "        if numberlist[i]>maximum_number:\n",
        "            maximum_number=numberlist[i]\n",
        "    return maximum_number\n",
        "\n",
        "# 최대값 찾는 함수 리펙토링 해보세요.\n",
        "\n"
      ],
      "metadata": {
        "id": "QrmiDmGU_xHX"
      },
      "execution_count": null,
      "outputs": []
    },
    {
      "cell_type": "code",
      "source": [
        "fruits = ['사과', '바나나', '체리']\n",
        "\n",
        "for i, fruit in enumerate(fruits):\n",
        "    print(i, fruit)\n",
        "\n",
        "    # 리스트, 튜플, 문자열 등 반복 가능한 것들을 입력받아서 인덱스와 값을 튜플로 반환"
      ],
      "metadata": {
        "colab": {
          "base_uri": "https://localhost:8080/"
        },
        "id": "DQl2ZuJGIA6Q",
        "outputId": "e5c71477-8dc4-4da3-d1cd-b99a5eade7e6"
      },
      "execution_count": null,
      "outputs": [
        {
          "output_type": "stream",
          "name": "stdout",
          "text": [
            "0 사과\n",
            "1 바나나\n",
            "2 체리\n"
          ]
        }
      ]
    },
    {
      "cell_type": "code",
      "source": [
        "names = [\"alice\",\"bob\",\"charlie\"]\n",
        "age = [25, 30, 35]\n",
        "cities = [\"서울\",\"부산\",\"인천\"]\n",
        "\n",
        "for name, age, city in zip(names, age, cities):\n",
        "    print(f'{name}{age}{cities}')"
      ],
      "metadata": {
        "colab": {
          "base_uri": "https://localhost:8080/"
        },
        "id": "zoKqmX5sJb4i",
        "outputId": "f7871caa-a58b-4631-c0d6-d02c3dae3442"
      },
      "execution_count": null,
      "outputs": [
        {
          "output_type": "stream",
          "name": "stdout",
          "text": [
            "alice25['서울', '부산', '인천']\n",
            "bob30['서울', '부산', '인천']\n",
            "charlie35['서울', '부산', '인천']\n"
          ]
        }
      ]
    },
    {
      "cell_type": "code",
      "source": [
        "\n",
        "# filter() : 조건에 맞는 요소만 남겨줌\n",
        "\n",
        "# filter(조건함수, 반복가능한_데이터)"
      ],
      "metadata": {
        "id": "XxjbsJTwNN5Y"
      },
      "execution_count": null,
      "outputs": []
    },
    {
      "cell_type": "code",
      "source": [
        "# 학생 이름과 점수 입력받기\n",
        "# 평균,최고점,최저점 계산\n",
        "# 등급 매기기 A:90~100, B:80~89, C:70~79, D:60~69, F:0~59\n",
        "# 결과 출력\n",
        "\n",
        "# def aver(grade):\n",
        "#     평균 = sum(grade)/len(grade)\n",
        "#     최고점 = max(grade)\n",
        "#     최저점 = min(grade)\n",
        "#     for 점수 in grade:\n",
        "#         if 점수 >= 90:\n",
        "#             등급 = \"A\"\n",
        "#         elif 점수 >=80:\n",
        "#             등급 = \"B\"\n",
        "#         elif 점수 >= 70:\n",
        "#             등급 = \"C\"\n",
        "#         elif 점수 >=60:\n",
        "#             등급 = \"D\"\n",
        "#         else:\n",
        "#             등급 =\"F\"\n",
        "#             # 등급을 따로 하지말고 그냥 return 하면 되네.\n",
        "# print()\n",
        "\n",
        "def get_grade(score):\n",
        "    \"\"\"점수를 받아 등급을 반환하는 함수\"\"\"\n",
        "    if score >= 90:\n",
        "        return 'A'\n",
        "    elif score >= 80:\n",
        "        return 'B'\n",
        "    elif score >= 70:\n",
        "        return 'C'\n",
        "    elif score >= 60:\n",
        "        return 'D'\n",
        "    else:\n",
        "        return 'F'\n",
        "\n",
        "\n",
        "def analyze_scores(students):\n",
        "    \"\"\"학생 점수 목록을 받아 평균, 최고, 최저 등을 계산\"\"\"\n",
        "    if not students:\n",
        "        return None\n",
        "\n",
        "    scores = [s['score'] for s in students]\n",
        "\n",
        "    return {\n",
        "        'average': sum(scores) / len(scores),\n",
        "        'max_score': max(scores),\n",
        "        'min_score': min(scores),\n",
        "        'total_students': len(students)\n",
        "    }\n",
        "\n",
        "\n",
        "def grade_calculator():\n",
        "    \"\"\"학생의 이름과 점수를 입력받고, 결과와 통계를 출력\"\"\"\n",
        "    students = []\n",
        "\n",
        "    # 학생 정보 입력\n",
        "    while True:\n",
        "        name = input(\"학생 이름 입력 (종료: q): \")\n",
        "        if name.lower() == 'q':\n",
        "            break\n",
        "        try:\n",
        "            score = int(input(\"점수 입력: \"))\n",
        "            students.append({'name': name, 'score': score})\n",
        "        except ValueError:\n",
        "            print(\"⚠️ 숫자로 점수를 입력하세요.\")\n",
        "\n",
        "    # 학생별 결과 출력\n",
        "    print(\"\\n[학생별 성적 및 등급]\")\n",
        "    for s in students:\n",
        "        grade = get_grade(s['score'])\n",
        "        print(f\"{s['name']} - 점수: {s['score']}점 / 등급: {grade}\")\n",
        "\n",
        "    # 통계 분석 결과 출력\n",
        "    stats = analyze_scores(students)\n",
        "    if stats:\n",
        "        print(\"\\n[성적 통계]\")\n",
        "        print(f\"총 학생 수: {stats['total_students']}명\")\n",
        "        print(f\"평균 점수: {stats['average']:.2f}점\")\n",
        "        print(f\"최고 점수: {stats['max_score']}점\")\n",
        "        print(f\"최저 점수: {stats['min_score']}점\")\n",
        "    else:\n",
        "        print(\"입력된 학생 정보가 없습니다.\")\n"
      ],
      "metadata": {
        "id": "zQySf844OP_u"
      },
      "execution_count": null,
      "outputs": []
    },
    {
      "cell_type": "code",
      "source": [
        "import random\n",
        "from datetime import datetime\n",
        "\n",
        "def generate_lotto_numbers():\n",
        "# 로또 번호 6개를 생성합니다.\n",
        "    numbers = random.sample(range(1, 46), 6)\n",
        "    return sorted(numbers)\n",
        "\n",
        "def generate_multiple_games(count):\n",
        "# 여러 게임의 로또 번호를 생성합니다.\n",
        "\n",
        "    games = []\n",
        "    for i in range(count):\n",
        "        numbers = generate_lotto_numbers()\n",
        "        games.append(f\"게임 {i+1}: {numbers}\")\n",
        "    return games\n",
        "\n",
        "def check_winning(my_numbers, winning_numbers):\n",
        "# 당첨 번호와 내 번호를 비교합니다.\n",
        "    matches = set(my_numbers) & set(winning_numbers)\n",
        "    match_count = len(matches)\n",
        "    prizes = {\n",
        "        6: \"1등 (잭팟!)\",\n",
        "        5: \"3등\",\n",
        "        4: \"4등\",\n",
        "        3: \"5등\"\n",
        "\n",
        "    }\n",
        "\n",
        "    if match_count in prizes:\n",
        "        return f\"{match_count}개 일치 - {prizes[match_count]}\"\n",
        "    else:\n",
        "        return f\"{match_count}개 일치 - 낙첨\"\n",
        "\n",
        "def save_numbers_to_file(games):\n",
        "# 생성된 번호를 파일로 저장합니다.\n",
        "    timestamp = datetime.now().strftime(\"%Y%m%d_%H%M%S\")\n",
        "    filename = f\"lotto_numbers_{timestamp}.txt\"\n",
        "\n",
        "    with open(filename,'w', encoding='utf-8') as f:\n",
        "        f.write(f\"로또 번호 생성 일시: {datetime.now()}\\n\")\n",
        "        f.write(\"=\" * 40 + \"\\n\")\n",
        "        for game in games:\n",
        "            f.write(game + \"\\n\")\n",
        "    print(f\"번호가 {filename}에 저장되었습니다.\")"
      ],
      "metadata": {
        "id": "2VM7_88DXqwv"
      },
      "execution_count": null,
      "outputs": []
    },
    {
      "cell_type": "code",
      "source": [
        "def solution(numbers):\n",
        "    answer = sum(numbers) / len(numbers)\n",
        "    return answer\n",
        "\n",
        "result = solution([2,6,1,4,6,7,2,1,4,1])\n",
        "\n",
        "print(result)"
      ],
      "metadata": {
        "colab": {
          "base_uri": "https://localhost:8080/"
        },
        "id": "E1Pz-SYNNsrU",
        "outputId": "3a629369-45da-4689-c02e-720d1f890fcf"
      },
      "execution_count": null,
      "outputs": [
        {
          "output_type": "stream",
          "name": "stdout",
          "text": [
            "3.4\n"
          ]
        }
      ]
    },
    {
      "cell_type": "code",
      "source": [
        "def solution(num_list):\n",
        "    answer = num_list[]\n",
        "    return answer"
      ],
      "metadata": {
        "id": "FN2Nr9LwRLdQ"
      },
      "execution_count": null,
      "outputs": []
    },
    {
      "cell_type": "code",
      "source": [
        "def solution(n):\n",
        "    return n // 7 + (1 if n % 7 != 0 else 0)\n",
        "\n",
        "result = solution(15)\n",
        "print(result)"
      ],
      "metadata": {
        "colab": {
          "base_uri": "https://localhost:8080/"
        },
        "id": "M71jAiXU0dAz",
        "outputId": "668addfc-68bf-4693-cd8d-4ddef5915b37"
      },
      "execution_count": null,
      "outputs": [
        {
          "output_type": "stream",
          "name": "stdout",
          "text": [
            "3\n"
          ]
        }
      ]
    },
    {
      "cell_type": "code",
      "source": [
        "def solution(n, t):\n",
        "    return n * (2 ** t)\n",
        "\n",
        "print(solution(3123, 10))"
      ],
      "metadata": {
        "colab": {
          "base_uri": "https://localhost:8080/"
        },
        "id": "63OCZRH-7KH9",
        "outputId": "8bc095bf-dc4a-4753-f9df-9f595d0c26fa"
      },
      "execution_count": null,
      "outputs": [
        {
          "output_type": "stream",
          "name": "stdout",
          "text": [
            "3197952\n"
          ]
        }
      ]
    },
    {
      "cell_type": "code",
      "source": [
        "def solution(n):\n",
        "    answer = 0\n",
        "    for i in str(n):\n",
        "        answer += int(i)\n",
        "    return answer\n",
        "print(solution(9532))"
      ],
      "metadata": {
        "colab": {
          "base_uri": "https://localhost:8080/"
        },
        "id": "M-hleQQiC8Ho",
        "outputId": "112f6733-e35c-40b2-d649-62b1564f73cd"
      },
      "execution_count": null,
      "outputs": [
        {
          "output_type": "stream",
          "name": "stdout",
          "text": [
            "19\n"
          ]
        }
      ]
    },
    {
      "cell_type": "code",
      "source": [
        "def solution(array, height):\n",
        "    answer = []\n",
        "    for i in array:\n",
        "        if i > height:\n",
        "            answer.append(i)\n",
        "    return len(answer)\n",
        "\n",
        "print(solution([160,250,170,280,380],180))"
      ],
      "metadata": {
        "colab": {
          "base_uri": "https://localhost:8080/"
        },
        "id": "D2b8BwFDQ5Th",
        "outputId": "35fc001c-7ca2-408a-cafd-ca9503be9f8e"
      },
      "execution_count": null,
      "outputs": [
        {
          "output_type": "stream",
          "name": "stdout",
          "text": [
            "3\n"
          ]
        }
      ]
    },
    {
      "cell_type": "code",
      "source": [
        "def solution(sides):\n",
        "    sides.sort(reverse = True)\n",
        "    return (1 if sides[0] < sides[1]+sides[2] else 2)\n",
        "\n",
        "print(solution([8,3,4]))"
      ],
      "metadata": {
        "colab": {
          "base_uri": "https://localhost:8080/"
        },
        "id": "kstRk9NcTP-q",
        "outputId": "368d01dd-2e6e-4691-cf55-e8aaf579b1ca"
      },
      "execution_count": null,
      "outputs": [
        {
          "output_type": "stream",
          "name": "stdout",
          "text": [
            "2\n"
          ]
        }
      ]
    },
    {
      "cell_type": "code",
      "source": [
        "def solution(numbers, num1, num2):\n",
        "    return numbers[num1:num2+1]\n",
        "\n",
        "print(solution([1,2,3,4,5,6], 1 ,4))"
      ],
      "metadata": {
        "colab": {
          "base_uri": "https://localhost:8080/"
        },
        "id": "ktCySQEwVDFK",
        "outputId": "68401230-2d70-4b48-b2ef-e8e929c279ec"
      },
      "execution_count": null,
      "outputs": [
        {
          "output_type": "stream",
          "name": "stdout",
          "text": [
            "[2, 3, 4, 5]\n"
          ]
        }
      ]
    },
    {
      "cell_type": "code",
      "source": [
        "def solution(slice, n):\n",
        "    answer = n // slice\n",
        "    if n % slice != 0:\n",
        "        return answer + 1\n",
        "    else:\n",
        "        return answer\n",
        "# 또는\n",
        "# return n // slice + 1 if n % slice !=0 else n // slice\n",
        "\n",
        "print(solution(5,7))\n",
        "\n",
        "\n",
        "\n"
      ],
      "metadata": {
        "colab": {
          "base_uri": "https://localhost:8080/"
        },
        "id": "_mbSkajMZ7Zm",
        "outputId": "8a6cadbd-f660-4101-b50b-5f95621b7810"
      },
      "execution_count": null,
      "outputs": [
        {
          "output_type": "stream",
          "name": "stdout",
          "text": [
            "2\n"
          ]
        }
      ]
    },
    {
      "cell_type": "code",
      "source": [
        "\n",
        "def solution(dot):\n",
        "    x,y = dot\n",
        "    if x*y>0:\n",
        "        return 1 if x>0 else 3\n",
        "    else:\n",
        "        return 4 if x>0 else 2\n",
        "\n",
        "# 1,2,3,4 분면 판별.\n",
        "# 이런 건 좀 배워야 된다. 너무 깔끔"
      ],
      "metadata": {
        "id": "qvTfDjWj9aqI"
      },
      "execution_count": null,
      "outputs": []
    },
    {
      "cell_type": "code",
      "source": [
        "def solution(s1, s2):\n",
        "    answer = 0\n",
        "    for i in range(len(s1)):\n",
        "        for j in range(len(s2)):\n",
        "            if s1[i] == s2[j]:\n",
        "                answer += 1\n",
        "    return answer\n",
        "\n",
        "    # return sum(1 for i in s1 for j in s2 if i == j) 이런 형태 가능\n",
        "    # return len(set(s1)&set(s2)) 이것도 가능\n"
      ],
      "metadata": {
        "id": "Qgkr2kWjlaaw"
      },
      "execution_count": null,
      "outputs": []
    },
    {
      "cell_type": "code",
      "source": [
        "def solution(n):\n",
        "    answer = 0\n",
        "    for i in range(n):\n",
        "        if n % (i + 1) == 0:\n",
        "            answer += 1\n",
        "    return answer\n",
        "\n",
        "# return sum(1 for i in range(n) if n % (i + 1)==0)\n",
        "\n"
      ],
      "metadata": {
        "colab": {
          "base_uri": "https://localhost:8080/"
        },
        "id": "wS_2eEeEALPe",
        "outputId": "989d761a-1a59-45d4-ce94-8bc5cc758224"
      },
      "execution_count": null,
      "outputs": [
        {
          "output_type": "stream",
          "name": "stdout",
          "text": [
            "3\n"
          ]
        }
      ]
    },
    {
      "cell_type": "code",
      "source": [
        "def solution(n, numlist):\n",
        "    answer = []\n",
        "\n",
        "    for i in numlist:\n",
        "        if i % n == 0:\n",
        "            answer.append(i)\n",
        "    return answer\n",
        "\n",
        "print(solution(3, [4,1,2,3,6,7,8,9,10,10,12,13]))\n",
        "\n",
        "# return [i for i in numlist if i % n == 0]"
      ],
      "metadata": {
        "colab": {
          "base_uri": "https://localhost:8080/"
        },
        "id": "cqygkD9wGNvq",
        "outputId": "b30195a8-8b83-4bb2-e3d8-766aa2a1c953"
      },
      "execution_count": null,
      "outputs": [
        {
          "output_type": "stream",
          "name": "stdout",
          "text": [
            "[3, 6, 9, 12]\n"
          ]
        }
      ]
    },
    {
      "cell_type": "code",
      "source": [
        "def solution(strlist):\n",
        "    answer = []\n",
        "    for i in strlist:\n",
        "        answer.append(len(i))\n",
        "\n",
        "\n",
        "    return answer\n",
        "\n",
        "print(solution([\"안녕하세요.\",\"반갑습\",\"니다. 다\",\"들 더운\",\"데 뭐하\",\"셍ㅅ\"]))\n",
        "\n",
        "# answer = list(map(len, strlist))\n",
        "\n",
        "# return [len(str) for str in strlist]"
      ],
      "metadata": {
        "colab": {
          "base_uri": "https://localhost:8080/"
        },
        "id": "BtYp0hy6SFcf",
        "outputId": "b5da0e35-76b5-416d-bf29-7e9d8559ff25"
      },
      "execution_count": null,
      "outputs": [
        {
          "output_type": "stream",
          "name": "stdout",
          "text": [
            "[6, 3, 5, 4, 4, 2]\n"
          ]
        }
      ]
    },
    {
      "cell_type": "code",
      "source": [
        "def solution(str1, str2):\n",
        "    answer = 0\n",
        "\n",
        "    if str2 in str1:\n",
        "        answer = 1\n",
        "    else:\n",
        "        answer = 2\n",
        "    return answer\n",
        "\n",
        "# return 1 if str2 in str1 else 2\n",
        "# return 1 + int(str2 not in str1) -> False:0 True:1"
      ],
      "metadata": {
        "colab": {
          "base_uri": "https://localhost:8080/",
          "height": 108
        },
        "id": "7wPbuj-oVVwN",
        "outputId": "377fbbaf-60cc-4724-b61a-bef1f7f4d7ed"
      },
      "execution_count": null,
      "outputs": [
        {
          "output_type": "error",
          "ename": "SyntaxError",
          "evalue": "incomplete input (ipython-input-255690138.py, line 12)",
          "traceback": [
            "\u001b[0;36m  File \u001b[0;32m\"/tmp/ipython-input-255690138.py\"\u001b[0;36m, line \u001b[0;32m12\u001b[0m\n\u001b[0;31m    print(1 + int(5 not in 5)\u001b[0m\n\u001b[0m                             ^\u001b[0m\n\u001b[0;31mSyntaxError\u001b[0m\u001b[0;31m:\u001b[0m incomplete input\n"
          ]
        }
      ]
    },
    {
      "cell_type": "code",
      "source": [
        "def solution(my_string, n):\n",
        "    answer = ''\n",
        "    for i in my_string:\n",
        "        answer += i * n\n",
        "    return answer\n",
        "\n",
        "print(solution(\"hello\", 3))\n",
        "\n",
        "# return ''.join([i * n for i in my_string])"
      ],
      "metadata": {
        "colab": {
          "base_uri": "https://localhost:8080/"
        },
        "id": "molbSdrEclH0",
        "outputId": "8c747a5a-81dc-4e74-e013-d23bf09ea167"
      },
      "execution_count": null,
      "outputs": [
        {
          "output_type": "stream",
          "name": "stdout",
          "text": [
            "hhheeellllllooo\n"
          ]
        }
      ]
    },
    {
      "cell_type": "code",
      "source": [
        "def solution(my_string):\n",
        "    모음 = \"aeiouAEIOU\"\n",
        "    return ''.join(ch for ch in my_string if ch not in 모음)\n",
        "\n",
        "print(solution(\"abcdefghijklmnopqrstuvwxyz\"))"
      ],
      "metadata": {
        "colab": {
          "base_uri": "https://localhost:8080/"
        },
        "id": "9ALVJNFQhKux",
        "outputId": "45e314f6-7e0a-4174-a416-15d1279b790e"
      },
      "execution_count": null,
      "outputs": [
        {
          "output_type": "stream",
          "name": "stdout",
          "text": [
            "bcdfghjklmnpqrstvwxyz\n"
          ]
        }
      ]
    },
    {
      "cell_type": "code",
      "source": [
        "def solution(arr):\n",
        "    answer = ''\n",
        "    return ''.join(i for i in arr)\n",
        "\n",
        "print(solution([\"csadd\",\"i12dsj\",\"bcd\"]))"
      ],
      "metadata": {
        "colab": {
          "base_uri": "https://localhost:8080/"
        },
        "id": "Y2N6i0zGBdFf",
        "outputId": "571a83f3-069f-4a64-89be-ed3c41910481"
      },
      "execution_count": 2,
      "outputs": [
        {
          "output_type": "stream",
          "name": "stdout",
          "text": [
            "csaddi12dsjbcd\n"
          ]
        }
      ]
    },
    {
      "cell_type": "code",
      "source": [
        "def solution(numbers):\n",
        "    return list(int(i * 2) for i in numbers)\n",
        "\n"
      ],
      "metadata": {
        "id": "e1KWZjOqEke4"
      },
      "execution_count": null,
      "outputs": []
    },
    {
      "cell_type": "code",
      "source": [
        "def solution(array):\n",
        "    array.sort()\n",
        "    return array[len(array)//2:len(array)//2+1]\n",
        "\n",
        "# 결과는 [값]의 리스트가 나옴. 슬라이스를 썼기 때문에 정수가 나오지 않는다.\n",
        "\n"
      ],
      "metadata": {
        "id": "DYj79hTuI-RA"
      },
      "execution_count": null,
      "outputs": []
    },
    {
      "cell_type": "code",
      "source": [
        "def solution(n):\n",
        "    return sorted([i for i in range(n + 1) if i % 2 != 0])\n",
        "\n"
      ],
      "metadata": {
        "id": "fErW7RNaNL27"
      },
      "execution_count": null,
      "outputs": []
    }
  ]
}